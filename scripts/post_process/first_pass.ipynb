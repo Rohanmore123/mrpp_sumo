{
 "metadata": {
  "language_info": {
   "codemirror_mode": {
    "name": "ipython",
    "version": 3
   },
   "file_extension": ".py",
   "mimetype": "text/x-python",
   "name": "python",
   "nbconvert_exporter": "python",
   "pygments_lexer": "ipython3",
   "version": "3.6.9-final"
  },
  "orig_nbformat": 2,
  "kernelspec": {
   "name": "python369jvsc74a57bd031f2aee4e71d21fbe5cf8b01ff0e069b9275f58929596ceb00d14d90e3e16cd6",
   "display_name": "Python 3.6.9 64-bit"
  },
  "metadata": {
   "interpreter": {
    "hash": "31f2aee4e71d21fbe5cf8b01ff0e069b9275f58929596ceb00d14d90e3e16cd6"
   }
  }
 },
 "nbformat": 4,
 "nbformat_minor": 2,
 "cells": [
  {
   "cell_type": "code",
   "execution_count": 1,
   "metadata": {},
   "outputs": [],
   "source": [
    "import seaborn as sns\n",
    "import networkx as nx\n",
    "import plotly.graph_objects as go\n",
    "import matplotlib.pyplot as plt\n",
    "import rospkg\n",
    "import pandas as pd\n",
    "import numpy as np\n",
    "import yaml\n",
    "import math\n",
    "import matplotlib.cm as cm\n",
    "import matplotlib\n",
    "import os, sys, shutil\n",
    "import plotly\n",
    "\n",
    "def color_map_color(value, cmap_name='Reds', vmin=0, vmax=1):\n",
    "    # norm = plt.Normalize(vmin, vmax)\n",
    "    norm = matplotlib.colors.Normalize(vmin=vmin, vmax=vmax)\n",
    "    cmap = cm.get_cmap(cmap_name)  # PiYG\n",
    "    rgb = cmap(norm(abs(value)))[:3]  # will return rgba, we take only first 3 so we get rgb\n",
    "    color = matplotlib.colors.rgb2hex(rgb)\n",
    "    return color\n",
    "\n",
    "dirname = rospkg.RosPack().get_path('mrpp_sumo')"
   ]
  },
  {
   "cell_type": "code",
   "execution_count": 2,
   "metadata": {},
   "outputs": [],
   "source": [
    "#name of the yaml/output files\n",
    "name = 'arv6'\n",
    "\n",
    "#path to directory containing 'config' and 'outputs'\n",
    "# dirdata = '/home/sdeepakmallya/data_hd/mrpp_sumo_backup/27_01_2021'\n",
    "\n",
    "# sim_dir = dirdata + '/post_process/' + name\n",
    "# os.mkdir(sim_dir)\n",
    "# shutil.copy('{}/config/{}.yaml'.format(dirdata, name), sim_dir)\n",
    "# shutil.copy('{}/outputs/{}_visits.in'.format(dirdata, name), sim_dir)\n",
    "# shutil.copy('{}/outputs/{}_command.in'.format(dirdata, name), sim_dir)\n",
    "# shutil.copy('{}/outputs/{}_vehicle.xml'.format(dirdata, name), sim_dir)"
   ]
  },
  {
   "cell_type": "code",
   "execution_count": 3,
   "metadata": {},
   "outputs": [],
   "source": [
    "#get config and parameters\n",
    "with open('{}/config/{}.yaml'.format(dirname,name), 'r') as f:\n",
    "    config = yaml.load(f, yaml.FullLoader)\n",
    "# print(config)\n",
    "\n",
    "graph = nx.read_graphml(dirname + '/graph_ml/{}.graphml'.format(config['graph']))\n",
    "nodes = list(graph.nodes())\n",
    "edges = [graph[e[0]][e[1]]['name'] for e in list(graph.edges())]\n",
    "n = len(nodes)\n",
    "num_bots = int(config['init_bots'])\n",
    "sim_length = int(config['sim_length'])\n",
    "algo_name = config['algo_name']"
   ]
  },
  {
   "cell_type": "code",
   "execution_count": 4,
   "metadata": {},
   "outputs": [],
   "source": [
    "#read visits.in data for a given config\n",
    "cols_n = ['time']\n",
    "cols_n.extend(nodes)\n",
    "df1 = pd.DataFrame(columns = cols_n)\n",
    "cols_e = ['time']\n",
    "cols_e.extend(edges)\n",
    "df2 = pd.DataFrame(columns = cols_e)\n",
    "df3 = pd.DataFrame(columns = nodes, index = ['bot_{}'.format(i) for i in range(num_bots)])\n",
    "df3 = df3.fillna(0)         \n",
    "\n",
    "with open('{}/outputs/{}_visits.in'.format(dirdata, name), 'r') as f:\n",
    "    robots = {}\n",
    "    i = 0\n",
    "    cur_time = 0\n",
    "    cur_data_n = {}\n",
    "    cur_data_e = {}\n",
    "    for n in df1.columns:\n",
    "        cur_data_n[n] = cur_time\n",
    "    for e in df2.columns:\n",
    "        cur_data_e[e] = cur_time\n",
    "\n",
    "    for l in f.readlines():\n",
    "        i += 1\n",
    "        if i % 3 == 1:\n",
    "            next_time = float(l)\n",
    "            while cur_time < next_time:\n",
    "                df1 = df1.append(cur_data_n, ignore_index = True)\n",
    "                df2 = df2.append(cur_data_e, ignore_index = True)\n",
    "                cur_time += 1\n",
    "                cur_data_n['time'] = cur_time\n",
    "                cur_data_e['time'] = cur_time\n",
    "                for n in nodes:\n",
    "                    cur_data_n[n] += 1\n",
    "                \n",
    "        elif i % 3 == 2:\n",
    "            cur_nodes = l.strip('\\n').split(' ')\n",
    "            for n in cur_nodes:\n",
    "                cur_data_n[n] = 0\n",
    "        else:\n",
    "            cur_robots = l.strip('\\n').split(' ')\n",
    "            for r in range(len(cur_robots)):\n",
    "                if not cur_robots[r] in robots.keys():\n",
    "                    robots[cur_robots[r]] = cur_nodes[r]\n",
    "                    df3[cur_nodes[r]][cur_robots[r]] += 1\n",
    "                else:\n",
    "                    try:\n",
    "                        cur_data_e[graph[robots[cur_robots[r]]][cur_nodes[r]]['name']] += 1\n",
    "                        robots[cur_robots[r]] = cur_nodes[r]\n",
    "                        df3[cur_nodes[r]][cur_robots[r]] += 1\n",
    "                    except:\n",
    "                        pass\n",
    "df1.set_index('time')\n",
    "df2.set_index('time')\n",
    "\n",
    "df1.to_csv(sim_dir + '/{}_node.csv'.format(name))\n",
    "df2.to_csv(sim_dir + '/{}_edge.csv'.format(name))\n",
    "df3.to_csv(sim_dir + '/{}_bot.csv'.format(name))"
   ]
  },
  {
   "cell_type": "code",
   "execution_count": 17,
   "metadata": {},
   "outputs": [
    {
     "output_type": "error",
     "ename": "NameError",
     "evalue": "name 'df1' is not defined",
     "traceback": [
      "\u001b[0;31m---------------------------------------------------------------------------\u001b[0m",
      "\u001b[0;31mNameError\u001b[0m                                 Traceback (most recent call last)",
      "\u001b[0;32m<ipython-input-17-d26b7a3b7eaa>\u001b[0m in \u001b[0;36m<module>\u001b[0;34m\u001b[0m\n\u001b[1;32m      7\u001b[0m \u001b[0;31m# plt.subplots_adjust(top= 0.2)\u001b[0m\u001b[0;34m\u001b[0m\u001b[0;34m\u001b[0m\u001b[0;34m\u001b[0m\u001b[0m\n\u001b[1;32m      8\u001b[0m \u001b[0msns\u001b[0m\u001b[0;34m.\u001b[0m\u001b[0mset\u001b[0m\u001b[0;34m(\u001b[0m\u001b[0mrc\u001b[0m \u001b[0;34m=\u001b[0m \u001b[0;34m{\u001b[0m\u001b[0;34m'figure.figsize'\u001b[0m\u001b[0;34m:\u001b[0m\u001b[0;34m(\u001b[0m\u001b[0;36m20\u001b[0m\u001b[0;34m,\u001b[0m \u001b[0;36m100\u001b[0m\u001b[0;34m)\u001b[0m\u001b[0;34m}\u001b[0m\u001b[0;34m)\u001b[0m\u001b[0;34m\u001b[0m\u001b[0;34m\u001b[0m\u001b[0m\n\u001b[0;32m----> 9\u001b[0;31m \u001b[0msns\u001b[0m\u001b[0;34m.\u001b[0m\u001b[0mrelplot\u001b[0m\u001b[0;34m(\u001b[0m\u001b[0mdata\u001b[0m\u001b[0;34m=\u001b[0m \u001b[0mdf1\u001b[0m\u001b[0;34m.\u001b[0m\u001b[0mloc\u001b[0m\u001b[0;34m[\u001b[0m\u001b[0;34m:\u001b[0m\u001b[0;34m:\u001b[0m\u001b[0;36m100\u001b[0m\u001b[0;34m,\u001b[0m \u001b[0mnodes\u001b[0m\u001b[0;34m]\u001b[0m\u001b[0;34m,\u001b[0m \u001b[0mkind\u001b[0m\u001b[0;34m=\u001b[0m\u001b[0;34m'scatter'\u001b[0m\u001b[0;34m)\u001b[0m\u001b[0;34m\u001b[0m\u001b[0;34m\u001b[0m\u001b[0m\n\u001b[0m\u001b[1;32m     10\u001b[0m \u001b[0mplt\u001b[0m\u001b[0;34m.\u001b[0m\u001b[0msuptitle\u001b[0m\u001b[0;34m(\u001b[0m\u001b[0;34m'Node Idleness Values vs Time'\u001b[0m\u001b[0;34m,\u001b[0m \u001b[0msize\u001b[0m \u001b[0;34m=\u001b[0m \u001b[0;36m18\u001b[0m\u001b[0;34m,\u001b[0m \u001b[0my\u001b[0m \u001b[0;34m=\u001b[0m \u001b[0;36m1.02\u001b[0m\u001b[0;34m,\u001b[0m \u001b[0mx\u001b[0m \u001b[0;34m=\u001b[0m \u001b[0;36m0.4\u001b[0m\u001b[0;34m)\u001b[0m\u001b[0;34m\u001b[0m\u001b[0;34m\u001b[0m\u001b[0m\n\u001b[1;32m     11\u001b[0m \u001b[0msns\u001b[0m\u001b[0;34m.\u001b[0m\u001b[0mlineplot\u001b[0m\u001b[0;34m(\u001b[0m\u001b[0mdata\u001b[0m \u001b[0;34m=\u001b[0m \u001b[0mdf1\u001b[0m\u001b[0;34m.\u001b[0m\u001b[0miloc\u001b[0m\u001b[0;34m[\u001b[0m\u001b[0;34m:\u001b[0m\u001b[0;34m:\u001b[0m\u001b[0;36m100\u001b[0m\u001b[0;34m]\u001b[0m\u001b[0;34m,\u001b[0m \u001b[0mx\u001b[0m \u001b[0;34m=\u001b[0m \u001b[0;34m'time'\u001b[0m\u001b[0;34m,\u001b[0m \u001b[0my\u001b[0m \u001b[0;34m=\u001b[0m \u001b[0mdf1\u001b[0m\u001b[0;34m.\u001b[0m\u001b[0mloc\u001b[0m\u001b[0;34m[\u001b[0m\u001b[0;34m:\u001b[0m\u001b[0;34m:\u001b[0m\u001b[0;36m100\u001b[0m\u001b[0;34m,\u001b[0m \u001b[0mnodes\u001b[0m\u001b[0;34m]\u001b[0m\u001b[0;34m.\u001b[0m\u001b[0mmean\u001b[0m\u001b[0;34m(\u001b[0m\u001b[0maxis\u001b[0m \u001b[0;34m=\u001b[0m \u001b[0;36m1\u001b[0m\u001b[0;34m)\u001b[0m\u001b[0;34m,\u001b[0m \u001b[0mlegend\u001b[0m \u001b[0;34m=\u001b[0m \u001b[0;32mFalse\u001b[0m\u001b[0;34m,\u001b[0m \u001b[0mlinewidth\u001b[0m \u001b[0;34m=\u001b[0m \u001b[0;36m3\u001b[0m\u001b[0;34m)\u001b[0m\u001b[0;34m\u001b[0m\u001b[0;34m\u001b[0m\u001b[0m\n",
      "\u001b[0;31mNameError\u001b[0m: name 'df1' is not defined"
     ]
    }
   ],
   "source": [
    "# plot scatter plot of idleness vs time for all nodes\n",
    "# dpi1 = 100\n",
    "plt.figure()\n",
    "sns.set_style('white')\n",
    "sns.set_context(font_scale= 1, rc = {\"font.size\" : 15, \"axes.titlesize\" : 20})\n",
    "# plt.subplots(figsize = (10, 20))\n",
    "# plt.subplots_adjust(top= 0.2)\n",
    "sns.set(rc = {'figure.figsize':(20, 100)})\n",
    "sns.relplot(data= df1.loc[::100, nodes], kind='scatter')\n",
    "plt.suptitle('Node Idleness Values vs Time', size = 18, y = 1.02, x = 0.4)\n",
    "sns.lineplot(data = df1.iloc[::100], x = 'time', y = df1.loc[::100, nodes].mean(axis = 1), legend = False, linewidth = 3)\n",
    "plt.xticks(rotation = 30)\n",
    "plt.ylabel('Node Idleness')\n",
    "# plt.show()\n",
    "plt.savefig('{}/{}_scatter.png'.format(sim_dir, name), bbox_inches='tight')"
   ]
  },
  {
   "cell_type": "code",
   "execution_count": 6,
   "metadata": {},
   "outputs": [],
   "source": [
    "# plotly.io.orca.config.executable = '/usr/lib/python3/dist-packages'\n",
    "d = 20 #radius of nodes\n",
    "edge_x = []\n",
    "edge_y = []\n",
    "for edge in graph.edges():\n",
    "    x0, y0 = graph.nodes[edge[0]]['x'], graph.nodes[edge[0]]['y']\n",
    "    x1, y1 = graph.nodes[edge[1]]['x'], graph.nodes[edge[1]]['y']\n",
    "    edge_x.append(x0)\n",
    "    edge_x.append(x1)\n",
    "    edge_x.append(None)\n",
    "    edge_y.append(y0)\n",
    "    edge_y.append(y1)\n",
    "    edge_y.append(None)\n",
    "\n",
    "# edge_trace = go.Scatter(x=edge_x, y=edge_y, line=dict(width=0.5, color='#888', shape = 'linear'), hoverinfo='none', mode='lines')\n",
    "\n",
    "node_x = []\n",
    "node_y = []\n",
    "avg_idle = []\n",
    "max_idle = []\n",
    "for node in graph.nodes():\n",
    "    x, y = graph.nodes[node]['x'], graph.nodes[node]['y']\n",
    "    node_x.append(x)\n",
    "    node_y.append(y)\n",
    "    # avg_idle.append(df1[node].mean())\n",
    "    # max_idle.append(df1[node].max())\n",
    "\n",
    "node_trace = go.Scatter(\n",
    "    x=node_x, y=node_y,\n",
    "    mode='markers',\n",
    "    hoverinfo='text',\n",
    "    marker=dict(\n",
    "        showscale=False,\n",
    "        # colorscale options\n",
    "        #'Greys' | 'YlGnBu' | 'Greens' | 'YlOrRd' | 'Bluered' | 'RdBu' |\n",
    "        #'Reds' | 'Blues' | 'Picnic' | 'Rainbow' | 'Portland' | 'Jet' |\n",
    "        #'Hot' | 'Blackbody' | 'Earth' | 'Electric' | 'Viridis' |\n",
    "        colorscale='Blues',\n",
    "        reversescale=False,\n",
    "        color='white',\n",
    "        size=2 * d,\n",
    "        # opacity = 0.5,\n",
    "        # showscale = False,\n",
    "        # colorbar=dict(\n",
    "        #     thickness=15,\n",
    "        #     title='Node Connections',\n",
    "        #     xanchor='left',\n",
    "        #     titleside='right'\n",
    "        # ),\n",
    "        line_width=2))"
   ]
  },
  {
   "cell_type": "code",
   "execution_count": 7,
   "metadata": {},
   "outputs": [
    {
     "output_type": "display_data",
     "data": {
      "application/vnd.plotly.v1+json": {
       "config": {
        "plotlyServerURL": "https://plot.ly"
       },
       "data": [
        {
         "hoverinfo": "text",
         "marker": {
          "color": "white",
          "colorscale": [
           [
            0,
            "rgb(247,251,255)"
           ],
           [
            0.125,
            "rgb(222,235,247)"
           ],
           [
            0.25,
            "rgb(198,219,239)"
           ],
           [
            0.375,
            "rgb(158,202,225)"
           ],
           [
            0.5,
            "rgb(107,174,214)"
           ],
           [
            0.625,
            "rgb(66,146,198)"
           ],
           [
            0.75,
            "rgb(33,113,181)"
           ],
           [
            0.875,
            "rgb(8,81,156)"
           ],
           [
            1,
            "rgb(8,48,107)"
           ]
          ],
          "line": {
           "width": 2
          },
          "reversescale": false,
          "showscale": false,
          "size": 40
         },
         "mode": "markers",
         "type": "scatter",
         "x": [
          600,
          900,
          800,
          700,
          500,
          400,
          300,
          200,
          100,
          0
         ],
         "y": [
          100,
          100,
          100,
          100,
          100,
          100,
          100,
          100,
          100,
          100
         ]
        }
       ],
       "layout": {
        "annotations": [
         {
          "arrowcolor": "black",
          "arrowhead": 1,
          "arrowsize": 2,
          "arrowwidth": 1,
          "ax": 510,
          "axref": "x",
          "ay": 100,
          "ayref": "y",
          "showarrow": true,
          "text": "",
          "x": 590,
          "xref": "x",
          "y": 100,
          "yref": "y"
         },
         {
          "arrowcolor": "black",
          "arrowhead": 1,
          "arrowsize": 2,
          "arrowwidth": 1,
          "ax": 690,
          "axref": "x",
          "ay": 100,
          "ayref": "y",
          "showarrow": true,
          "text": "",
          "x": 610,
          "xref": "x",
          "y": 100,
          "yref": "y"
         },
         {
          "arrowcolor": "black",
          "arrowhead": 1,
          "arrowsize": 2,
          "arrowwidth": 1,
          "ax": 810,
          "axref": "x",
          "ay": 100,
          "ayref": "y",
          "showarrow": true,
          "text": "",
          "x": 890,
          "xref": "x",
          "y": 100,
          "yref": "y"
         },
         {
          "arrowcolor": "black",
          "arrowhead": 1,
          "arrowsize": 2,
          "arrowwidth": 1,
          "ax": 890,
          "axref": "x",
          "ay": 100,
          "ayref": "y",
          "showarrow": true,
          "text": "",
          "x": 810,
          "xref": "x",
          "y": 100,
          "yref": "y"
         },
         {
          "arrowcolor": "black",
          "arrowhead": 1,
          "arrowsize": 2,
          "arrowwidth": 1,
          "ax": 710,
          "axref": "x",
          "ay": 100,
          "ayref": "y",
          "showarrow": true,
          "text": "",
          "x": 790,
          "xref": "x",
          "y": 100,
          "yref": "y"
         },
         {
          "arrowcolor": "black",
          "arrowhead": 1,
          "arrowsize": 2,
          "arrowwidth": 1,
          "ax": 610,
          "axref": "x",
          "ay": 100,
          "ayref": "y",
          "showarrow": true,
          "text": "",
          "x": 690,
          "xref": "x",
          "y": 100,
          "yref": "y"
         },
         {
          "arrowcolor": "black",
          "arrowhead": 1,
          "arrowsize": 2,
          "arrowwidth": 1,
          "ax": 790,
          "axref": "x",
          "ay": 100,
          "ayref": "y",
          "showarrow": true,
          "text": "",
          "x": 710,
          "xref": "x",
          "y": 100,
          "yref": "y"
         },
         {
          "arrowcolor": "black",
          "arrowhead": 1,
          "arrowsize": 2,
          "arrowwidth": 1,
          "ax": 410,
          "axref": "x",
          "ay": 100,
          "ayref": "y",
          "showarrow": true,
          "text": "",
          "x": 490,
          "xref": "x",
          "y": 100,
          "yref": "y"
         },
         {
          "arrowcolor": "black",
          "arrowhead": 1,
          "arrowsize": 2,
          "arrowwidth": 1,
          "ax": 590,
          "axref": "x",
          "ay": 100,
          "ayref": "y",
          "showarrow": true,
          "text": "",
          "x": 510,
          "xref": "x",
          "y": 100,
          "yref": "y"
         },
         {
          "arrowcolor": "black",
          "arrowhead": 1,
          "arrowsize": 2,
          "arrowwidth": 1,
          "ax": 490,
          "axref": "x",
          "ay": 100,
          "ayref": "y",
          "showarrow": true,
          "text": "",
          "x": 410,
          "xref": "x",
          "y": 100,
          "yref": "y"
         },
         {
          "arrowcolor": "black",
          "arrowhead": 1,
          "arrowsize": 2,
          "arrowwidth": 1,
          "ax": 310,
          "axref": "x",
          "ay": 100,
          "ayref": "y",
          "showarrow": true,
          "text": "",
          "x": 390,
          "xref": "x",
          "y": 100,
          "yref": "y"
         },
         {
          "arrowcolor": "black",
          "arrowhead": 1,
          "arrowsize": 2,
          "arrowwidth": 1,
          "ax": 390,
          "axref": "x",
          "ay": 100,
          "ayref": "y",
          "showarrow": true,
          "text": "",
          "x": 310,
          "xref": "x",
          "y": 100,
          "yref": "y"
         },
         {
          "arrowcolor": "black",
          "arrowhead": 1,
          "arrowsize": 2,
          "arrowwidth": 1,
          "ax": 210,
          "axref": "x",
          "ay": 100,
          "ayref": "y",
          "showarrow": true,
          "text": "",
          "x": 290,
          "xref": "x",
          "y": 100,
          "yref": "y"
         },
         {
          "arrowcolor": "black",
          "arrowhead": 1,
          "arrowsize": 2,
          "arrowwidth": 1,
          "ax": 290,
          "axref": "x",
          "ay": 100,
          "ayref": "y",
          "showarrow": true,
          "text": "",
          "x": 210,
          "xref": "x",
          "y": 100,
          "yref": "y"
         },
         {
          "arrowcolor": "black",
          "arrowhead": 1,
          "arrowsize": 2,
          "arrowwidth": 1,
          "ax": 110,
          "axref": "x",
          "ay": 100,
          "ayref": "y",
          "showarrow": true,
          "text": "",
          "x": 190,
          "xref": "x",
          "y": 100,
          "yref": "y"
         },
         {
          "arrowcolor": "black",
          "arrowhead": 1,
          "arrowsize": 2,
          "arrowwidth": 1,
          "ax": 190,
          "axref": "x",
          "ay": 100,
          "ayref": "y",
          "showarrow": true,
          "text": "",
          "x": 110,
          "xref": "x",
          "y": 100,
          "yref": "y"
         },
         {
          "arrowcolor": "black",
          "arrowhead": 1,
          "arrowsize": 2,
          "arrowwidth": 1,
          "ax": 10,
          "axref": "x",
          "ay": 100,
          "ayref": "y",
          "showarrow": true,
          "text": "",
          "x": 90,
          "xref": "x",
          "y": 100,
          "yref": "y"
         },
         {
          "arrowcolor": "black",
          "arrowhead": 1,
          "arrowsize": 2,
          "arrowwidth": 1,
          "ax": 90,
          "axref": "x",
          "ay": 100,
          "ayref": "y",
          "showarrow": true,
          "text": "",
          "x": 10,
          "xref": "x",
          "y": 100,
          "yref": "y"
         }
        ],
        "height": 1000,
        "hovermode": "closest",
        "margin": {
         "b": 20,
         "l": 5,
         "r": 5,
         "t": 40
        },
        "plot_bgcolor": "rgba(0, 0, 0, 0)",
        "showlegend": false,
        "template": {
         "data": {
          "bar": [
           {
            "error_x": {
             "color": "#2a3f5f"
            },
            "error_y": {
             "color": "#2a3f5f"
            },
            "marker": {
             "line": {
              "color": "#E5ECF6",
              "width": 0.5
             }
            },
            "type": "bar"
           }
          ],
          "barpolar": [
           {
            "marker": {
             "line": {
              "color": "#E5ECF6",
              "width": 0.5
             }
            },
            "type": "barpolar"
           }
          ],
          "carpet": [
           {
            "aaxis": {
             "endlinecolor": "#2a3f5f",
             "gridcolor": "white",
             "linecolor": "white",
             "minorgridcolor": "white",
             "startlinecolor": "#2a3f5f"
            },
            "baxis": {
             "endlinecolor": "#2a3f5f",
             "gridcolor": "white",
             "linecolor": "white",
             "minorgridcolor": "white",
             "startlinecolor": "#2a3f5f"
            },
            "type": "carpet"
           }
          ],
          "choropleth": [
           {
            "colorbar": {
             "outlinewidth": 0,
             "ticks": ""
            },
            "type": "choropleth"
           }
          ],
          "contour": [
           {
            "colorbar": {
             "outlinewidth": 0,
             "ticks": ""
            },
            "colorscale": [
             [
              0,
              "#0d0887"
             ],
             [
              0.1111111111111111,
              "#46039f"
             ],
             [
              0.2222222222222222,
              "#7201a8"
             ],
             [
              0.3333333333333333,
              "#9c179e"
             ],
             [
              0.4444444444444444,
              "#bd3786"
             ],
             [
              0.5555555555555556,
              "#d8576b"
             ],
             [
              0.6666666666666666,
              "#ed7953"
             ],
             [
              0.7777777777777778,
              "#fb9f3a"
             ],
             [
              0.8888888888888888,
              "#fdca26"
             ],
             [
              1,
              "#f0f921"
             ]
            ],
            "type": "contour"
           }
          ],
          "contourcarpet": [
           {
            "colorbar": {
             "outlinewidth": 0,
             "ticks": ""
            },
            "type": "contourcarpet"
           }
          ],
          "heatmap": [
           {
            "colorbar": {
             "outlinewidth": 0,
             "ticks": ""
            },
            "colorscale": [
             [
              0,
              "#0d0887"
             ],
             [
              0.1111111111111111,
              "#46039f"
             ],
             [
              0.2222222222222222,
              "#7201a8"
             ],
             [
              0.3333333333333333,
              "#9c179e"
             ],
             [
              0.4444444444444444,
              "#bd3786"
             ],
             [
              0.5555555555555556,
              "#d8576b"
             ],
             [
              0.6666666666666666,
              "#ed7953"
             ],
             [
              0.7777777777777778,
              "#fb9f3a"
             ],
             [
              0.8888888888888888,
              "#fdca26"
             ],
             [
              1,
              "#f0f921"
             ]
            ],
            "type": "heatmap"
           }
          ],
          "heatmapgl": [
           {
            "colorbar": {
             "outlinewidth": 0,
             "ticks": ""
            },
            "colorscale": [
             [
              0,
              "#0d0887"
             ],
             [
              0.1111111111111111,
              "#46039f"
             ],
             [
              0.2222222222222222,
              "#7201a8"
             ],
             [
              0.3333333333333333,
              "#9c179e"
             ],
             [
              0.4444444444444444,
              "#bd3786"
             ],
             [
              0.5555555555555556,
              "#d8576b"
             ],
             [
              0.6666666666666666,
              "#ed7953"
             ],
             [
              0.7777777777777778,
              "#fb9f3a"
             ],
             [
              0.8888888888888888,
              "#fdca26"
             ],
             [
              1,
              "#f0f921"
             ]
            ],
            "type": "heatmapgl"
           }
          ],
          "histogram": [
           {
            "marker": {
             "colorbar": {
              "outlinewidth": 0,
              "ticks": ""
             }
            },
            "type": "histogram"
           }
          ],
          "histogram2d": [
           {
            "colorbar": {
             "outlinewidth": 0,
             "ticks": ""
            },
            "colorscale": [
             [
              0,
              "#0d0887"
             ],
             [
              0.1111111111111111,
              "#46039f"
             ],
             [
              0.2222222222222222,
              "#7201a8"
             ],
             [
              0.3333333333333333,
              "#9c179e"
             ],
             [
              0.4444444444444444,
              "#bd3786"
             ],
             [
              0.5555555555555556,
              "#d8576b"
             ],
             [
              0.6666666666666666,
              "#ed7953"
             ],
             [
              0.7777777777777778,
              "#fb9f3a"
             ],
             [
              0.8888888888888888,
              "#fdca26"
             ],
             [
              1,
              "#f0f921"
             ]
            ],
            "type": "histogram2d"
           }
          ],
          "histogram2dcontour": [
           {
            "colorbar": {
             "outlinewidth": 0,
             "ticks": ""
            },
            "colorscale": [
             [
              0,
              "#0d0887"
             ],
             [
              0.1111111111111111,
              "#46039f"
             ],
             [
              0.2222222222222222,
              "#7201a8"
             ],
             [
              0.3333333333333333,
              "#9c179e"
             ],
             [
              0.4444444444444444,
              "#bd3786"
             ],
             [
              0.5555555555555556,
              "#d8576b"
             ],
             [
              0.6666666666666666,
              "#ed7953"
             ],
             [
              0.7777777777777778,
              "#fb9f3a"
             ],
             [
              0.8888888888888888,
              "#fdca26"
             ],
             [
              1,
              "#f0f921"
             ]
            ],
            "type": "histogram2dcontour"
           }
          ],
          "mesh3d": [
           {
            "colorbar": {
             "outlinewidth": 0,
             "ticks": ""
            },
            "type": "mesh3d"
           }
          ],
          "parcoords": [
           {
            "line": {
             "colorbar": {
              "outlinewidth": 0,
              "ticks": ""
             }
            },
            "type": "parcoords"
           }
          ],
          "pie": [
           {
            "automargin": true,
            "type": "pie"
           }
          ],
          "scatter": [
           {
            "marker": {
             "colorbar": {
              "outlinewidth": 0,
              "ticks": ""
             }
            },
            "type": "scatter"
           }
          ],
          "scatter3d": [
           {
            "line": {
             "colorbar": {
              "outlinewidth": 0,
              "ticks": ""
             }
            },
            "marker": {
             "colorbar": {
              "outlinewidth": 0,
              "ticks": ""
             }
            },
            "type": "scatter3d"
           }
          ],
          "scattercarpet": [
           {
            "marker": {
             "colorbar": {
              "outlinewidth": 0,
              "ticks": ""
             }
            },
            "type": "scattercarpet"
           }
          ],
          "scattergeo": [
           {
            "marker": {
             "colorbar": {
              "outlinewidth": 0,
              "ticks": ""
             }
            },
            "type": "scattergeo"
           }
          ],
          "scattergl": [
           {
            "marker": {
             "colorbar": {
              "outlinewidth": 0,
              "ticks": ""
             }
            },
            "type": "scattergl"
           }
          ],
          "scattermapbox": [
           {
            "marker": {
             "colorbar": {
              "outlinewidth": 0,
              "ticks": ""
             }
            },
            "type": "scattermapbox"
           }
          ],
          "scatterpolar": [
           {
            "marker": {
             "colorbar": {
              "outlinewidth": 0,
              "ticks": ""
             }
            },
            "type": "scatterpolar"
           }
          ],
          "scatterpolargl": [
           {
            "marker": {
             "colorbar": {
              "outlinewidth": 0,
              "ticks": ""
             }
            },
            "type": "scatterpolargl"
           }
          ],
          "scatterternary": [
           {
            "marker": {
             "colorbar": {
              "outlinewidth": 0,
              "ticks": ""
             }
            },
            "type": "scatterternary"
           }
          ],
          "surface": [
           {
            "colorbar": {
             "outlinewidth": 0,
             "ticks": ""
            },
            "colorscale": [
             [
              0,
              "#0d0887"
             ],
             [
              0.1111111111111111,
              "#46039f"
             ],
             [
              0.2222222222222222,
              "#7201a8"
             ],
             [
              0.3333333333333333,
              "#9c179e"
             ],
             [
              0.4444444444444444,
              "#bd3786"
             ],
             [
              0.5555555555555556,
              "#d8576b"
             ],
             [
              0.6666666666666666,
              "#ed7953"
             ],
             [
              0.7777777777777778,
              "#fb9f3a"
             ],
             [
              0.8888888888888888,
              "#fdca26"
             ],
             [
              1,
              "#f0f921"
             ]
            ],
            "type": "surface"
           }
          ],
          "table": [
           {
            "cells": {
             "fill": {
              "color": "#EBF0F8"
             },
             "line": {
              "color": "white"
             }
            },
            "header": {
             "fill": {
              "color": "#C8D4E3"
             },
             "line": {
              "color": "white"
             }
            },
            "type": "table"
           }
          ]
         },
         "layout": {
          "annotationdefaults": {
           "arrowcolor": "#2a3f5f",
           "arrowhead": 0,
           "arrowwidth": 1
          },
          "coloraxis": {
           "colorbar": {
            "outlinewidth": 0,
            "ticks": ""
           }
          },
          "colorscale": {
           "diverging": [
            [
             0,
             "#8e0152"
            ],
            [
             0.1,
             "#c51b7d"
            ],
            [
             0.2,
             "#de77ae"
            ],
            [
             0.3,
             "#f1b6da"
            ],
            [
             0.4,
             "#fde0ef"
            ],
            [
             0.5,
             "#f7f7f7"
            ],
            [
             0.6,
             "#e6f5d0"
            ],
            [
             0.7,
             "#b8e186"
            ],
            [
             0.8,
             "#7fbc41"
            ],
            [
             0.9,
             "#4d9221"
            ],
            [
             1,
             "#276419"
            ]
           ],
           "sequential": [
            [
             0,
             "#0d0887"
            ],
            [
             0.1111111111111111,
             "#46039f"
            ],
            [
             0.2222222222222222,
             "#7201a8"
            ],
            [
             0.3333333333333333,
             "#9c179e"
            ],
            [
             0.4444444444444444,
             "#bd3786"
            ],
            [
             0.5555555555555556,
             "#d8576b"
            ],
            [
             0.6666666666666666,
             "#ed7953"
            ],
            [
             0.7777777777777778,
             "#fb9f3a"
            ],
            [
             0.8888888888888888,
             "#fdca26"
            ],
            [
             1,
             "#f0f921"
            ]
           ],
           "sequentialminus": [
            [
             0,
             "#0d0887"
            ],
            [
             0.1111111111111111,
             "#46039f"
            ],
            [
             0.2222222222222222,
             "#7201a8"
            ],
            [
             0.3333333333333333,
             "#9c179e"
            ],
            [
             0.4444444444444444,
             "#bd3786"
            ],
            [
             0.5555555555555556,
             "#d8576b"
            ],
            [
             0.6666666666666666,
             "#ed7953"
            ],
            [
             0.7777777777777778,
             "#fb9f3a"
            ],
            [
             0.8888888888888888,
             "#fdca26"
            ],
            [
             1,
             "#f0f921"
            ]
           ]
          },
          "colorway": [
           "#636efa",
           "#EF553B",
           "#00cc96",
           "#ab63fa",
           "#FFA15A",
           "#19d3f3",
           "#FF6692",
           "#B6E880",
           "#FF97FF",
           "#FECB52"
          ],
          "font": {
           "color": "#2a3f5f"
          },
          "geo": {
           "bgcolor": "white",
           "lakecolor": "white",
           "landcolor": "#E5ECF6",
           "showlakes": true,
           "showland": true,
           "subunitcolor": "white"
          },
          "hoverlabel": {
           "align": "left"
          },
          "hovermode": "closest",
          "mapbox": {
           "style": "light"
          },
          "paper_bgcolor": "white",
          "plot_bgcolor": "#E5ECF6",
          "polar": {
           "angularaxis": {
            "gridcolor": "white",
            "linecolor": "white",
            "ticks": ""
           },
           "bgcolor": "#E5ECF6",
           "radialaxis": {
            "gridcolor": "white",
            "linecolor": "white",
            "ticks": ""
           }
          },
          "scene": {
           "xaxis": {
            "backgroundcolor": "#E5ECF6",
            "gridcolor": "white",
            "gridwidth": 2,
            "linecolor": "white",
            "showbackground": true,
            "ticks": "",
            "zerolinecolor": "white"
           },
           "yaxis": {
            "backgroundcolor": "#E5ECF6",
            "gridcolor": "white",
            "gridwidth": 2,
            "linecolor": "white",
            "showbackground": true,
            "ticks": "",
            "zerolinecolor": "white"
           },
           "zaxis": {
            "backgroundcolor": "#E5ECF6",
            "gridcolor": "white",
            "gridwidth": 2,
            "linecolor": "white",
            "showbackground": true,
            "ticks": "",
            "zerolinecolor": "white"
           }
          },
          "shapedefaults": {
           "line": {
            "color": "#2a3f5f"
           }
          },
          "ternary": {
           "aaxis": {
            "gridcolor": "white",
            "linecolor": "white",
            "ticks": ""
           },
           "baxis": {
            "gridcolor": "white",
            "linecolor": "white",
            "ticks": ""
           },
           "bgcolor": "#E5ECF6",
           "caxis": {
            "gridcolor": "white",
            "linecolor": "white",
            "ticks": ""
           }
          },
          "title": {
           "x": 0.05
          },
          "xaxis": {
           "automargin": true,
           "gridcolor": "white",
           "linecolor": "white",
           "ticks": "",
           "title": {
            "standoff": 15
           },
           "zerolinecolor": "white",
           "zerolinewidth": 2
          },
          "yaxis": {
           "automargin": true,
           "gridcolor": "white",
           "linecolor": "white",
           "ticks": "",
           "title": {
            "standoff": 15
           },
           "zerolinecolor": "white",
           "zerolinewidth": 2
          }
         }
        },
        "title": {
         "font": {
          "size": 20
         },
         "text": "Graph 'st_line'",
         "x": 0.5
        },
        "width": 1200,
        "xaxis": {
         "showgrid": false,
         "showticklabels": false,
         "zeroline": false
        },
        "yaxis": {
         "scaleanchor": "x",
         "scaleratio": 1,
         "showgrid": false,
         "showticklabels": false,
         "zeroline": false
        }
       }
      }
     },
     "metadata": {}
    }
   ],
   "source": [
    "#visualizing graph\n",
    "\n",
    "fig = go.Figure(data=[node_trace],\n",
    "            layout=go.Layout(\n",
    "            title='Graph \\'{}\\''.format(config['graph']),\n",
    "            titlefont_size=16,\n",
    "            showlegend=False,\n",
    "            hovermode='closest',\n",
    "            margin=dict(b=20,l=5,r=5,t=40),\n",
    "            xaxis=dict(showgrid=False, zeroline=False, showticklabels=False),\n",
    "            yaxis=dict(showgrid=False, zeroline=False, showticklabels=False),\n",
    "            width=1200,\n",
    "            height=1000)\n",
    "            )\n",
    "\n",
    "# fig.add_trace(go.Heatmap(x = node_x, y = node_y, z = node_z))\n",
    "for i in range(0, len(edge_x), 3):\n",
    "    # print (edge_x[i])\n",
    "    x0 = edge_x[i + 1]  # arrows' head\n",
    "    y0 = edge_y[i + 1]  # arrows' head\n",
    "    x1 = edge_x[i]  # arrows' tail\n",
    "    y1 = edge_y[i]  # arrows' tail\n",
    "    # print (x0, y0, x1, y1)\n",
    "\n",
    "    vert = True\n",
    "    if x0 != x1:\n",
    "        m = (y1 - y0)/(x1 - x0)\n",
    "        c = y0 - m * x0\n",
    "        vert = False\n",
    "    \n",
    "    if vert:\n",
    "        yt = y0 + d/2 * np.sign(y1 - y0)\n",
    "        yh = y1 - d/2 * np.sign(y1 - y0)\n",
    "        xt = x0\n",
    "        xh = x1\n",
    "    else:\n",
    "        if y1 == y0:\n",
    "            xt = x0 + d/2 * np.sign(x1 - x0)\n",
    "            xh = x1 - d/2 * np.sign(x1 - x0)\n",
    "            yt = y0\n",
    "            yh = y1\n",
    "        else:\n",
    "            xt = x0 + math.sqrt((d) ** 2 / (m ** 2 + 1)) * np.sign(x1 - x0)\n",
    "            xh = x1 - math.sqrt((d) ** 2 / (m ** 2 + 1)) * np.sign(x1 - x0)\n",
    "            yt = m * xt + c\n",
    "            yh = m * xh + c\n",
    "    \n",
    "\n",
    "    fig.add_annotation(\n",
    "        x=xh,  # arrows' head\n",
    "        y=yh,  # arrows' head\n",
    "        ax=xt,  # arrows' tail\n",
    "        ay=yt,  # arrows' tail\n",
    "        xref='x',\n",
    "        yref='y',\n",
    "        axref='x',\n",
    "        ayref='y',\n",
    "        text='',  # if you want only the arrow\n",
    "        showarrow=True,\n",
    "        arrowhead=1,\n",
    "        arrowsize=2,\n",
    "        arrowwidth=1,\n",
    "        arrowcolor='black'\n",
    "        )\n",
    "fig.update_yaxes(\n",
    "    scaleanchor = \"x\",\n",
    "    scaleratio = 1,\n",
    ")\n",
    "\n",
    "fig.update_layout(title_x=0.5, titlefont_size = 20, plot_bgcolor = 'rgba(0, 0, 0, 0)')\n",
    "fig.to_image(format=\"png\", engine=\"kaleido\")\n",
    "# fig.write_image('{}/{}_graph.png'.format(sim_dir, name))\n",
    "fig.show()\n",
    "\n"
   ]
  },
  {
   "cell_type": "code",
   "execution_count": 10,
   "metadata": {},
   "outputs": [
    {
     "output_type": "display_data",
     "data": {
      "application/vnd.plotly.v1+json": {
       "config": {
        "plotlyServerURL": "https://plot.ly"
       },
       "data": [
        {
         "hoverinfo": "text",
         "marker": {
          "color": [
           105.46052302615131,
           96.31646582329117,
           145.79818990949548,
           142.01370068503425,
           186.91709585479273,
           160.43592179608981,
           187.93834691734585,
           113.17290864543227,
           150.6140807040352,
           124.74473723686184,
           142.98244912245613,
           189.04425221261064,
           140.27121356067804,
           102.40042002100105,
           103.12250612530626,
           150.99989999499974,
           136.8970448522426,
           136.54942747137358,
           143.90254512725636,
           137.31146557327867,
           149.2105605280264,
           94.99204960248012,
           179.46937346867344,
           137.59677983899195
          ],
          "colorbar": {
           "thickness": 15,
           "title": {
            "side": "top",
            "text": "Avg. Node<br>Idleness"
           },
           "xanchor": "right"
          },
          "colorscale": [
           [
            0,
            "rgb(247,251,255)"
           ],
           [
            0.125,
            "rgb(222,235,247)"
           ],
           [
            0.25,
            "rgb(198,219,239)"
           ],
           [
            0.375,
            "rgb(158,202,225)"
           ],
           [
            0.5,
            "rgb(107,174,214)"
           ],
           [
            0.625,
            "rgb(66,146,198)"
           ],
           [
            0.75,
            "rgb(33,113,181)"
           ],
           [
            0.875,
            "rgb(8,81,156)"
           ],
           [
            1,
            "rgb(8,48,107)"
           ]
          ],
          "line": {
           "width": 0
          },
          "reversescale": false,
          "showscale": true,
          "size": 40
         },
         "mode": "markers",
         "type": "scatter",
         "x": [
          911.79,
          50.46,
          905.89,
          880.95,
          636.48,
          685.32,
          602.91,
          533.97,
          623.27,
          700.06,
          428.87,
          724.34,
          64.18,
          655.13,
          821.47,
          974.69,
          869.19,
          833.61,
          951.71,
          832.44,
          958.64,
          366.48,
          306.28,
          474.09
         ],
         "y": [
          51.93,
          725.19,
          259.5,
          406.37,
          868.59,
          945.45,
          456.74,
          197.08,
          202.98,
          542.57,
          547.38,
          624.43,
          818.58,
          0.81,
          0,
          264.03,
          533.99,
          607.54,
          535.54,
          747.57,
          412.05,
          386.99,
          885.79,
          677.68
         ]
        }
       ],
       "layout": {
        "annotations": [
         {
          "arrowcolor": "black",
          "arrowhead": 1,
          "arrowsize": 2,
          "arrowwidth": 1,
          "ax": 838.8084578685956,
          "axref": "x",
          "ay": 9.96884540651206,
          "ayref": "y",
          "showarrow": true,
          "text": "",
          "x": 894.4515421314044,
          "xref": "x",
          "y": 41.96115459348795,
          "yref": "y"
         },
         {
          "arrowcolor": "black",
          "arrowhead": 1,
          "arrowsize": 2,
          "arrowwidth": 1,
          "ax": 969.0036164915304,
          "axref": "x",
          "ay": 244.85540632517632,
          "ayref": "y",
          "showarrow": true,
          "text": "",
          "x": 917.4763835084697,
          "xref": "x",
          "y": 71.10459367482372,
          "yref": "y"
         },
         {
          "arrowcolor": "black",
          "arrowhead": 1,
          "arrowsize": 2,
          "arrowwidth": 1,
          "ax": 906.4582534126907,
          "axref": "x",
          "ay": 239.50807442843507,
          "ayref": "y",
          "showarrow": true,
          "text": "",
          "x": 911.2217465873092,
          "xref": "x",
          "y": 71.92192557156159,
          "yref": "y"
         },
         {
          "arrowcolor": "black",
          "arrowhead": 1,
          "arrowsize": 2,
          "arrowwidth": 1,
          "ax": 454.21460150809753,
          "axref": "x",
          "ay": 679.9090210380527,
          "ayref": "y",
          "showarrow": true,
          "text": "",
          "x": 70.33539849190245,
          "xref": "x",
          "y": 722.9609789619473,
          "yref": "y"
         },
         {
          "arrowcolor": "black",
          "arrowhead": 1,
          "arrowsize": 2,
          "arrowwidth": 1,
          "ax": 352.82517000773504,
          "axref": "x",
          "ay": 401.6032001246251,
          "ayref": "y",
          "showarrow": true,
          "text": "",
          "x": 64.11482999226496,
          "xref": "x",
          "y": 710.5767998753751,
          "yref": "y"
         },
         {
          "arrowcolor": "black",
          "arrowhead": 1,
          "arrowsize": 2,
          "arrowwidth": 1,
          "ax": 61.27298716797947,
          "axref": "x",
          "ay": 798.7923958904958,
          "ayref": "y",
          "showarrow": true,
          "text": "",
          "x": 53.367012832020535,
          "xref": "x",
          "y": 744.9776041095042,
          "yref": "y"
         },
         {
          "arrowcolor": "black",
          "arrowhead": 1,
          "arrowsize": 2,
          "arrowwidth": 1,
          "ax": 954.7332125830122,
          "axref": "x",
          "ay": 262.7159847819919,
          "ayref": "y",
          "showarrow": true,
          "text": "",
          "x": 925.8467874169878,
          "xref": "x",
          "y": 260.8140152180081,
          "yref": "y"
         },
         {
          "arrowcolor": "black",
          "arrowhead": 1,
          "arrowsize": 2,
          "arrowwidth": 1,
          "ax": 884.2982693723278,
          "axref": "x",
          "ay": 386.65226452631214,
          "ayref": "y",
          "showarrow": true,
          "text": "",
          "x": 902.5417306276722,
          "xref": "x",
          "y": 279.21773547368775,
          "yref": "y"
         },
         {
          "arrowcolor": "black",
          "arrowhead": 1,
          "arrowsize": 2,
          "arrowwidth": 1,
          "ax": 911.2217465873092,
          "axref": "x",
          "ay": 71.92192557156159,
          "ayref": "y",
          "showarrow": true,
          "text": "",
          "x": 906.4582534126907,
          "xref": "x",
          "y": 239.50807442843507,
          "yref": "y"
         },
         {
          "arrowcolor": "black",
          "arrowhead": 1,
          "arrowsize": 2,
          "arrowwidth": 1,
          "ax": 902.5417306276722,
          "axref": "x",
          "ay": 279.21773547368775,
          "ayref": "y",
          "showarrow": true,
          "text": "",
          "x": 884.2982693723278,
          "xref": "x",
          "y": 386.65226452631214,
          "yref": "y"
         },
         {
          "arrowcolor": "black",
          "arrowhead": 1,
          "arrowsize": 2,
          "arrowwidth": 1,
          "ax": 938.6932389677595,
          "axref": "x",
          "ay": 410.5916707084165,
          "ayref": "y",
          "showarrow": true,
          "text": "",
          "x": 900.8967610322405,
          "xref": "x",
          "y": 407.8283292915836,
          "yref": "y"
         },
         {
          "arrowcolor": "black",
          "arrowhead": 1,
          "arrowsize": 2,
          "arrowwidth": 1,
          "ax": 871.0251961377754,
          "axref": "x",
          "ay": 514.0743766068954,
          "ayref": "y",
          "showarrow": true,
          "text": "",
          "x": 879.1148038622247,
          "xref": "x",
          "y": 426.28562339310156,
          "yref": "y"
         },
         {
          "arrowcolor": "black",
          "arrowhead": 1,
          "arrowsize": 2,
          "arrowwidth": 1,
          "ax": 674.5935770119232,
          "axref": "x",
          "ay": 928.5697200887882,
          "ayref": "y",
          "showarrow": true,
          "text": "",
          "x": 647.2064229880768,
          "xref": "x",
          "y": 885.4702799112118,
          "yref": "y"
         },
         {
          "arrowcolor": "black",
          "arrowhead": 1,
          "arrowsize": 2,
          "arrowwidth": 1,
          "ax": 486.4768385760769,
          "axref": "x",
          "ay": 693.3824275222084,
          "ayref": "y",
          "showarrow": true,
          "text": "",
          "x": 672.9331614239231,
          "xref": "x",
          "y": 929.7475724777914,
          "yref": "y"
         },
         {
          "arrowcolor": "black",
          "arrowhead": 1,
          "arrowsize": 2,
          "arrowwidth": 1,
          "ax": 647.2064229880768,
          "axref": "x",
          "ay": 885.4702799112118,
          "ayref": "y",
          "showarrow": true,
          "text": "",
          "x": 674.5935770119232,
          "xref": "x",
          "y": 928.5697200887882,
          "yref": "y"
         },
         {
          "arrowcolor": "black",
          "arrowhead": 1,
          "arrowsize": 2,
          "arrowwidth": 1,
          "ax": 820.507069668405,
          "axref": "x",
          "ay": 763.620083292659,
          "ayref": "y",
          "showarrow": true,
          "text": "",
          "x": 697.252930331595,
          "xref": "x",
          "y": 929.3999167073407,
          "yref": "y"
         },
         {
          "arrowcolor": "black",
          "arrowhead": 1,
          "arrowsize": 2,
          "arrowwidth": 1,
          "ax": 621.6704742932891,
          "axref": "x",
          "ay": 222.91593533079322,
          "ayref": "y",
          "showarrow": true,
          "text": "",
          "x": 604.5095257067109,
          "xref": "x",
          "y": 436.8040646692061,
          "yref": "y"
         },
         {
          "arrowcolor": "black",
          "arrowhead": 1,
          "arrowsize": 2,
          "arrowwidth": 1,
          "ax": 644.6242593652142,
          "axref": "x",
          "ay": 17.828502099615434,
          "ayref": "y",
          "showarrow": true,
          "text": "",
          "x": 544.4757406347858,
          "xref": "x",
          "y": 180.06149790038455,
          "yref": "y"
         },
         {
          "arrowcolor": "black",
          "arrowhead": 1,
          "arrowsize": 2,
          "arrowwidth": 1,
          "ax": 603.3135093019374,
          "axref": "x",
          "ay": 201.6614860569029,
          "ayref": "y",
          "showarrow": true,
          "text": "",
          "x": 553.9264906980626,
          "xref": "x",
          "y": 198.39851394309707,
          "yref": "y"
         },
         {
          "arrowcolor": "black",
          "arrowhead": 1,
          "arrowsize": 2,
          "arrowwidth": 1,
          "ax": 379.70898415304225,
          "axref": "x",
          "ay": 371.99020072539116,
          "ayref": "y",
          "showarrow": true,
          "text": "",
          "x": 520.7410158469578,
          "xref": "x",
          "y": 212.07979927460906,
          "yref": "y"
         },
         {
          "arrowcolor": "black",
          "arrowhead": 1,
          "arrowsize": 2,
          "arrowwidth": 1,
          "ax": 553.9264906980626,
          "axref": "x",
          "ay": 198.39851394309707,
          "ayref": "y",
          "showarrow": true,
          "text": "",
          "x": 603.3135093019374,
          "xref": "x",
          "y": 201.6614860569029,
          "yref": "y"
         },
         {
          "arrowcolor": "black",
          "arrowhead": 1,
          "arrowsize": 2,
          "arrowwidth": 1,
          "ax": 652.0166198310795,
          "axref": "x",
          "ay": 20.566185459844746,
          "ayref": "y",
          "showarrow": true,
          "text": "",
          "x": 626.3833801689204,
          "xref": "x",
          "y": 183.22381454015522,
          "yref": "y"
         },
         {
          "arrowcolor": "black",
          "arrowhead": 1,
          "arrowsize": 2,
          "arrowwidth": 1,
          "ax": 604.5095257067109,
          "axref": "x",
          "ay": 436.8040646692061,
          "ayref": "y",
          "showarrow": true,
          "text": "",
          "x": 621.6704742932891,
          "xref": "x",
          "y": 222.91593533079322,
          "yref": "y"
         },
         {
          "arrowcolor": "black",
          "arrowhead": 1,
          "arrowsize": 2,
          "arrowwidth": 1,
          "ax": 718.6528105222471,
          "axref": "x",
          "ay": 605.2556453604261,
          "ayref": "y",
          "showarrow": true,
          "text": "",
          "x": 705.7471894777528,
          "xref": "x",
          "y": 561.7443546395734,
          "yref": "y"
         },
         {
          "arrowcolor": "black",
          "arrowhead": 1,
          "arrowsize": 2,
          "arrowwidth": 1,
          "ax": 448.86685485728214,
          "axref": "x",
          "ay": 547.0253229401396,
          "ayref": "y",
          "showarrow": true,
          "text": "",
          "x": 680.0631451427178,
          "xref": "x",
          "y": 542.9246770598603,
          "yref": "y"
         },
         {
          "arrowcolor": "black",
          "arrowhead": 1,
          "arrowsize": 2,
          "arrowwidth": 1,
          "ax": 849.215685972006,
          "axref": "x",
          "ay": 535.0033010959628,
          "ayref": "y",
          "showarrow": true,
          "text": "",
          "x": 720.034314027994,
          "xref": "x",
          "y": 541.5566989040373,
          "yref": "y"
         },
         {
          "arrowcolor": "black",
          "arrowhead": 1,
          "arrowsize": 2,
          "arrowwidth": 1,
          "ax": 373.7305515594256,
          "axref": "x",
          "ay": 405.6294608850178,
          "ayref": "y",
          "showarrow": true,
          "text": "",
          "x": 421.61944844057444,
          "xref": "x",
          "y": 528.7405391149821,
          "yref": "y"
         },
         {
          "arrowcolor": "black",
          "arrowhead": 1,
          "arrowsize": 2,
          "arrowwidth": 1,
          "ax": 467.53274983234377,
          "axref": "x",
          "ay": 658.7854910029722,
          "ayref": "y",
          "showarrow": true,
          "text": "",
          "x": 435.4272501676562,
          "xref": "x",
          "y": 566.274508997028,
          "yref": "y"
         },
         {
          "arrowcolor": "black",
          "arrowhead": 1,
          "arrowsize": 2,
          "arrowwidth": 1,
          "ax": 680.0631451427178,
          "axref": "x",
          "ay": 542.9246770598603,
          "ayref": "y",
          "showarrow": true,
          "text": "",
          "x": 448.86685485728214,
          "xref": "x",
          "y": 547.0253229401396,
          "yref": "y"
         },
         {
          "arrowcolor": "black",
          "arrowhead": 1,
          "arrowsize": 2,
          "arrowwidth": 1,
          "ax": 705.7471894777528,
          "axref": "x",
          "ay": 561.7443546395739,
          "ayref": "y",
          "showarrow": true,
          "text": "",
          "x": 718.6528105222471,
          "xref": "x",
          "y": 605.2556453604266,
          "yref": "y"
         },
         {
          "arrowcolor": "black",
          "arrowhead": 1,
          "arrowsize": 2,
          "arrowwidth": 1,
          "ax": 53.367012832020535,
          "axref": "x",
          "ay": 744.9776041095042,
          "ayref": "y",
          "showarrow": true,
          "text": "",
          "x": 61.27298716797947,
          "xref": "x",
          "y": 798.7923958904958,
          "yref": "y"
         },
         {
          "arrowcolor": "black",
          "arrowhead": 1,
          "arrowsize": 2,
          "arrowwidth": 1,
          "ax": 287.0088209444718,
          "axref": "x",
          "ay": 880.4400787099461,
          "ayref": "y",
          "showarrow": true,
          "text": "",
          "x": 83.45117905552819,
          "xref": "x",
          "y": 823.9299212900539,
          "yref": "y"
         },
         {
          "arrowcolor": "black",
          "arrowhead": 1,
          "arrowsize": 2,
          "arrowwidth": 1,
          "ax": 801.4702371204006,
          "axref": "x",
          "ay": 0.09738973146853169,
          "ayref": "y",
          "showarrow": true,
          "text": "",
          "x": 675.1297628795994,
          "xref": "x",
          "y": 0.7126102685314688,
          "yref": "y"
         },
         {
          "arrowcolor": "black",
          "arrowhead": 1,
          "arrowsize": 2,
          "arrowwidth": 1,
          "ax": 544.4757406347858,
          "axref": "x",
          "ay": 180.06149790038455,
          "ayref": "y",
          "showarrow": true,
          "text": "",
          "x": 644.6242593652142,
          "xref": "x",
          "y": 17.828502099615434,
          "yref": "y"
         },
         {
          "arrowcolor": "black",
          "arrowhead": 1,
          "arrowsize": 2,
          "arrowwidth": 1,
          "ax": 626.3833801689204,
          "axref": "x",
          "ay": 183.22381454015522,
          "ayref": "y",
          "showarrow": true,
          "text": "",
          "x": 652.0166198310795,
          "xref": "x",
          "y": 20.566185459844746,
          "yref": "y"
         },
         {
          "arrowcolor": "black",
          "arrowhead": 1,
          "arrowsize": 2,
          "arrowwidth": 1,
          "ax": 675.1297628795994,
          "axref": "x",
          "ay": 0.7126102685314688,
          "ayref": "y",
          "showarrow": true,
          "text": "",
          "x": 801.4702371204006,
          "xref": "x",
          "y": 0.09738973146853169,
          "yref": "y"
         },
         {
          "arrowcolor": "black",
          "arrowhead": 1,
          "arrowsize": 2,
          "arrowwidth": 1,
          "ax": 894.4515421314044,
          "axref": "x",
          "ay": 41.96115459348795,
          "ayref": "y",
          "showarrow": true,
          "text": "",
          "x": 838.8084578685956,
          "xref": "x",
          "y": 9.96884540651206,
          "yref": "y"
         },
         {
          "arrowcolor": "black",
          "arrowhead": 1,
          "arrowsize": 2,
          "arrowwidth": 1,
          "ax": 925.8467874169878,
          "axref": "x",
          "ay": 260.8140152180081,
          "ayref": "y",
          "showarrow": true,
          "text": "",
          "x": 954.7332125830122,
          "xref": "x",
          "y": 262.7159847819919,
          "yref": "y"
         },
         {
          "arrowcolor": "black",
          "arrowhead": 1,
          "arrowsize": 2,
          "arrowwidth": 1,
          "ax": 917.4763835084697,
          "axref": "x",
          "ay": 71.10459367482372,
          "ayref": "y",
          "showarrow": true,
          "text": "",
          "x": 969.0036164915304,
          "xref": "x",
          "y": 244.85540632517632,
          "yref": "y"
         },
         {
          "arrowcolor": "black",
          "arrowhead": 1,
          "arrowsize": 2,
          "arrowwidth": 1,
          "ax": 960.7959885472172,
          "axref": "x",
          "ay": 392.1665467439816,
          "ayref": "y",
          "showarrow": true,
          "text": "",
          "x": 972.5340114527828,
          "xref": "x",
          "y": 283.91345325601833,
          "yref": "y"
         },
         {
          "arrowcolor": "black",
          "arrowhead": 1,
          "arrowsize": 2,
          "arrowwidth": 1,
          "ax": 879.1148038622247,
          "axref": "x",
          "ay": 426.2856233931034,
          "ayref": "y",
          "showarrow": true,
          "text": "",
          "x": 871.0251961377754,
          "xref": "x",
          "y": 514.0743766068972,
          "yref": "y"
         },
         {
          "arrowcolor": "black",
          "arrowhead": 1,
          "arrowsize": 2,
          "arrowwidth": 1,
          "ax": 720.034314027994,
          "axref": "x",
          "ay": 541.5566989040373,
          "ayref": "y",
          "showarrow": true,
          "text": "",
          "x": 849.215685972006,
          "xref": "x",
          "y": 535.0033010959628,
          "yref": "y"
         },
         {
          "arrowcolor": "black",
          "arrowhead": 1,
          "arrowsize": 2,
          "arrowwidth": 1,
          "ax": 842.3194909840199,
          "axref": "x",
          "ay": 589.5359791491098,
          "ayref": "y",
          "showarrow": true,
          "text": "",
          "x": 860.4805090159801,
          "xref": "x",
          "y": 551.9940208508899,
          "yref": "y"
         },
         {
          "arrowcolor": "black",
          "arrowhead": 1,
          "arrowsize": 2,
          "arrowwidth": 1,
          "ax": 931.7135271997714,
          "axref": "x",
          "ay": 535.1643997474508,
          "ayref": "y",
          "showarrow": true,
          "text": "",
          "x": 889.1864728002287,
          "xref": "x",
          "y": 534.3656002525491,
          "yref": "y"
         },
         {
          "arrowcolor": "black",
          "arrowhead": 1,
          "arrowsize": 2,
          "arrowwidth": 1,
          "ax": 832.6071012157636,
          "axref": "x",
          "ay": 727.5706980825926,
          "ayref": "y",
          "showarrow": true,
          "text": "",
          "x": 833.4428987842365,
          "xref": "x",
          "y": 627.539301917408,
          "yref": "y"
         },
         {
          "arrowcolor": "black",
          "arrowhead": 1,
          "arrowsize": 2,
          "arrowwidth": 1,
          "ax": 934.6332927330661,
          "axref": "x",
          "ay": 545.9508630247183,
          "ayref": "y",
          "showarrow": true,
          "text": "",
          "x": 850.6867072669339,
          "xref": "x",
          "y": 597.1291369752815,
          "yref": "y"
         },
         {
          "arrowcolor": "black",
          "arrowhead": 1,
          "arrowsize": 2,
          "arrowwidth": 1,
          "ax": 860.4805090159801,
          "axref": "x",
          "ay": 551.9940208508899,
          "ayref": "y",
          "showarrow": true,
          "text": "",
          "x": 842.3194909840199,
          "xref": "x",
          "y": 589.5359791491098,
          "yref": "y"
         },
         {
          "arrowcolor": "black",
          "arrowhead": 1,
          "arrowsize": 2,
          "arrowwidth": 1,
          "ax": 889.1864728002287,
          "axref": "x",
          "ay": 534.3656002525491,
          "ayref": "y",
          "showarrow": true,
          "text": "",
          "x": 931.7135271997714,
          "xref": "x",
          "y": 535.1643997474508,
          "yref": "y"
         },
         {
          "arrowcolor": "black",
          "arrowhead": 1,
          "arrowsize": 2,
          "arrowwidth": 1,
          "ax": 957.519405026901,
          "axref": "x",
          "ay": 432.0185819953804,
          "ayref": "y",
          "showarrow": true,
          "text": "",
          "x": 952.830594973099,
          "xref": "x",
          "y": 515.5714180046198,
          "yref": "y"
         },
         {
          "arrowcolor": "black",
          "arrowhead": 1,
          "arrowsize": 2,
          "arrowwidth": 1,
          "ax": 850.6867072669339,
          "axref": "x",
          "ay": 597.1291369752815,
          "ayref": "y",
          "showarrow": true,
          "text": "",
          "x": 934.6332927330661,
          "xref": "x",
          "y": 545.9508630247183,
          "yref": "y"
         },
         {
          "arrowcolor": "black",
          "arrowhead": 1,
          "arrowsize": 2,
          "arrowwidth": 1,
          "ax": 697.252930331595,
          "axref": "x",
          "ay": 929.3999167073409,
          "ayref": "y",
          "showarrow": true,
          "text": "",
          "x": 820.507069668405,
          "xref": "x",
          "y": 763.6200832926593,
          "yref": "y"
         },
         {
          "arrowcolor": "black",
          "arrowhead": 1,
          "arrowsize": 2,
          "arrowwidth": 1,
          "ax": 833.4428987842365,
          "axref": "x",
          "ay": 627.5393019173935,
          "ayref": "y",
          "showarrow": true,
          "text": "",
          "x": 832.6071012157636,
          "xref": "x",
          "y": 727.570698082578,
          "yref": "y"
         },
         {
          "arrowcolor": "black",
          "arrowhead": 1,
          "arrowsize": 2,
          "arrowwidth": 1,
          "ax": 493.7201407574657,
          "axref": "x",
          "ay": 681.5085211037791,
          "ayref": "y",
          "showarrow": true,
          "text": "",
          "x": 812.8098592425343,
          "xref": "x",
          "y": 743.7414788962208,
          "yref": "y"
         },
         {
          "arrowcolor": "black",
          "arrowhead": 1,
          "arrowsize": 2,
          "arrowwidth": 1,
          "ax": 900.8967610322405,
          "axref": "x",
          "ay": 407.8283292915836,
          "ayref": "y",
          "showarrow": true,
          "text": "",
          "x": 938.6932389677595,
          "xref": "x",
          "y": 410.5916707084165,
          "yref": "y"
         },
         {
          "arrowcolor": "black",
          "arrowhead": 1,
          "arrowsize": 2,
          "arrowwidth": 1,
          "ax": 972.5340114527828,
          "axref": "x",
          "ay": 283.91345325602015,
          "ayref": "y",
          "showarrow": true,
          "text": "",
          "x": 960.7959885472172,
          "xref": "x",
          "y": 392.1665467439834,
          "yref": "y"
         },
         {
          "arrowcolor": "black",
          "arrowhead": 1,
          "arrowsize": 2,
          "arrowwidth": 1,
          "ax": 952.830594973099,
          "axref": "x",
          "ay": 515.5714180046198,
          "ayref": "y",
          "showarrow": true,
          "text": "",
          "x": 957.519405026901,
          "xref": "x",
          "y": 432.0185819953804,
          "yref": "y"
         },
         {
          "arrowcolor": "black",
          "arrowhead": 1,
          "arrowsize": 2,
          "arrowwidth": 1,
          "ax": 520.7410158469578,
          "axref": "x",
          "ay": 212.07979927460906,
          "ayref": "y",
          "showarrow": true,
          "text": "",
          "x": 379.70898415304225,
          "xref": "x",
          "y": 371.99020072539116,
          "yref": "y"
         },
         {
          "arrowcolor": "black",
          "arrowhead": 1,
          "arrowsize": 2,
          "arrowwidth": 1,
          "ax": 64.11482999226496,
          "axref": "x",
          "ay": 710.5767998753751,
          "ayref": "y",
          "showarrow": true,
          "text": "",
          "x": 352.82517000773504,
          "xref": "x",
          "y": 401.6032001246251,
          "yref": "y"
         },
         {
          "arrowcolor": "black",
          "arrowhead": 1,
          "arrowsize": 2,
          "arrowwidth": 1,
          "ax": 421.61944844057444,
          "axref": "x",
          "ay": 528.7405391149822,
          "ayref": "y",
          "showarrow": true,
          "text": "",
          "x": 373.7305515594256,
          "xref": "x",
          "y": 405.6294608850179,
          "yref": "y"
         },
         {
          "arrowcolor": "black",
          "arrowhead": 1,
          "arrowsize": 2,
          "arrowwidth": 1,
          "ax": 83.45117905552819,
          "axref": "x",
          "ay": 823.9299212900539,
          "ayref": "y",
          "showarrow": true,
          "text": "",
          "x": 287.0088209444718,
          "xref": "x",
          "y": 880.4400787099461,
          "yref": "y"
         },
         {
          "arrowcolor": "black",
          "arrowhead": 1,
          "arrowsize": 2,
          "arrowwidth": 1,
          "ax": 70.33539849190245,
          "axref": "x",
          "ay": 722.9609789619473,
          "ayref": "y",
          "showarrow": true,
          "text": "",
          "x": 454.21460150809753,
          "xref": "x",
          "y": 679.9090210380527,
          "yref": "y"
         },
         {
          "arrowcolor": "black",
          "arrowhead": 1,
          "arrowsize": 2,
          "arrowwidth": 1,
          "ax": 435.4272501676562,
          "axref": "x",
          "ay": 566.274508997028,
          "ayref": "y",
          "showarrow": true,
          "text": "",
          "x": 467.53274983234377,
          "xref": "x",
          "y": 658.7854910029722,
          "yref": "y"
         },
         {
          "arrowcolor": "black",
          "arrowhead": 1,
          "arrowsize": 2,
          "arrowwidth": 1,
          "ax": 812.8098592425343,
          "axref": "x",
          "ay": 743.7414788962208,
          "ayref": "y",
          "showarrow": true,
          "text": "",
          "x": 493.7201407574657,
          "xref": "x",
          "y": 681.5085211037791,
          "yref": "y"
         },
         {
          "arrowcolor": "black",
          "arrowhead": 1,
          "arrowsize": 2,
          "arrowwidth": 1,
          "ax": 672.9331614239231,
          "axref": "x",
          "ay": 929.7475724777914,
          "ayref": "y",
          "showarrow": true,
          "text": "",
          "x": 486.4768385760769,
          "xref": "x",
          "y": 693.3824275222084,
          "yref": "y"
         }
        ],
        "height": 1000,
        "hovermode": "closest",
        "margin": {
         "b": 20,
         "l": 5,
         "r": 0,
         "t": 40
        },
        "plot_bgcolor": "rgba(0, 0, 0, 0)",
        "showlegend": false,
        "template": {
         "data": {
          "bar": [
           {
            "error_x": {
             "color": "#2a3f5f"
            },
            "error_y": {
             "color": "#2a3f5f"
            },
            "marker": {
             "line": {
              "color": "#E5ECF6",
              "width": 0.5
             }
            },
            "type": "bar"
           }
          ],
          "barpolar": [
           {
            "marker": {
             "line": {
              "color": "#E5ECF6",
              "width": 0.5
             }
            },
            "type": "barpolar"
           }
          ],
          "carpet": [
           {
            "aaxis": {
             "endlinecolor": "#2a3f5f",
             "gridcolor": "white",
             "linecolor": "white",
             "minorgridcolor": "white",
             "startlinecolor": "#2a3f5f"
            },
            "baxis": {
             "endlinecolor": "#2a3f5f",
             "gridcolor": "white",
             "linecolor": "white",
             "minorgridcolor": "white",
             "startlinecolor": "#2a3f5f"
            },
            "type": "carpet"
           }
          ],
          "choropleth": [
           {
            "colorbar": {
             "outlinewidth": 0,
             "ticks": ""
            },
            "type": "choropleth"
           }
          ],
          "contour": [
           {
            "colorbar": {
             "outlinewidth": 0,
             "ticks": ""
            },
            "colorscale": [
             [
              0,
              "#0d0887"
             ],
             [
              0.1111111111111111,
              "#46039f"
             ],
             [
              0.2222222222222222,
              "#7201a8"
             ],
             [
              0.3333333333333333,
              "#9c179e"
             ],
             [
              0.4444444444444444,
              "#bd3786"
             ],
             [
              0.5555555555555556,
              "#d8576b"
             ],
             [
              0.6666666666666666,
              "#ed7953"
             ],
             [
              0.7777777777777778,
              "#fb9f3a"
             ],
             [
              0.8888888888888888,
              "#fdca26"
             ],
             [
              1,
              "#f0f921"
             ]
            ],
            "type": "contour"
           }
          ],
          "contourcarpet": [
           {
            "colorbar": {
             "outlinewidth": 0,
             "ticks": ""
            },
            "type": "contourcarpet"
           }
          ],
          "heatmap": [
           {
            "colorbar": {
             "outlinewidth": 0,
             "ticks": ""
            },
            "colorscale": [
             [
              0,
              "#0d0887"
             ],
             [
              0.1111111111111111,
              "#46039f"
             ],
             [
              0.2222222222222222,
              "#7201a8"
             ],
             [
              0.3333333333333333,
              "#9c179e"
             ],
             [
              0.4444444444444444,
              "#bd3786"
             ],
             [
              0.5555555555555556,
              "#d8576b"
             ],
             [
              0.6666666666666666,
              "#ed7953"
             ],
             [
              0.7777777777777778,
              "#fb9f3a"
             ],
             [
              0.8888888888888888,
              "#fdca26"
             ],
             [
              1,
              "#f0f921"
             ]
            ],
            "type": "heatmap"
           }
          ],
          "heatmapgl": [
           {
            "colorbar": {
             "outlinewidth": 0,
             "ticks": ""
            },
            "colorscale": [
             [
              0,
              "#0d0887"
             ],
             [
              0.1111111111111111,
              "#46039f"
             ],
             [
              0.2222222222222222,
              "#7201a8"
             ],
             [
              0.3333333333333333,
              "#9c179e"
             ],
             [
              0.4444444444444444,
              "#bd3786"
             ],
             [
              0.5555555555555556,
              "#d8576b"
             ],
             [
              0.6666666666666666,
              "#ed7953"
             ],
             [
              0.7777777777777778,
              "#fb9f3a"
             ],
             [
              0.8888888888888888,
              "#fdca26"
             ],
             [
              1,
              "#f0f921"
             ]
            ],
            "type": "heatmapgl"
           }
          ],
          "histogram": [
           {
            "marker": {
             "colorbar": {
              "outlinewidth": 0,
              "ticks": ""
             }
            },
            "type": "histogram"
           }
          ],
          "histogram2d": [
           {
            "colorbar": {
             "outlinewidth": 0,
             "ticks": ""
            },
            "colorscale": [
             [
              0,
              "#0d0887"
             ],
             [
              0.1111111111111111,
              "#46039f"
             ],
             [
              0.2222222222222222,
              "#7201a8"
             ],
             [
              0.3333333333333333,
              "#9c179e"
             ],
             [
              0.4444444444444444,
              "#bd3786"
             ],
             [
              0.5555555555555556,
              "#d8576b"
             ],
             [
              0.6666666666666666,
              "#ed7953"
             ],
             [
              0.7777777777777778,
              "#fb9f3a"
             ],
             [
              0.8888888888888888,
              "#fdca26"
             ],
             [
              1,
              "#f0f921"
             ]
            ],
            "type": "histogram2d"
           }
          ],
          "histogram2dcontour": [
           {
            "colorbar": {
             "outlinewidth": 0,
             "ticks": ""
            },
            "colorscale": [
             [
              0,
              "#0d0887"
             ],
             [
              0.1111111111111111,
              "#46039f"
             ],
             [
              0.2222222222222222,
              "#7201a8"
             ],
             [
              0.3333333333333333,
              "#9c179e"
             ],
             [
              0.4444444444444444,
              "#bd3786"
             ],
             [
              0.5555555555555556,
              "#d8576b"
             ],
             [
              0.6666666666666666,
              "#ed7953"
             ],
             [
              0.7777777777777778,
              "#fb9f3a"
             ],
             [
              0.8888888888888888,
              "#fdca26"
             ],
             [
              1,
              "#f0f921"
             ]
            ],
            "type": "histogram2dcontour"
           }
          ],
          "mesh3d": [
           {
            "colorbar": {
             "outlinewidth": 0,
             "ticks": ""
            },
            "type": "mesh3d"
           }
          ],
          "parcoords": [
           {
            "line": {
             "colorbar": {
              "outlinewidth": 0,
              "ticks": ""
             }
            },
            "type": "parcoords"
           }
          ],
          "pie": [
           {
            "automargin": true,
            "type": "pie"
           }
          ],
          "scatter": [
           {
            "marker": {
             "colorbar": {
              "outlinewidth": 0,
              "ticks": ""
             }
            },
            "type": "scatter"
           }
          ],
          "scatter3d": [
           {
            "line": {
             "colorbar": {
              "outlinewidth": 0,
              "ticks": ""
             }
            },
            "marker": {
             "colorbar": {
              "outlinewidth": 0,
              "ticks": ""
             }
            },
            "type": "scatter3d"
           }
          ],
          "scattercarpet": [
           {
            "marker": {
             "colorbar": {
              "outlinewidth": 0,
              "ticks": ""
             }
            },
            "type": "scattercarpet"
           }
          ],
          "scattergeo": [
           {
            "marker": {
             "colorbar": {
              "outlinewidth": 0,
              "ticks": ""
             }
            },
            "type": "scattergeo"
           }
          ],
          "scattergl": [
           {
            "marker": {
             "colorbar": {
              "outlinewidth": 0,
              "ticks": ""
             }
            },
            "type": "scattergl"
           }
          ],
          "scattermapbox": [
           {
            "marker": {
             "colorbar": {
              "outlinewidth": 0,
              "ticks": ""
             }
            },
            "type": "scattermapbox"
           }
          ],
          "scatterpolar": [
           {
            "marker": {
             "colorbar": {
              "outlinewidth": 0,
              "ticks": ""
             }
            },
            "type": "scatterpolar"
           }
          ],
          "scatterpolargl": [
           {
            "marker": {
             "colorbar": {
              "outlinewidth": 0,
              "ticks": ""
             }
            },
            "type": "scatterpolargl"
           }
          ],
          "scatterternary": [
           {
            "marker": {
             "colorbar": {
              "outlinewidth": 0,
              "ticks": ""
             }
            },
            "type": "scatterternary"
           }
          ],
          "surface": [
           {
            "colorbar": {
             "outlinewidth": 0,
             "ticks": ""
            },
            "colorscale": [
             [
              0,
              "#0d0887"
             ],
             [
              0.1111111111111111,
              "#46039f"
             ],
             [
              0.2222222222222222,
              "#7201a8"
             ],
             [
              0.3333333333333333,
              "#9c179e"
             ],
             [
              0.4444444444444444,
              "#bd3786"
             ],
             [
              0.5555555555555556,
              "#d8576b"
             ],
             [
              0.6666666666666666,
              "#ed7953"
             ],
             [
              0.7777777777777778,
              "#fb9f3a"
             ],
             [
              0.8888888888888888,
              "#fdca26"
             ],
             [
              1,
              "#f0f921"
             ]
            ],
            "type": "surface"
           }
          ],
          "table": [
           {
            "cells": {
             "fill": {
              "color": "#EBF0F8"
             },
             "line": {
              "color": "white"
             }
            },
            "header": {
             "fill": {
              "color": "#C8D4E3"
             },
             "line": {
              "color": "white"
             }
            },
            "type": "table"
           }
          ]
         },
         "layout": {
          "annotationdefaults": {
           "arrowcolor": "#2a3f5f",
           "arrowhead": 0,
           "arrowwidth": 1
          },
          "coloraxis": {
           "colorbar": {
            "outlinewidth": 0,
            "ticks": ""
           }
          },
          "colorscale": {
           "diverging": [
            [
             0,
             "#8e0152"
            ],
            [
             0.1,
             "#c51b7d"
            ],
            [
             0.2,
             "#de77ae"
            ],
            [
             0.3,
             "#f1b6da"
            ],
            [
             0.4,
             "#fde0ef"
            ],
            [
             0.5,
             "#f7f7f7"
            ],
            [
             0.6,
             "#e6f5d0"
            ],
            [
             0.7,
             "#b8e186"
            ],
            [
             0.8,
             "#7fbc41"
            ],
            [
             0.9,
             "#4d9221"
            ],
            [
             1,
             "#276419"
            ]
           ],
           "sequential": [
            [
             0,
             "#0d0887"
            ],
            [
             0.1111111111111111,
             "#46039f"
            ],
            [
             0.2222222222222222,
             "#7201a8"
            ],
            [
             0.3333333333333333,
             "#9c179e"
            ],
            [
             0.4444444444444444,
             "#bd3786"
            ],
            [
             0.5555555555555556,
             "#d8576b"
            ],
            [
             0.6666666666666666,
             "#ed7953"
            ],
            [
             0.7777777777777778,
             "#fb9f3a"
            ],
            [
             0.8888888888888888,
             "#fdca26"
            ],
            [
             1,
             "#f0f921"
            ]
           ],
           "sequentialminus": [
            [
             0,
             "#0d0887"
            ],
            [
             0.1111111111111111,
             "#46039f"
            ],
            [
             0.2222222222222222,
             "#7201a8"
            ],
            [
             0.3333333333333333,
             "#9c179e"
            ],
            [
             0.4444444444444444,
             "#bd3786"
            ],
            [
             0.5555555555555556,
             "#d8576b"
            ],
            [
             0.6666666666666666,
             "#ed7953"
            ],
            [
             0.7777777777777778,
             "#fb9f3a"
            ],
            [
             0.8888888888888888,
             "#fdca26"
            ],
            [
             1,
             "#f0f921"
            ]
           ]
          },
          "colorway": [
           "#636efa",
           "#EF553B",
           "#00cc96",
           "#ab63fa",
           "#FFA15A",
           "#19d3f3",
           "#FF6692",
           "#B6E880",
           "#FF97FF",
           "#FECB52"
          ],
          "font": {
           "color": "#2a3f5f"
          },
          "geo": {
           "bgcolor": "white",
           "lakecolor": "white",
           "landcolor": "#E5ECF6",
           "showlakes": true,
           "showland": true,
           "subunitcolor": "white"
          },
          "hoverlabel": {
           "align": "left"
          },
          "hovermode": "closest",
          "mapbox": {
           "style": "light"
          },
          "paper_bgcolor": "white",
          "plot_bgcolor": "#E5ECF6",
          "polar": {
           "angularaxis": {
            "gridcolor": "white",
            "linecolor": "white",
            "ticks": ""
           },
           "bgcolor": "#E5ECF6",
           "radialaxis": {
            "gridcolor": "white",
            "linecolor": "white",
            "ticks": ""
           }
          },
          "scene": {
           "xaxis": {
            "backgroundcolor": "#E5ECF6",
            "gridcolor": "white",
            "gridwidth": 2,
            "linecolor": "white",
            "showbackground": true,
            "ticks": "",
            "zerolinecolor": "white"
           },
           "yaxis": {
            "backgroundcolor": "#E5ECF6",
            "gridcolor": "white",
            "gridwidth": 2,
            "linecolor": "white",
            "showbackground": true,
            "ticks": "",
            "zerolinecolor": "white"
           },
           "zaxis": {
            "backgroundcolor": "#E5ECF6",
            "gridcolor": "white",
            "gridwidth": 2,
            "linecolor": "white",
            "showbackground": true,
            "ticks": "",
            "zerolinecolor": "white"
           }
          },
          "shapedefaults": {
           "line": {
            "color": "#2a3f5f"
           }
          },
          "ternary": {
           "aaxis": {
            "gridcolor": "white",
            "linecolor": "white",
            "ticks": ""
           },
           "baxis": {
            "gridcolor": "white",
            "linecolor": "white",
            "ticks": ""
           },
           "bgcolor": "#E5ECF6",
           "caxis": {
            "gridcolor": "white",
            "linecolor": "white",
            "ticks": ""
           }
          },
          "title": {
           "x": 0.05
          },
          "xaxis": {
           "automargin": true,
           "gridcolor": "white",
           "linecolor": "white",
           "ticks": "",
           "title": {
            "standoff": 15
           },
           "zerolinecolor": "white",
           "zerolinewidth": 2
          },
          "yaxis": {
           "automargin": true,
           "gridcolor": "white",
           "linecolor": "white",
           "ticks": "",
           "title": {
            "standoff": 15
           },
           "zerolinecolor": "white",
           "zerolinewidth": 2
          }
         }
        },
        "title": {
         "font": {
          "size": 20
         },
         "text": "Average Node Idleness",
         "x": 0.5
        },
        "width": 1200,
        "xaxis": {
         "showgrid": false,
         "showticklabels": false,
         "zeroline": false
        },
        "yaxis": {
         "scaleanchor": "x",
         "scaleratio": 1,
         "showgrid": false,
         "showticklabels": false,
         "zeroline": false
        }
       }
      }
     },
     "metadata": {}
    }
   ],
   "source": [
    "#color map of average idleness\n",
    "avg_trace = go.Scatter(\n",
    "    x=node_x, y=node_y,\n",
    "    mode='markers',\n",
    "    hoverinfo='text',\n",
    "    marker=dict(\n",
    "        showscale=True,\n",
    "        # colorscale options\n",
    "        #'Greys' | 'YlGnBu' | 'Greens' | 'YlOrRd' | 'Bluered' | 'RdBu' |\n",
    "        #'Reds' | 'Blues' | 'Picnic' | 'Rainbow' | 'Portland' | 'Jet' |\n",
    "        #'Hot' | 'Blackbody' | 'Earth' | 'Electric' | 'Viridis' |\n",
    "        colorscale='Blues',\n",
    "        reversescale=False,\n",
    "        color=avg_idle,\n",
    "        size=2 * d,\n",
    "        # cmin = 0.,\n",
    "        # cmax = 200.,\n",
    "        # opacity = 0.5,\n",
    "        # showscale = False,\n",
    "        colorbar=dict(\n",
    "            thickness=15,\n",
    "            title='Avg. Node<br>Idleness',\n",
    "            xanchor='right',\n",
    "            titleside='top',\n",
    "        ),\n",
    "        line_width=0))\n",
    "# avg_trace.marker.cmin = 200\n",
    "\n",
    "fig = go.Figure(data=[avg_trace],\n",
    "            layout=go.Layout(\n",
    "            title='Graph \\'{}\\''.format(config['graph']),\n",
    "            titlefont_size=16,\n",
    "            showlegend=False,\n",
    "            hovermode='closest',\n",
    "            margin=dict(b=20,l=5,r=0,t=40),\n",
    "            xaxis=dict(showgrid=False, zeroline=False, showticklabels=False),\n",
    "            yaxis=dict(showgrid=False, zeroline=False, showticklabels=False),\n",
    "            width=1200,\n",
    "            height=1000))\n",
    "\n",
    "# fig.add_trace(go.Heatmap(x = node_x, y = node_y, z = node_z))\n",
    "for i in range(0, len(edge_x), 3):\n",
    "    # print (edge_x[i])\n",
    "    x0 = edge_x[i + 1]  # arrows' head\n",
    "    y0 = edge_y[i + 1]  # arrows' head\n",
    "    x1 = edge_x[i]  # arrows' tail\n",
    "    y1 = edge_y[i]  # arrows' tail\n",
    "    # print (x0, y0, x1, y1)\n",
    "\n",
    "    vert = True\n",
    "    if x0 != x1:\n",
    "        m = (y1 - y0)/(x1 - x0)\n",
    "        c = y0 - m * x0\n",
    "        vert = False\n",
    "    \n",
    "    if vert:\n",
    "        yt = y0 + d * np.sign(y1 - y0)\n",
    "        yh = y1 - d * np.sign(y1 - y0)\n",
    "        xt = x0\n",
    "        xh = x1\n",
    "    else:\n",
    "        if y1 == y0:\n",
    "            xt = x0 + d * np.sign(x1 - x0)\n",
    "            xh = x1 - d * np.sign(x1 - x0)\n",
    "            yt = y0\n",
    "            yh = y1\n",
    "        else:\n",
    "            xt = x0 + math.sqrt(d ** 2 / (m ** 2 + 1)) * np.sign(x1 - x0)\n",
    "            xh = x1 - math.sqrt(d ** 2 / (m ** 2 + 1)) * np.sign(x1 - x0)\n",
    "            yt = m * xt + c\n",
    "            yh = m * xh + c\n",
    "    \n",
    "\n",
    "    fig.add_annotation(\n",
    "        x=xh,  # arrows' head\n",
    "        y=yh,  # arrows' head\n",
    "        ax=xt,  # arrows' tail\n",
    "        ay=yt,  # arrows' tail\n",
    "        xref='x',\n",
    "        yref='y',\n",
    "        axref='x',\n",
    "        ayref='y',\n",
    "        text='',  # if you want only the arrow\n",
    "        showarrow=True,\n",
    "        arrowhead=1,\n",
    "        arrowsize=2,\n",
    "        arrowwidth=1,\n",
    "        arrowcolor='black'\n",
    "        )\n",
    "fig.update_yaxes(\n",
    "    scaleanchor = \"x\",\n",
    "    scaleratio = 1,\n",
    ")\n",
    "fig.update_layout(title_text='Average Node Idleness', title_x=0.5, titlefont_size = 20, plot_bgcolor = 'rgba(0, 0, 0, 0)')\n",
    "fig.to_image(format=\"png\", engine=\"kaleido\")\n",
    "fig.write_image('{}/{}_avg_idle.png'.format(sim_dir, name))\n",
    "fig.show()\n"
   ]
  },
  {
   "cell_type": "code",
   "execution_count": 11,
   "metadata": {},
   "outputs": [
    {
     "output_type": "display_data",
     "data": {
      "application/vnd.plotly.v1+json": {
       "config": {
        "plotlyServerURL": "https://plot.ly"
       },
       "data": [
        {
         "hoverinfo": "text",
         "marker": {
          "color": [
           478,
           525,
           669,
           620,
           676,
           647,
           685,
           470,
           640,
           554,
           607,
           684,
           630,
           520,
           504,
           644,
           566,
           592,
           611,
           593,
           665,
           381,
           680,
           563
          ],
          "colorbar": {
           "thickness": 15,
           "title": {
            "side": "top",
            "text": "Max. Node<br>Idleness"
           },
           "xanchor": "right"
          },
          "colorscale": [
           [
            0,
            "rgb(247,251,255)"
           ],
           [
            0.125,
            "rgb(222,235,247)"
           ],
           [
            0.25,
            "rgb(198,219,239)"
           ],
           [
            0.375,
            "rgb(158,202,225)"
           ],
           [
            0.5,
            "rgb(107,174,214)"
           ],
           [
            0.625,
            "rgb(66,146,198)"
           ],
           [
            0.75,
            "rgb(33,113,181)"
           ],
           [
            0.875,
            "rgb(8,81,156)"
           ],
           [
            1,
            "rgb(8,48,107)"
           ]
          ],
          "line": {
           "width": 0
          },
          "reversescale": false,
          "showscale": true,
          "size": 40
         },
         "mode": "markers",
         "type": "scatter",
         "x": [
          911.79,
          50.46,
          905.89,
          880.95,
          636.48,
          685.32,
          602.91,
          533.97,
          623.27,
          700.06,
          428.87,
          724.34,
          64.18,
          655.13,
          821.47,
          974.69,
          869.19,
          833.61,
          951.71,
          832.44,
          958.64,
          366.48,
          306.28,
          474.09
         ],
         "y": [
          51.93,
          725.19,
          259.5,
          406.37,
          868.59,
          945.45,
          456.74,
          197.08,
          202.98,
          542.57,
          547.38,
          624.43,
          818.58,
          0.81,
          0,
          264.03,
          533.99,
          607.54,
          535.54,
          747.57,
          412.05,
          386.99,
          885.79,
          677.68
         ]
        }
       ],
       "layout": {
        "annotations": [
         {
          "arrowcolor": "black",
          "arrowhead": 1,
          "arrowsize": 2,
          "arrowwidth": 1,
          "ax": 838.8084578685956,
          "axref": "x",
          "ay": 9.96884540651206,
          "ayref": "y",
          "showarrow": true,
          "text": "",
          "x": 894.4515421314044,
          "xref": "x",
          "y": 41.96115459348795,
          "yref": "y"
         },
         {
          "arrowcolor": "black",
          "arrowhead": 1,
          "arrowsize": 2,
          "arrowwidth": 1,
          "ax": 969.0036164915304,
          "axref": "x",
          "ay": 244.85540632517632,
          "ayref": "y",
          "showarrow": true,
          "text": "",
          "x": 917.4763835084697,
          "xref": "x",
          "y": 71.10459367482372,
          "yref": "y"
         },
         {
          "arrowcolor": "black",
          "arrowhead": 1,
          "arrowsize": 2,
          "arrowwidth": 1,
          "ax": 906.4582534126907,
          "axref": "x",
          "ay": 239.50807442843507,
          "ayref": "y",
          "showarrow": true,
          "text": "",
          "x": 911.2217465873092,
          "xref": "x",
          "y": 71.92192557156159,
          "yref": "y"
         },
         {
          "arrowcolor": "black",
          "arrowhead": 1,
          "arrowsize": 2,
          "arrowwidth": 1,
          "ax": 454.21460150809753,
          "axref": "x",
          "ay": 679.9090210380527,
          "ayref": "y",
          "showarrow": true,
          "text": "",
          "x": 70.33539849190245,
          "xref": "x",
          "y": 722.9609789619473,
          "yref": "y"
         },
         {
          "arrowcolor": "black",
          "arrowhead": 1,
          "arrowsize": 2,
          "arrowwidth": 1,
          "ax": 352.82517000773504,
          "axref": "x",
          "ay": 401.6032001246251,
          "ayref": "y",
          "showarrow": true,
          "text": "",
          "x": 64.11482999226496,
          "xref": "x",
          "y": 710.5767998753751,
          "yref": "y"
         },
         {
          "arrowcolor": "black",
          "arrowhead": 1,
          "arrowsize": 2,
          "arrowwidth": 1,
          "ax": 61.27298716797947,
          "axref": "x",
          "ay": 798.7923958904958,
          "ayref": "y",
          "showarrow": true,
          "text": "",
          "x": 53.367012832020535,
          "xref": "x",
          "y": 744.9776041095042,
          "yref": "y"
         },
         {
          "arrowcolor": "black",
          "arrowhead": 1,
          "arrowsize": 2,
          "arrowwidth": 1,
          "ax": 954.7332125830122,
          "axref": "x",
          "ay": 262.7159847819919,
          "ayref": "y",
          "showarrow": true,
          "text": "",
          "x": 925.8467874169878,
          "xref": "x",
          "y": 260.8140152180081,
          "yref": "y"
         },
         {
          "arrowcolor": "black",
          "arrowhead": 1,
          "arrowsize": 2,
          "arrowwidth": 1,
          "ax": 884.2982693723278,
          "axref": "x",
          "ay": 386.65226452631214,
          "ayref": "y",
          "showarrow": true,
          "text": "",
          "x": 902.5417306276722,
          "xref": "x",
          "y": 279.21773547368775,
          "yref": "y"
         },
         {
          "arrowcolor": "black",
          "arrowhead": 1,
          "arrowsize": 2,
          "arrowwidth": 1,
          "ax": 911.2217465873092,
          "axref": "x",
          "ay": 71.92192557156159,
          "ayref": "y",
          "showarrow": true,
          "text": "",
          "x": 906.4582534126907,
          "xref": "x",
          "y": 239.50807442843507,
          "yref": "y"
         },
         {
          "arrowcolor": "black",
          "arrowhead": 1,
          "arrowsize": 2,
          "arrowwidth": 1,
          "ax": 902.5417306276722,
          "axref": "x",
          "ay": 279.21773547368775,
          "ayref": "y",
          "showarrow": true,
          "text": "",
          "x": 884.2982693723278,
          "xref": "x",
          "y": 386.65226452631214,
          "yref": "y"
         },
         {
          "arrowcolor": "black",
          "arrowhead": 1,
          "arrowsize": 2,
          "arrowwidth": 1,
          "ax": 938.6932389677595,
          "axref": "x",
          "ay": 410.5916707084165,
          "ayref": "y",
          "showarrow": true,
          "text": "",
          "x": 900.8967610322405,
          "xref": "x",
          "y": 407.8283292915836,
          "yref": "y"
         },
         {
          "arrowcolor": "black",
          "arrowhead": 1,
          "arrowsize": 2,
          "arrowwidth": 1,
          "ax": 871.0251961377754,
          "axref": "x",
          "ay": 514.0743766068954,
          "ayref": "y",
          "showarrow": true,
          "text": "",
          "x": 879.1148038622247,
          "xref": "x",
          "y": 426.28562339310156,
          "yref": "y"
         },
         {
          "arrowcolor": "black",
          "arrowhead": 1,
          "arrowsize": 2,
          "arrowwidth": 1,
          "ax": 674.5935770119232,
          "axref": "x",
          "ay": 928.5697200887882,
          "ayref": "y",
          "showarrow": true,
          "text": "",
          "x": 647.2064229880768,
          "xref": "x",
          "y": 885.4702799112118,
          "yref": "y"
         },
         {
          "arrowcolor": "black",
          "arrowhead": 1,
          "arrowsize": 2,
          "arrowwidth": 1,
          "ax": 486.4768385760769,
          "axref": "x",
          "ay": 693.3824275222084,
          "ayref": "y",
          "showarrow": true,
          "text": "",
          "x": 672.9331614239231,
          "xref": "x",
          "y": 929.7475724777914,
          "yref": "y"
         },
         {
          "arrowcolor": "black",
          "arrowhead": 1,
          "arrowsize": 2,
          "arrowwidth": 1,
          "ax": 647.2064229880768,
          "axref": "x",
          "ay": 885.4702799112118,
          "ayref": "y",
          "showarrow": true,
          "text": "",
          "x": 674.5935770119232,
          "xref": "x",
          "y": 928.5697200887882,
          "yref": "y"
         },
         {
          "arrowcolor": "black",
          "arrowhead": 1,
          "arrowsize": 2,
          "arrowwidth": 1,
          "ax": 820.507069668405,
          "axref": "x",
          "ay": 763.620083292659,
          "ayref": "y",
          "showarrow": true,
          "text": "",
          "x": 697.252930331595,
          "xref": "x",
          "y": 929.3999167073407,
          "yref": "y"
         },
         {
          "arrowcolor": "black",
          "arrowhead": 1,
          "arrowsize": 2,
          "arrowwidth": 1,
          "ax": 621.6704742932891,
          "axref": "x",
          "ay": 222.91593533079322,
          "ayref": "y",
          "showarrow": true,
          "text": "",
          "x": 604.5095257067109,
          "xref": "x",
          "y": 436.8040646692061,
          "yref": "y"
         },
         {
          "arrowcolor": "black",
          "arrowhead": 1,
          "arrowsize": 2,
          "arrowwidth": 1,
          "ax": 644.6242593652142,
          "axref": "x",
          "ay": 17.828502099615434,
          "ayref": "y",
          "showarrow": true,
          "text": "",
          "x": 544.4757406347858,
          "xref": "x",
          "y": 180.06149790038455,
          "yref": "y"
         },
         {
          "arrowcolor": "black",
          "arrowhead": 1,
          "arrowsize": 2,
          "arrowwidth": 1,
          "ax": 603.3135093019374,
          "axref": "x",
          "ay": 201.6614860569029,
          "ayref": "y",
          "showarrow": true,
          "text": "",
          "x": 553.9264906980626,
          "xref": "x",
          "y": 198.39851394309707,
          "yref": "y"
         },
         {
          "arrowcolor": "black",
          "arrowhead": 1,
          "arrowsize": 2,
          "arrowwidth": 1,
          "ax": 379.70898415304225,
          "axref": "x",
          "ay": 371.99020072539116,
          "ayref": "y",
          "showarrow": true,
          "text": "",
          "x": 520.7410158469578,
          "xref": "x",
          "y": 212.07979927460906,
          "yref": "y"
         },
         {
          "arrowcolor": "black",
          "arrowhead": 1,
          "arrowsize": 2,
          "arrowwidth": 1,
          "ax": 553.9264906980626,
          "axref": "x",
          "ay": 198.39851394309707,
          "ayref": "y",
          "showarrow": true,
          "text": "",
          "x": 603.3135093019374,
          "xref": "x",
          "y": 201.6614860569029,
          "yref": "y"
         },
         {
          "arrowcolor": "black",
          "arrowhead": 1,
          "arrowsize": 2,
          "arrowwidth": 1,
          "ax": 652.0166198310795,
          "axref": "x",
          "ay": 20.566185459844746,
          "ayref": "y",
          "showarrow": true,
          "text": "",
          "x": 626.3833801689204,
          "xref": "x",
          "y": 183.22381454015522,
          "yref": "y"
         },
         {
          "arrowcolor": "black",
          "arrowhead": 1,
          "arrowsize": 2,
          "arrowwidth": 1,
          "ax": 604.5095257067109,
          "axref": "x",
          "ay": 436.8040646692061,
          "ayref": "y",
          "showarrow": true,
          "text": "",
          "x": 621.6704742932891,
          "xref": "x",
          "y": 222.91593533079322,
          "yref": "y"
         },
         {
          "arrowcolor": "black",
          "arrowhead": 1,
          "arrowsize": 2,
          "arrowwidth": 1,
          "ax": 718.6528105222471,
          "axref": "x",
          "ay": 605.2556453604261,
          "ayref": "y",
          "showarrow": true,
          "text": "",
          "x": 705.7471894777528,
          "xref": "x",
          "y": 561.7443546395734,
          "yref": "y"
         },
         {
          "arrowcolor": "black",
          "arrowhead": 1,
          "arrowsize": 2,
          "arrowwidth": 1,
          "ax": 448.86685485728214,
          "axref": "x",
          "ay": 547.0253229401396,
          "ayref": "y",
          "showarrow": true,
          "text": "",
          "x": 680.0631451427178,
          "xref": "x",
          "y": 542.9246770598603,
          "yref": "y"
         },
         {
          "arrowcolor": "black",
          "arrowhead": 1,
          "arrowsize": 2,
          "arrowwidth": 1,
          "ax": 849.215685972006,
          "axref": "x",
          "ay": 535.0033010959628,
          "ayref": "y",
          "showarrow": true,
          "text": "",
          "x": 720.034314027994,
          "xref": "x",
          "y": 541.5566989040373,
          "yref": "y"
         },
         {
          "arrowcolor": "black",
          "arrowhead": 1,
          "arrowsize": 2,
          "arrowwidth": 1,
          "ax": 373.7305515594256,
          "axref": "x",
          "ay": 405.6294608850178,
          "ayref": "y",
          "showarrow": true,
          "text": "",
          "x": 421.61944844057444,
          "xref": "x",
          "y": 528.7405391149821,
          "yref": "y"
         },
         {
          "arrowcolor": "black",
          "arrowhead": 1,
          "arrowsize": 2,
          "arrowwidth": 1,
          "ax": 467.53274983234377,
          "axref": "x",
          "ay": 658.7854910029722,
          "ayref": "y",
          "showarrow": true,
          "text": "",
          "x": 435.4272501676562,
          "xref": "x",
          "y": 566.274508997028,
          "yref": "y"
         },
         {
          "arrowcolor": "black",
          "arrowhead": 1,
          "arrowsize": 2,
          "arrowwidth": 1,
          "ax": 680.0631451427178,
          "axref": "x",
          "ay": 542.9246770598603,
          "ayref": "y",
          "showarrow": true,
          "text": "",
          "x": 448.86685485728214,
          "xref": "x",
          "y": 547.0253229401396,
          "yref": "y"
         },
         {
          "arrowcolor": "black",
          "arrowhead": 1,
          "arrowsize": 2,
          "arrowwidth": 1,
          "ax": 705.7471894777528,
          "axref": "x",
          "ay": 561.7443546395739,
          "ayref": "y",
          "showarrow": true,
          "text": "",
          "x": 718.6528105222471,
          "xref": "x",
          "y": 605.2556453604266,
          "yref": "y"
         },
         {
          "arrowcolor": "black",
          "arrowhead": 1,
          "arrowsize": 2,
          "arrowwidth": 1,
          "ax": 53.367012832020535,
          "axref": "x",
          "ay": 744.9776041095042,
          "ayref": "y",
          "showarrow": true,
          "text": "",
          "x": 61.27298716797947,
          "xref": "x",
          "y": 798.7923958904958,
          "yref": "y"
         },
         {
          "arrowcolor": "black",
          "arrowhead": 1,
          "arrowsize": 2,
          "arrowwidth": 1,
          "ax": 287.0088209444718,
          "axref": "x",
          "ay": 880.4400787099461,
          "ayref": "y",
          "showarrow": true,
          "text": "",
          "x": 83.45117905552819,
          "xref": "x",
          "y": 823.9299212900539,
          "yref": "y"
         },
         {
          "arrowcolor": "black",
          "arrowhead": 1,
          "arrowsize": 2,
          "arrowwidth": 1,
          "ax": 801.4702371204006,
          "axref": "x",
          "ay": 0.09738973146853169,
          "ayref": "y",
          "showarrow": true,
          "text": "",
          "x": 675.1297628795994,
          "xref": "x",
          "y": 0.7126102685314688,
          "yref": "y"
         },
         {
          "arrowcolor": "black",
          "arrowhead": 1,
          "arrowsize": 2,
          "arrowwidth": 1,
          "ax": 544.4757406347858,
          "axref": "x",
          "ay": 180.06149790038455,
          "ayref": "y",
          "showarrow": true,
          "text": "",
          "x": 644.6242593652142,
          "xref": "x",
          "y": 17.828502099615434,
          "yref": "y"
         },
         {
          "arrowcolor": "black",
          "arrowhead": 1,
          "arrowsize": 2,
          "arrowwidth": 1,
          "ax": 626.3833801689204,
          "axref": "x",
          "ay": 183.22381454015522,
          "ayref": "y",
          "showarrow": true,
          "text": "",
          "x": 652.0166198310795,
          "xref": "x",
          "y": 20.566185459844746,
          "yref": "y"
         },
         {
          "arrowcolor": "black",
          "arrowhead": 1,
          "arrowsize": 2,
          "arrowwidth": 1,
          "ax": 675.1297628795994,
          "axref": "x",
          "ay": 0.7126102685314688,
          "ayref": "y",
          "showarrow": true,
          "text": "",
          "x": 801.4702371204006,
          "xref": "x",
          "y": 0.09738973146853169,
          "yref": "y"
         },
         {
          "arrowcolor": "black",
          "arrowhead": 1,
          "arrowsize": 2,
          "arrowwidth": 1,
          "ax": 894.4515421314044,
          "axref": "x",
          "ay": 41.96115459348795,
          "ayref": "y",
          "showarrow": true,
          "text": "",
          "x": 838.8084578685956,
          "xref": "x",
          "y": 9.96884540651206,
          "yref": "y"
         },
         {
          "arrowcolor": "black",
          "arrowhead": 1,
          "arrowsize": 2,
          "arrowwidth": 1,
          "ax": 925.8467874169878,
          "axref": "x",
          "ay": 260.8140152180081,
          "ayref": "y",
          "showarrow": true,
          "text": "",
          "x": 954.7332125830122,
          "xref": "x",
          "y": 262.7159847819919,
          "yref": "y"
         },
         {
          "arrowcolor": "black",
          "arrowhead": 1,
          "arrowsize": 2,
          "arrowwidth": 1,
          "ax": 917.4763835084697,
          "axref": "x",
          "ay": 71.10459367482372,
          "ayref": "y",
          "showarrow": true,
          "text": "",
          "x": 969.0036164915304,
          "xref": "x",
          "y": 244.85540632517632,
          "yref": "y"
         },
         {
          "arrowcolor": "black",
          "arrowhead": 1,
          "arrowsize": 2,
          "arrowwidth": 1,
          "ax": 960.7959885472172,
          "axref": "x",
          "ay": 392.1665467439816,
          "ayref": "y",
          "showarrow": true,
          "text": "",
          "x": 972.5340114527828,
          "xref": "x",
          "y": 283.91345325601833,
          "yref": "y"
         },
         {
          "arrowcolor": "black",
          "arrowhead": 1,
          "arrowsize": 2,
          "arrowwidth": 1,
          "ax": 879.1148038622247,
          "axref": "x",
          "ay": 426.2856233931034,
          "ayref": "y",
          "showarrow": true,
          "text": "",
          "x": 871.0251961377754,
          "xref": "x",
          "y": 514.0743766068972,
          "yref": "y"
         },
         {
          "arrowcolor": "black",
          "arrowhead": 1,
          "arrowsize": 2,
          "arrowwidth": 1,
          "ax": 720.034314027994,
          "axref": "x",
          "ay": 541.5566989040373,
          "ayref": "y",
          "showarrow": true,
          "text": "",
          "x": 849.215685972006,
          "xref": "x",
          "y": 535.0033010959628,
          "yref": "y"
         },
         {
          "arrowcolor": "black",
          "arrowhead": 1,
          "arrowsize": 2,
          "arrowwidth": 1,
          "ax": 842.3194909840199,
          "axref": "x",
          "ay": 589.5359791491098,
          "ayref": "y",
          "showarrow": true,
          "text": "",
          "x": 860.4805090159801,
          "xref": "x",
          "y": 551.9940208508899,
          "yref": "y"
         },
         {
          "arrowcolor": "black",
          "arrowhead": 1,
          "arrowsize": 2,
          "arrowwidth": 1,
          "ax": 931.7135271997714,
          "axref": "x",
          "ay": 535.1643997474508,
          "ayref": "y",
          "showarrow": true,
          "text": "",
          "x": 889.1864728002287,
          "xref": "x",
          "y": 534.3656002525491,
          "yref": "y"
         },
         {
          "arrowcolor": "black",
          "arrowhead": 1,
          "arrowsize": 2,
          "arrowwidth": 1,
          "ax": 832.6071012157636,
          "axref": "x",
          "ay": 727.5706980825926,
          "ayref": "y",
          "showarrow": true,
          "text": "",
          "x": 833.4428987842365,
          "xref": "x",
          "y": 627.539301917408,
          "yref": "y"
         },
         {
          "arrowcolor": "black",
          "arrowhead": 1,
          "arrowsize": 2,
          "arrowwidth": 1,
          "ax": 934.6332927330661,
          "axref": "x",
          "ay": 545.9508630247183,
          "ayref": "y",
          "showarrow": true,
          "text": "",
          "x": 850.6867072669339,
          "xref": "x",
          "y": 597.1291369752815,
          "yref": "y"
         },
         {
          "arrowcolor": "black",
          "arrowhead": 1,
          "arrowsize": 2,
          "arrowwidth": 1,
          "ax": 860.4805090159801,
          "axref": "x",
          "ay": 551.9940208508899,
          "ayref": "y",
          "showarrow": true,
          "text": "",
          "x": 842.3194909840199,
          "xref": "x",
          "y": 589.5359791491098,
          "yref": "y"
         },
         {
          "arrowcolor": "black",
          "arrowhead": 1,
          "arrowsize": 2,
          "arrowwidth": 1,
          "ax": 889.1864728002287,
          "axref": "x",
          "ay": 534.3656002525491,
          "ayref": "y",
          "showarrow": true,
          "text": "",
          "x": 931.7135271997714,
          "xref": "x",
          "y": 535.1643997474508,
          "yref": "y"
         },
         {
          "arrowcolor": "black",
          "arrowhead": 1,
          "arrowsize": 2,
          "arrowwidth": 1,
          "ax": 957.519405026901,
          "axref": "x",
          "ay": 432.0185819953804,
          "ayref": "y",
          "showarrow": true,
          "text": "",
          "x": 952.830594973099,
          "xref": "x",
          "y": 515.5714180046198,
          "yref": "y"
         },
         {
          "arrowcolor": "black",
          "arrowhead": 1,
          "arrowsize": 2,
          "arrowwidth": 1,
          "ax": 850.6867072669339,
          "axref": "x",
          "ay": 597.1291369752815,
          "ayref": "y",
          "showarrow": true,
          "text": "",
          "x": 934.6332927330661,
          "xref": "x",
          "y": 545.9508630247183,
          "yref": "y"
         },
         {
          "arrowcolor": "black",
          "arrowhead": 1,
          "arrowsize": 2,
          "arrowwidth": 1,
          "ax": 697.252930331595,
          "axref": "x",
          "ay": 929.3999167073409,
          "ayref": "y",
          "showarrow": true,
          "text": "",
          "x": 820.507069668405,
          "xref": "x",
          "y": 763.6200832926593,
          "yref": "y"
         },
         {
          "arrowcolor": "black",
          "arrowhead": 1,
          "arrowsize": 2,
          "arrowwidth": 1,
          "ax": 833.4428987842365,
          "axref": "x",
          "ay": 627.5393019173935,
          "ayref": "y",
          "showarrow": true,
          "text": "",
          "x": 832.6071012157636,
          "xref": "x",
          "y": 727.570698082578,
          "yref": "y"
         },
         {
          "arrowcolor": "black",
          "arrowhead": 1,
          "arrowsize": 2,
          "arrowwidth": 1,
          "ax": 493.7201407574657,
          "axref": "x",
          "ay": 681.5085211037791,
          "ayref": "y",
          "showarrow": true,
          "text": "",
          "x": 812.8098592425343,
          "xref": "x",
          "y": 743.7414788962208,
          "yref": "y"
         },
         {
          "arrowcolor": "black",
          "arrowhead": 1,
          "arrowsize": 2,
          "arrowwidth": 1,
          "ax": 900.8967610322405,
          "axref": "x",
          "ay": 407.8283292915836,
          "ayref": "y",
          "showarrow": true,
          "text": "",
          "x": 938.6932389677595,
          "xref": "x",
          "y": 410.5916707084165,
          "yref": "y"
         },
         {
          "arrowcolor": "black",
          "arrowhead": 1,
          "arrowsize": 2,
          "arrowwidth": 1,
          "ax": 972.5340114527828,
          "axref": "x",
          "ay": 283.91345325602015,
          "ayref": "y",
          "showarrow": true,
          "text": "",
          "x": 960.7959885472172,
          "xref": "x",
          "y": 392.1665467439834,
          "yref": "y"
         },
         {
          "arrowcolor": "black",
          "arrowhead": 1,
          "arrowsize": 2,
          "arrowwidth": 1,
          "ax": 952.830594973099,
          "axref": "x",
          "ay": 515.5714180046198,
          "ayref": "y",
          "showarrow": true,
          "text": "",
          "x": 957.519405026901,
          "xref": "x",
          "y": 432.0185819953804,
          "yref": "y"
         },
         {
          "arrowcolor": "black",
          "arrowhead": 1,
          "arrowsize": 2,
          "arrowwidth": 1,
          "ax": 520.7410158469578,
          "axref": "x",
          "ay": 212.07979927460906,
          "ayref": "y",
          "showarrow": true,
          "text": "",
          "x": 379.70898415304225,
          "xref": "x",
          "y": 371.99020072539116,
          "yref": "y"
         },
         {
          "arrowcolor": "black",
          "arrowhead": 1,
          "arrowsize": 2,
          "arrowwidth": 1,
          "ax": 64.11482999226496,
          "axref": "x",
          "ay": 710.5767998753751,
          "ayref": "y",
          "showarrow": true,
          "text": "",
          "x": 352.82517000773504,
          "xref": "x",
          "y": 401.6032001246251,
          "yref": "y"
         },
         {
          "arrowcolor": "black",
          "arrowhead": 1,
          "arrowsize": 2,
          "arrowwidth": 1,
          "ax": 421.61944844057444,
          "axref": "x",
          "ay": 528.7405391149822,
          "ayref": "y",
          "showarrow": true,
          "text": "",
          "x": 373.7305515594256,
          "xref": "x",
          "y": 405.6294608850179,
          "yref": "y"
         },
         {
          "arrowcolor": "black",
          "arrowhead": 1,
          "arrowsize": 2,
          "arrowwidth": 1,
          "ax": 83.45117905552819,
          "axref": "x",
          "ay": 823.9299212900539,
          "ayref": "y",
          "showarrow": true,
          "text": "",
          "x": 287.0088209444718,
          "xref": "x",
          "y": 880.4400787099461,
          "yref": "y"
         },
         {
          "arrowcolor": "black",
          "arrowhead": 1,
          "arrowsize": 2,
          "arrowwidth": 1,
          "ax": 70.33539849190245,
          "axref": "x",
          "ay": 722.9609789619473,
          "ayref": "y",
          "showarrow": true,
          "text": "",
          "x": 454.21460150809753,
          "xref": "x",
          "y": 679.9090210380527,
          "yref": "y"
         },
         {
          "arrowcolor": "black",
          "arrowhead": 1,
          "arrowsize": 2,
          "arrowwidth": 1,
          "ax": 435.4272501676562,
          "axref": "x",
          "ay": 566.274508997028,
          "ayref": "y",
          "showarrow": true,
          "text": "",
          "x": 467.53274983234377,
          "xref": "x",
          "y": 658.7854910029722,
          "yref": "y"
         },
         {
          "arrowcolor": "black",
          "arrowhead": 1,
          "arrowsize": 2,
          "arrowwidth": 1,
          "ax": 812.8098592425343,
          "axref": "x",
          "ay": 743.7414788962208,
          "ayref": "y",
          "showarrow": true,
          "text": "",
          "x": 493.7201407574657,
          "xref": "x",
          "y": 681.5085211037791,
          "yref": "y"
         },
         {
          "arrowcolor": "black",
          "arrowhead": 1,
          "arrowsize": 2,
          "arrowwidth": 1,
          "ax": 672.9331614239231,
          "axref": "x",
          "ay": 929.7475724777914,
          "ayref": "y",
          "showarrow": true,
          "text": "",
          "x": 486.4768385760769,
          "xref": "x",
          "y": 693.3824275222084,
          "yref": "y"
         }
        ],
        "height": 1000,
        "hovermode": "closest",
        "margin": {
         "b": 20,
         "l": 5,
         "r": 0,
         "t": 40
        },
        "plot_bgcolor": "rgba(0, 0, 0, 0)",
        "showlegend": false,
        "template": {
         "data": {
          "bar": [
           {
            "error_x": {
             "color": "#2a3f5f"
            },
            "error_y": {
             "color": "#2a3f5f"
            },
            "marker": {
             "line": {
              "color": "#E5ECF6",
              "width": 0.5
             }
            },
            "type": "bar"
           }
          ],
          "barpolar": [
           {
            "marker": {
             "line": {
              "color": "#E5ECF6",
              "width": 0.5
             }
            },
            "type": "barpolar"
           }
          ],
          "carpet": [
           {
            "aaxis": {
             "endlinecolor": "#2a3f5f",
             "gridcolor": "white",
             "linecolor": "white",
             "minorgridcolor": "white",
             "startlinecolor": "#2a3f5f"
            },
            "baxis": {
             "endlinecolor": "#2a3f5f",
             "gridcolor": "white",
             "linecolor": "white",
             "minorgridcolor": "white",
             "startlinecolor": "#2a3f5f"
            },
            "type": "carpet"
           }
          ],
          "choropleth": [
           {
            "colorbar": {
             "outlinewidth": 0,
             "ticks": ""
            },
            "type": "choropleth"
           }
          ],
          "contour": [
           {
            "colorbar": {
             "outlinewidth": 0,
             "ticks": ""
            },
            "colorscale": [
             [
              0,
              "#0d0887"
             ],
             [
              0.1111111111111111,
              "#46039f"
             ],
             [
              0.2222222222222222,
              "#7201a8"
             ],
             [
              0.3333333333333333,
              "#9c179e"
             ],
             [
              0.4444444444444444,
              "#bd3786"
             ],
             [
              0.5555555555555556,
              "#d8576b"
             ],
             [
              0.6666666666666666,
              "#ed7953"
             ],
             [
              0.7777777777777778,
              "#fb9f3a"
             ],
             [
              0.8888888888888888,
              "#fdca26"
             ],
             [
              1,
              "#f0f921"
             ]
            ],
            "type": "contour"
           }
          ],
          "contourcarpet": [
           {
            "colorbar": {
             "outlinewidth": 0,
             "ticks": ""
            },
            "type": "contourcarpet"
           }
          ],
          "heatmap": [
           {
            "colorbar": {
             "outlinewidth": 0,
             "ticks": ""
            },
            "colorscale": [
             [
              0,
              "#0d0887"
             ],
             [
              0.1111111111111111,
              "#46039f"
             ],
             [
              0.2222222222222222,
              "#7201a8"
             ],
             [
              0.3333333333333333,
              "#9c179e"
             ],
             [
              0.4444444444444444,
              "#bd3786"
             ],
             [
              0.5555555555555556,
              "#d8576b"
             ],
             [
              0.6666666666666666,
              "#ed7953"
             ],
             [
              0.7777777777777778,
              "#fb9f3a"
             ],
             [
              0.8888888888888888,
              "#fdca26"
             ],
             [
              1,
              "#f0f921"
             ]
            ],
            "type": "heatmap"
           }
          ],
          "heatmapgl": [
           {
            "colorbar": {
             "outlinewidth": 0,
             "ticks": ""
            },
            "colorscale": [
             [
              0,
              "#0d0887"
             ],
             [
              0.1111111111111111,
              "#46039f"
             ],
             [
              0.2222222222222222,
              "#7201a8"
             ],
             [
              0.3333333333333333,
              "#9c179e"
             ],
             [
              0.4444444444444444,
              "#bd3786"
             ],
             [
              0.5555555555555556,
              "#d8576b"
             ],
             [
              0.6666666666666666,
              "#ed7953"
             ],
             [
              0.7777777777777778,
              "#fb9f3a"
             ],
             [
              0.8888888888888888,
              "#fdca26"
             ],
             [
              1,
              "#f0f921"
             ]
            ],
            "type": "heatmapgl"
           }
          ],
          "histogram": [
           {
            "marker": {
             "colorbar": {
              "outlinewidth": 0,
              "ticks": ""
             }
            },
            "type": "histogram"
           }
          ],
          "histogram2d": [
           {
            "colorbar": {
             "outlinewidth": 0,
             "ticks": ""
            },
            "colorscale": [
             [
              0,
              "#0d0887"
             ],
             [
              0.1111111111111111,
              "#46039f"
             ],
             [
              0.2222222222222222,
              "#7201a8"
             ],
             [
              0.3333333333333333,
              "#9c179e"
             ],
             [
              0.4444444444444444,
              "#bd3786"
             ],
             [
              0.5555555555555556,
              "#d8576b"
             ],
             [
              0.6666666666666666,
              "#ed7953"
             ],
             [
              0.7777777777777778,
              "#fb9f3a"
             ],
             [
              0.8888888888888888,
              "#fdca26"
             ],
             [
              1,
              "#f0f921"
             ]
            ],
            "type": "histogram2d"
           }
          ],
          "histogram2dcontour": [
           {
            "colorbar": {
             "outlinewidth": 0,
             "ticks": ""
            },
            "colorscale": [
             [
              0,
              "#0d0887"
             ],
             [
              0.1111111111111111,
              "#46039f"
             ],
             [
              0.2222222222222222,
              "#7201a8"
             ],
             [
              0.3333333333333333,
              "#9c179e"
             ],
             [
              0.4444444444444444,
              "#bd3786"
             ],
             [
              0.5555555555555556,
              "#d8576b"
             ],
             [
              0.6666666666666666,
              "#ed7953"
             ],
             [
              0.7777777777777778,
              "#fb9f3a"
             ],
             [
              0.8888888888888888,
              "#fdca26"
             ],
             [
              1,
              "#f0f921"
             ]
            ],
            "type": "histogram2dcontour"
           }
          ],
          "mesh3d": [
           {
            "colorbar": {
             "outlinewidth": 0,
             "ticks": ""
            },
            "type": "mesh3d"
           }
          ],
          "parcoords": [
           {
            "line": {
             "colorbar": {
              "outlinewidth": 0,
              "ticks": ""
             }
            },
            "type": "parcoords"
           }
          ],
          "pie": [
           {
            "automargin": true,
            "type": "pie"
           }
          ],
          "scatter": [
           {
            "marker": {
             "colorbar": {
              "outlinewidth": 0,
              "ticks": ""
             }
            },
            "type": "scatter"
           }
          ],
          "scatter3d": [
           {
            "line": {
             "colorbar": {
              "outlinewidth": 0,
              "ticks": ""
             }
            },
            "marker": {
             "colorbar": {
              "outlinewidth": 0,
              "ticks": ""
             }
            },
            "type": "scatter3d"
           }
          ],
          "scattercarpet": [
           {
            "marker": {
             "colorbar": {
              "outlinewidth": 0,
              "ticks": ""
             }
            },
            "type": "scattercarpet"
           }
          ],
          "scattergeo": [
           {
            "marker": {
             "colorbar": {
              "outlinewidth": 0,
              "ticks": ""
             }
            },
            "type": "scattergeo"
           }
          ],
          "scattergl": [
           {
            "marker": {
             "colorbar": {
              "outlinewidth": 0,
              "ticks": ""
             }
            },
            "type": "scattergl"
           }
          ],
          "scattermapbox": [
           {
            "marker": {
             "colorbar": {
              "outlinewidth": 0,
              "ticks": ""
             }
            },
            "type": "scattermapbox"
           }
          ],
          "scatterpolar": [
           {
            "marker": {
             "colorbar": {
              "outlinewidth": 0,
              "ticks": ""
             }
            },
            "type": "scatterpolar"
           }
          ],
          "scatterpolargl": [
           {
            "marker": {
             "colorbar": {
              "outlinewidth": 0,
              "ticks": ""
             }
            },
            "type": "scatterpolargl"
           }
          ],
          "scatterternary": [
           {
            "marker": {
             "colorbar": {
              "outlinewidth": 0,
              "ticks": ""
             }
            },
            "type": "scatterternary"
           }
          ],
          "surface": [
           {
            "colorbar": {
             "outlinewidth": 0,
             "ticks": ""
            },
            "colorscale": [
             [
              0,
              "#0d0887"
             ],
             [
              0.1111111111111111,
              "#46039f"
             ],
             [
              0.2222222222222222,
              "#7201a8"
             ],
             [
              0.3333333333333333,
              "#9c179e"
             ],
             [
              0.4444444444444444,
              "#bd3786"
             ],
             [
              0.5555555555555556,
              "#d8576b"
             ],
             [
              0.6666666666666666,
              "#ed7953"
             ],
             [
              0.7777777777777778,
              "#fb9f3a"
             ],
             [
              0.8888888888888888,
              "#fdca26"
             ],
             [
              1,
              "#f0f921"
             ]
            ],
            "type": "surface"
           }
          ],
          "table": [
           {
            "cells": {
             "fill": {
              "color": "#EBF0F8"
             },
             "line": {
              "color": "white"
             }
            },
            "header": {
             "fill": {
              "color": "#C8D4E3"
             },
             "line": {
              "color": "white"
             }
            },
            "type": "table"
           }
          ]
         },
         "layout": {
          "annotationdefaults": {
           "arrowcolor": "#2a3f5f",
           "arrowhead": 0,
           "arrowwidth": 1
          },
          "coloraxis": {
           "colorbar": {
            "outlinewidth": 0,
            "ticks": ""
           }
          },
          "colorscale": {
           "diverging": [
            [
             0,
             "#8e0152"
            ],
            [
             0.1,
             "#c51b7d"
            ],
            [
             0.2,
             "#de77ae"
            ],
            [
             0.3,
             "#f1b6da"
            ],
            [
             0.4,
             "#fde0ef"
            ],
            [
             0.5,
             "#f7f7f7"
            ],
            [
             0.6,
             "#e6f5d0"
            ],
            [
             0.7,
             "#b8e186"
            ],
            [
             0.8,
             "#7fbc41"
            ],
            [
             0.9,
             "#4d9221"
            ],
            [
             1,
             "#276419"
            ]
           ],
           "sequential": [
            [
             0,
             "#0d0887"
            ],
            [
             0.1111111111111111,
             "#46039f"
            ],
            [
             0.2222222222222222,
             "#7201a8"
            ],
            [
             0.3333333333333333,
             "#9c179e"
            ],
            [
             0.4444444444444444,
             "#bd3786"
            ],
            [
             0.5555555555555556,
             "#d8576b"
            ],
            [
             0.6666666666666666,
             "#ed7953"
            ],
            [
             0.7777777777777778,
             "#fb9f3a"
            ],
            [
             0.8888888888888888,
             "#fdca26"
            ],
            [
             1,
             "#f0f921"
            ]
           ],
           "sequentialminus": [
            [
             0,
             "#0d0887"
            ],
            [
             0.1111111111111111,
             "#46039f"
            ],
            [
             0.2222222222222222,
             "#7201a8"
            ],
            [
             0.3333333333333333,
             "#9c179e"
            ],
            [
             0.4444444444444444,
             "#bd3786"
            ],
            [
             0.5555555555555556,
             "#d8576b"
            ],
            [
             0.6666666666666666,
             "#ed7953"
            ],
            [
             0.7777777777777778,
             "#fb9f3a"
            ],
            [
             0.8888888888888888,
             "#fdca26"
            ],
            [
             1,
             "#f0f921"
            ]
           ]
          },
          "colorway": [
           "#636efa",
           "#EF553B",
           "#00cc96",
           "#ab63fa",
           "#FFA15A",
           "#19d3f3",
           "#FF6692",
           "#B6E880",
           "#FF97FF",
           "#FECB52"
          ],
          "font": {
           "color": "#2a3f5f"
          },
          "geo": {
           "bgcolor": "white",
           "lakecolor": "white",
           "landcolor": "#E5ECF6",
           "showlakes": true,
           "showland": true,
           "subunitcolor": "white"
          },
          "hoverlabel": {
           "align": "left"
          },
          "hovermode": "closest",
          "mapbox": {
           "style": "light"
          },
          "paper_bgcolor": "white",
          "plot_bgcolor": "#E5ECF6",
          "polar": {
           "angularaxis": {
            "gridcolor": "white",
            "linecolor": "white",
            "ticks": ""
           },
           "bgcolor": "#E5ECF6",
           "radialaxis": {
            "gridcolor": "white",
            "linecolor": "white",
            "ticks": ""
           }
          },
          "scene": {
           "xaxis": {
            "backgroundcolor": "#E5ECF6",
            "gridcolor": "white",
            "gridwidth": 2,
            "linecolor": "white",
            "showbackground": true,
            "ticks": "",
            "zerolinecolor": "white"
           },
           "yaxis": {
            "backgroundcolor": "#E5ECF6",
            "gridcolor": "white",
            "gridwidth": 2,
            "linecolor": "white",
            "showbackground": true,
            "ticks": "",
            "zerolinecolor": "white"
           },
           "zaxis": {
            "backgroundcolor": "#E5ECF6",
            "gridcolor": "white",
            "gridwidth": 2,
            "linecolor": "white",
            "showbackground": true,
            "ticks": "",
            "zerolinecolor": "white"
           }
          },
          "shapedefaults": {
           "line": {
            "color": "#2a3f5f"
           }
          },
          "ternary": {
           "aaxis": {
            "gridcolor": "white",
            "linecolor": "white",
            "ticks": ""
           },
           "baxis": {
            "gridcolor": "white",
            "linecolor": "white",
            "ticks": ""
           },
           "bgcolor": "#E5ECF6",
           "caxis": {
            "gridcolor": "white",
            "linecolor": "white",
            "ticks": ""
           }
          },
          "title": {
           "x": 0.05
          },
          "xaxis": {
           "automargin": true,
           "gridcolor": "white",
           "linecolor": "white",
           "ticks": "",
           "title": {
            "standoff": 15
           },
           "zerolinecolor": "white",
           "zerolinewidth": 2
          },
          "yaxis": {
           "automargin": true,
           "gridcolor": "white",
           "linecolor": "white",
           "ticks": "",
           "title": {
            "standoff": 15
           },
           "zerolinecolor": "white",
           "zerolinewidth": 2
          }
         }
        },
        "title": {
         "font": {
          "size": 20
         },
         "text": "Maximum Node Idleness",
         "x": 0.5
        },
        "width": 1200,
        "xaxis": {
         "showgrid": false,
         "showticklabels": false,
         "zeroline": false
        },
        "yaxis": {
         "scaleanchor": "x",
         "scaleratio": 1,
         "showgrid": false,
         "showticklabels": false,
         "zeroline": false
        }
       }
      }
     },
     "metadata": {}
    }
   ],
   "source": [
    "#color map of maximum idleness\n",
    "max_trace = go.Scatter(\n",
    "    x=node_x, y=node_y,\n",
    "    mode='markers',\n",
    "    hoverinfo='text',\n",
    "    marker=dict(\n",
    "        showscale=True,\n",
    "        # colorscale options\n",
    "        #'Greys' | 'YlGnBu' | 'Greens' | 'YlOrRd' | 'Bluered' | 'RdBu' |\n",
    "        #'Reds' | 'Blues' | 'Picnic' | 'Rainbow' | 'Portland' | 'Jet' |\n",
    "        #'Hot' | 'Blackbody' | 'Earth' | 'Electric' | 'Viridis' |\n",
    "        colorscale='Blues',\n",
    "        reversescale=False,\n",
    "        color=max_idle,\n",
    "        size=2 * d,\n",
    "        # cmin = 0.,\n",
    "        # cmax = 300.,\n",
    "        # opacity = 0.5,\n",
    "        # showscale = False,\n",
    "        colorbar=dict(\n",
    "            thickness=15,\n",
    "            title='Max. Node<br>Idleness',\n",
    "            xanchor='right',\n",
    "            titleside='top'\n",
    "        ),\n",
    "        line_width=0))\n",
    "\n",
    "fig = go.Figure(data=[max_trace],\n",
    "            layout=go.Layout(\n",
    "            # title='Graph \\'{}\\''.format(config['graph']),\n",
    "            # titlefont_size=16,\n",
    "            showlegend=False,\n",
    "            hovermode='closest',\n",
    "            margin=dict(b=20,l=5,r=0,t=40),\n",
    "            xaxis=dict(showgrid=False, zeroline=False, showticklabels=False),\n",
    "            yaxis=dict(showgrid=False, zeroline=False, showticklabels=False), \n",
    "            width=1200,\n",
    "            height=1000)\n",
    "            )\n",
    "\n",
    "# fig.add_trace(go.Heatmap(x = node_x, y = node_y, z = node_z))\n",
    "for i in range(0, len(edge_x), 3):\n",
    "    # print (edge_x[i])\n",
    "    x0 = edge_x[i + 1]  # arrows' head\n",
    "    y0 = edge_y[i + 1]  # arrows' head\n",
    "    x1 = edge_x[i]  # arrows' tail\n",
    "    y1 = edge_y[i]  # arrows' tail\n",
    "    # print (x0, y0, x1, y1)\n",
    "\n",
    "    vert = True\n",
    "    if x0 != x1:\n",
    "        m = (y1 - y0)/(x1 - x0)\n",
    "        c = y0 - m * x0\n",
    "        vert = False\n",
    "    \n",
    "    if vert:\n",
    "        yt = y0 + d * np.sign(y1 - y0)\n",
    "        yh = y1 - d * np.sign(y1 - y0)\n",
    "        xt = x0\n",
    "        xh = x1\n",
    "    else:\n",
    "        if y1 == y0:\n",
    "            xt = x0 + d * np.sign(x1 - x0)\n",
    "            xh = x1 - d * np.sign(x1 - x0)\n",
    "            yt = y0\n",
    "            yh = y1\n",
    "        else:\n",
    "            xt = x0 + math.sqrt(d ** 2 / (m ** 2 + 1)) * np.sign(x1 - x0)\n",
    "            xh = x1 - math.sqrt(d ** 2 / (m ** 2 + 1)) * np.sign(x1 - x0)\n",
    "            yt = m * xt + c\n",
    "            yh = m * xh + c\n",
    "    \n",
    "\n",
    "    fig.add_annotation(\n",
    "        x=xh,  # arrows' head\n",
    "        y=yh,  # arrows' head\n",
    "        ax=xt,  # arrows' tail\n",
    "        ay=yt,  # arrows' tail\n",
    "        xref='x',\n",
    "        yref='y',\n",
    "        axref='x',\n",
    "        ayref='y',\n",
    "        text='',  # if you want only the arrow\n",
    "        showarrow=True,\n",
    "        arrowhead=1,\n",
    "        arrowsize=2,\n",
    "        arrowwidth=1,\n",
    "        arrowcolor='black'\n",
    "        )\n",
    "fig.update_yaxes(\n",
    "    scaleanchor = \"x\",\n",
    "    scaleratio = 1,\n",
    ")\n",
    "fig.update_layout(title_text='Maximum Node Idleness', title_x=0.5, titlefont_size = 20, plot_bgcolor = 'rgba(0, 0, 0, 0)')\n",
    "fig.to_image(format=\"png\", engine=\"kaleido\")\n",
    "fig.write_image('{}/{}_max_idle.png'.format(sim_dir, name))\n",
    "fig.show()\n"
   ]
  },
  {
   "cell_type": "code",
   "execution_count": 12,
   "metadata": {},
   "outputs": [
    {
     "output_type": "display_data",
     "data": {
      "application/vnd.plotly.v1+json": {
       "config": {
        "plotlyServerURL": "https://plot.ly"
       },
       "data": [
        {
         "hoverinfo": "text",
         "marker": {
          "color": [],
          "colorbar": {
           "thickness": 15,
           "title": {
            "side": "top",
            "text": "Max. Node<br>Idleness"
           },
           "xanchor": "right"
          },
          "colorscale": [
           [
            0,
            "rgb(247,251,255)"
           ],
           [
            0.125,
            "rgb(222,235,247)"
           ],
           [
            0.25,
            "rgb(198,219,239)"
           ],
           [
            0.375,
            "rgb(158,202,225)"
           ],
           [
            0.5,
            "rgb(107,174,214)"
           ],
           [
            0.625,
            "rgb(66,146,198)"
           ],
           [
            0.75,
            "rgb(33,113,181)"
           ],
           [
            0.875,
            "rgb(8,81,156)"
           ],
           [
            1,
            "rgb(8,48,107)"
           ]
          ],
          "line": {
           "width": 0
          },
          "reversescale": false,
          "showscale": false,
          "size": 40
         },
         "mode": "markers",
         "type": "scatter",
         "x": [
          911.79,
          50.46,
          905.89,
          880.95,
          636.48,
          685.32,
          602.91,
          533.97,
          623.27,
          700.06,
          428.87,
          724.34,
          64.18,
          655.13,
          821.47,
          974.69,
          869.19,
          833.61,
          951.71,
          832.44,
          958.64,
          366.48,
          306.28,
          474.09
         ],
         "y": [
          51.93,
          725.19,
          259.5,
          406.37,
          868.59,
          945.45,
          456.74,
          197.08,
          202.98,
          542.57,
          547.38,
          624.43,
          818.58,
          0.81,
          0,
          264.03,
          533.99,
          607.54,
          535.54,
          747.57,
          412.05,
          386.99,
          885.79,
          677.68
         ]
        },
        {
         "hoverinfo": "none",
         "line": {
          "color": "#888",
          "shape": "linear",
          "width": 0.5
         },
         "mode": "lines",
         "opacity": 0.5,
         "type": "scatter",
         "x": [
          911.79,
          821.47,
          null,
          911.79,
          974.69,
          null,
          911.79,
          905.89,
          null,
          50.46,
          474.09,
          null,
          50.46,
          366.48,
          null,
          50.46,
          64.18,
          null,
          905.89,
          974.69,
          null,
          905.89,
          880.95,
          null,
          905.89,
          911.79,
          null,
          880.95,
          905.89,
          null,
          880.95,
          958.64,
          null,
          880.95,
          869.19,
          null,
          636.48,
          685.32,
          null,
          685.32,
          474.09,
          null,
          685.32,
          636.48,
          null,
          685.32,
          832.44,
          null,
          602.91,
          623.27,
          null,
          533.97,
          655.13,
          null,
          533.97,
          623.27,
          null,
          533.97,
          366.48,
          null,
          623.27,
          533.97,
          null,
          623.27,
          655.13,
          null,
          623.27,
          602.91,
          null,
          700.06,
          724.34,
          null,
          700.06,
          428.87,
          null,
          700.06,
          869.19,
          null,
          428.87,
          366.48,
          null,
          428.87,
          474.09,
          null,
          428.87,
          700.06,
          null,
          724.34,
          700.06,
          null,
          64.18,
          50.46,
          null,
          64.18,
          306.28,
          null,
          655.13,
          821.47,
          null,
          655.13,
          533.97,
          null,
          655.13,
          623.27,
          null,
          821.47,
          655.13,
          null,
          821.47,
          911.79,
          null,
          974.69,
          905.89,
          null,
          974.69,
          911.79,
          null,
          974.69,
          958.64,
          null,
          869.19,
          880.95,
          null,
          869.19,
          700.06,
          null,
          869.19,
          833.61,
          null,
          869.19,
          951.71,
          null,
          833.61,
          832.44,
          null,
          833.61,
          951.71,
          null,
          833.61,
          869.19,
          null,
          951.71,
          869.19,
          null,
          951.71,
          958.64,
          null,
          951.71,
          833.61,
          null,
          832.44,
          685.32,
          null,
          832.44,
          833.61,
          null,
          832.44,
          474.09,
          null,
          958.64,
          880.95,
          null,
          958.64,
          974.69,
          null,
          958.64,
          951.71,
          null,
          366.48,
          533.97,
          null,
          366.48,
          50.46,
          null,
          366.48,
          428.87,
          null,
          306.28,
          64.18,
          null,
          474.09,
          50.46,
          null,
          474.09,
          428.87,
          null,
          474.09,
          832.44,
          null,
          474.09,
          685.32,
          null
         ],
         "y": [
          51.93,
          0,
          null,
          51.93,
          264.03,
          null,
          51.93,
          259.5,
          null,
          725.19,
          677.68,
          null,
          725.19,
          386.99,
          null,
          725.19,
          818.58,
          null,
          259.5,
          264.03,
          null,
          259.5,
          406.37,
          null,
          259.5,
          51.93,
          null,
          406.37,
          259.5,
          null,
          406.37,
          412.05,
          null,
          406.37,
          533.99,
          null,
          868.59,
          945.45,
          null,
          945.45,
          677.68,
          null,
          945.45,
          868.59,
          null,
          945.45,
          747.57,
          null,
          456.74,
          202.98,
          null,
          197.08,
          0.81,
          null,
          197.08,
          202.98,
          null,
          197.08,
          386.99,
          null,
          202.98,
          197.08,
          null,
          202.98,
          0.81,
          null,
          202.98,
          456.74,
          null,
          542.57,
          624.43,
          null,
          542.57,
          547.38,
          null,
          542.57,
          533.99,
          null,
          547.38,
          386.99,
          null,
          547.38,
          677.68,
          null,
          547.38,
          542.57,
          null,
          624.43,
          542.57,
          null,
          818.58,
          725.19,
          null,
          818.58,
          885.79,
          null,
          0.81,
          0,
          null,
          0.81,
          197.08,
          null,
          0.81,
          202.98,
          null,
          0,
          0.81,
          null,
          0,
          51.93,
          null,
          264.03,
          259.5,
          null,
          264.03,
          51.93,
          null,
          264.03,
          412.05,
          null,
          533.99,
          406.37,
          null,
          533.99,
          542.57,
          null,
          533.99,
          607.54,
          null,
          533.99,
          535.54,
          null,
          607.54,
          747.57,
          null,
          607.54,
          535.54,
          null,
          607.54,
          533.99,
          null,
          535.54,
          533.99,
          null,
          535.54,
          412.05,
          null,
          535.54,
          607.54,
          null,
          747.57,
          945.45,
          null,
          747.57,
          607.54,
          null,
          747.57,
          677.68,
          null,
          412.05,
          406.37,
          null,
          412.05,
          264.03,
          null,
          412.05,
          535.54,
          null,
          386.99,
          197.08,
          null,
          386.99,
          725.19,
          null,
          386.99,
          547.38,
          null,
          885.79,
          818.58,
          null,
          677.68,
          725.19,
          null,
          677.68,
          547.38,
          null,
          677.68,
          747.57,
          null,
          677.68,
          945.45,
          null
         ]
        }
       ],
       "layout": {
        "annotations": [
         {
          "arrowcolor": "#67000d",
          "arrowhead": 1,
          "arrowsize": 2,
          "arrowwidth": 1,
          "ax": 838.8084578685956,
          "axref": "x",
          "ay": 9.96884540651206,
          "ayref": "y",
          "showarrow": true,
          "text": "",
          "x": 884.0542343782772,
          "xref": "x",
          "y": 35.983163100796446,
          "yref": "y"
         },
         {
          "arrowcolor": "#e53228",
          "arrowhead": 1,
          "arrowsize": 2,
          "arrowwidth": 1,
          "ax": 969.0036164915304,
          "axref": "x",
          "ay": 244.85540632517632,
          "ayref": "y",
          "showarrow": true,
          "text": "",
          "x": 959.2620033096897,
          "xref": "x",
          "y": 212.00650082647326,
          "yref": "y"
         },
         {
          "arrowcolor": "#fcb89e",
          "arrowhead": 1,
          "arrowsize": 2,
          "arrowwidth": 1,
          "ax": 906.4582534126907,
          "axref": "x",
          "ay": 239.50807442843507,
          "ayref": "y",
          "showarrow": true,
          "text": "",
          "x": 906.8431262420032,
          "xref": "x",
          "y": 225.9677264317579,
          "yref": "y"
         },
         {
          "arrowcolor": "#c4161c",
          "arrowhead": 1,
          "arrowsize": 2,
          "arrowwidth": 1,
          "ax": 454.21460150809753,
          "axref": "x",
          "ay": 679.9090210380527,
          "ayref": "y",
          "showarrow": true,
          "text": "",
          "x": 423.0435572894306,
          "xref": "x",
          "y": 683.4048459579801,
          "yref": "y"
         },
         {
          "arrowcolor": "#d92523",
          "arrowhead": 1,
          "arrowsize": 2,
          "arrowwidth": 1,
          "ax": 352.82517000773504,
          "axref": "x",
          "ay": 401.6032001246251,
          "ayref": "y",
          "showarrow": true,
          "text": "",
          "x": 333.3182700187851,
          "xref": "x",
          "y": 422.4792003026609,
          "yref": "y"
         },
         {
          "arrowcolor": "#6d010e",
          "arrowhead": 1,
          "arrowsize": 2,
          "arrowwidth": 1,
          "ax": 61.27298716797947,
          "axref": "x",
          "ay": 798.7923958904958,
          "ayref": "y",
          "showarrow": true,
          "text": "",
          "x": 55.44993351377684,
          "xref": "x",
          "y": 759.1557354848119,
          "yref": "y"
         },
         {
          "arrowcolor": "#fee8de",
          "arrowhead": 1,
          "arrowsize": 2,
          "arrowwidth": 1,
          "ax": 954.7332125830122,
          "axref": "x",
          "ay": 262.7159847819919,
          "ayref": "y",
          "showarrow": true,
          "text": "",
          "x": 949.6936198009446,
          "xref": "x",
          "y": 262.3841627572424,
          "yref": "y"
         },
         {
          "arrowcolor": "#ce1a1e",
          "arrowhead": 1,
          "arrowsize": 2,
          "arrowwidth": 1,
          "ax": 884.2982693723278,
          "axref": "x",
          "ay": 386.65226452631214,
          "ayref": "y",
          "showarrow": true,
          "text": "",
          "x": 892.4998382893932,
          "xref": "x",
          "y": 338.3537710680366,
          "yref": "y"
         },
         {
          "arrowcolor": "#db2824",
          "arrowhead": 1,
          "arrowsize": 2,
          "arrowwidth": 1,
          "ax": 911.2217465873092,
          "axref": "x",
          "ay": 71.92192557156159,
          "ayref": "y",
          "showarrow": true,
          "text": "",
          "x": 909.9159117248126,
          "xref": "x",
          "y": 117.86296665773261,
          "yref": "y"
         },
         {
          "arrowcolor": "#cb181d",
          "arrowhead": 1,
          "arrowsize": 2,
          "arrowwidth": 1,
          "ax": 902.5417306276722,
          "axref": "x",
          "ay": 279.21773547368775,
          "ayref": "y",
          "showarrow": true,
          "text": "",
          "x": 894.2135479249281,
          "xref": "x",
          "y": 328.26184908844516,
          "yref": "y"
         },
         {
          "arrowcolor": "#ffefe8",
          "arrowhead": 1,
          "arrowsize": 2,
          "arrowwidth": 1,
          "ax": 938.6932389677595,
          "axref": "x",
          "ay": 410.5916707084165,
          "ayref": "y",
          "showarrow": true,
          "text": "",
          "x": 936.1619241159523,
          "xref": "x",
          "y": 410.4066035394338,
          "yref": "y"
         },
         {
          "arrowcolor": "#d42121",
          "arrowhead": 1,
          "arrowsize": 2,
          "arrowwidth": 1,
          "ax": 871.0251961377754,
          "axref": "x",
          "ay": 514.0743766068954,
          "ayref": "y",
          "showarrow": true,
          "text": "",
          "x": 875.403582862417,
          "xref": "x",
          "y": 466.55994516142346,
          "yref": "y"
         },
         {
          "arrowcolor": "#6d010e",
          "arrowhead": 1,
          "arrowsize": 2,
          "arrowwidth": 1,
          "ax": 674.5935770119232,
          "axref": "x",
          "ay": 928.5697200887882,
          "ayref": "y",
          "showarrow": true,
          "text": "",
          "x": 620.9614620715394,
          "xref": "x",
          "y": 844.1683205327296,
          "yref": "y"
         },
         {
          "arrowcolor": "#fcbfa7",
          "arrowhead": 1,
          "arrowsize": 2,
          "arrowwidth": 1,
          "ax": 486.4768385760769,
          "axref": "x",
          "ay": 693.3824275222084,
          "ayref": "y",
          "showarrow": true,
          "text": "",
          "x": 493.8898114690959,
          "xref": "x",
          "y": 702.7796331822175,
          "yref": "y"
         },
         {
          "arrowcolor": "#6d010e",
          "arrowhead": 1,
          "arrowsize": 2,
          "arrowwidth": 1,
          "ax": 647.2064229880768,
          "axref": "x",
          "ay": 885.4702799112118,
          "ayref": "y",
          "showarrow": true,
          "text": "",
          "x": 673.9189435568395,
          "xref": "x",
          "y": 927.508042624461,
          "yref": "y"
         },
         {
          "arrowcolor": "#c9181d",
          "arrowhead": 1,
          "arrowsize": 2,
          "arrowwidth": 1,
          "ax": 820.507069668405,
          "axref": "x",
          "ay": 763.620083292659,
          "ayref": "y",
          "showarrow": true,
          "text": "",
          "x": 797.7008900771327,
          "xref": "x",
          "y": 794.2949529060425,
          "yref": "y"
         },
         {
          "arrowcolor": "#75030f",
          "arrowhead": 1,
          "arrowsize": 2,
          "arrowwidth": 1,
          "ax": 621.6704742932891,
          "axref": "x",
          "ay": 222.91593533079322,
          "ayref": "y",
          "showarrow": true,
          "text": "",
          "x": 613.6728457597347,
          "xref": "x",
          "y": 322.59561198475876,
          "yref": "y"
         },
         {
          "arrowcolor": "#d92523",
          "arrowhead": 1,
          "arrowsize": 2,
          "arrowwidth": 1,
          "ax": 644.6242593652142,
          "axref": "x",
          "ay": 17.828502099615434,
          "ayref": "y",
          "showarrow": true,
          "text": "",
          "x": 622.9532248719343,
          "xref": "x",
          "y": 52.933932439629075,
          "yref": "y"
         },
         {
          "arrowcolor": "#fcc4ad",
          "arrowhead": 1,
          "arrowsize": 2,
          "arrowwidth": 1,
          "ax": 603.3135093019374,
          "axref": "x",
          "ay": 201.6614860569029,
          "ayref": "y",
          "showarrow": true,
          "text": "",
          "x": 590.3373157987129,
          "xref": "x",
          "y": 200.80415636296087,
          "yref": "y"
         },
         {
          "arrowcolor": "#c2161b",
          "arrowhead": 1,
          "arrowsize": 2,
          "arrowwidth": 1,
          "ax": 379.70898415304225,
          "axref": "x",
          "ay": 371.99020072539116,
          "ayref": "y",
          "showarrow": true,
          "text": "",
          "x": 409.9636115882509,
          "xref": "x",
          "y": 337.68572704803444,
          "yref": "y"
         },
         {
          "arrowcolor": "#c2161b",
          "arrowhead": 1,
          "arrowsize": 2,
          "arrowwidth": 1,
          "ax": 553.9264906980626,
          "axref": "x",
          "ay": 198.39851394309707,
          "ayref": "y",
          "showarrow": true,
          "text": "",
          "x": 593.3753676593491,
          "xref": "x",
          "y": 201.0048787143355,
          "yref": "y"
         },
         {
          "arrowcolor": "#fcc4ad",
          "arrowhead": 1,
          "arrowsize": 2,
          "arrowwidth": 1,
          "ax": 652.0166198310795,
          "axref": "x",
          "ay": 20.566185459844746,
          "ayref": "y",
          "showarrow": true,
          "text": "",
          "x": 650.2668519066863,
          "xref": "x",
          "y": 31.669467985726442,
          "yref": "y"
         },
         {
          "arrowcolor": "#75030f",
          "arrowhead": 1,
          "arrowsize": 2,
          "arrowwidth": 1,
          "ax": 604.5095257067109,
          "axref": "x",
          "ay": 436.8040646692061,
          "ayref": "y",
          "showarrow": true,
          "text": "",
          "x": 608.4463428530729,
          "xref": "x",
          "y": 387.7369370139586,
          "yref": "y"
         },
         {
          "arrowcolor": "#800610",
          "arrowhead": 1,
          "arrowsize": 2,
          "arrowwidth": 1,
          "ax": 718.6528105222471,
          "axref": "x",
          "ay": 605.2556453604261,
          "ayref": "y",
          "showarrow": true,
          "text": "",
          "x": 707.4589772644479,
          "xref": "x",
          "y": 567.5156457523763,
          "yref": "y"
         },
         {
          "arrowcolor": "#d42121",
          "arrowhead": 1,
          "arrowsize": 2,
          "arrowwidth": 1,
          "ax": 448.86685485728214,
          "axref": "x",
          "ay": 547.0253229401396,
          "ayref": "y",
          "showarrow": true,
          "text": "",
          "x": 478.70343194592533,
          "xref": "x",
          "y": 546.4961222476496,
          "yref": "y"
         },
         {
          "arrowcolor": "#ce1a1e",
          "arrowhead": 1,
          "arrowsize": 2,
          "arrowwidth": 1,
          "ax": 849.215685972006,
          "axref": "x",
          "ay": 535.0033010959628,
          "ayref": "y",
          "showarrow": true,
          "text": "",
          "x": 818.4615834209675,
          "xref": "x",
          "y": 536.5634631008579,
          "yref": "y"
         },
         {
          "arrowcolor": "#db2824",
          "arrowhead": 1,
          "arrowsize": 2,
          "arrowwidth": 1,
          "ax": 373.7305515594256,
          "axref": "x",
          "ay": 405.6294608850178,
          "ayref": "y",
          "showarrow": true,
          "text": "",
          "x": 390.91284822368925,
          "xref": "x",
          "y": 449.80109996149247,
          "yref": "y"
         },
         {
          "arrowcolor": "#fff0e9",
          "arrowhead": 1,
          "arrowsize": 2,
          "arrowwidth": 1,
          "ax": 467.53274983234377,
          "axref": "x",
          "ay": 658.7854910029722,
          "ayref": "y",
          "showarrow": true,
          "text": "",
          "x": 466.8497029398796,
          "xref": "x",
          "y": 656.8173129824485,
          "yref": "y"
         },
         {
          "arrowcolor": "#ce1a1e",
          "arrowhead": 1,
          "arrowsize": 2,
          "arrowwidth": 1,
          "ax": 680.0631451427178,
          "axref": "x",
          "ay": 542.9246770598603,
          "ayref": "y",
          "showarrow": true,
          "text": "",
          "x": 629.5502565709373,
          "xref": "x",
          "y": 543.8206060912784,
          "yref": "y"
         },
         {
          "arrowcolor": "#800610",
          "arrowhead": 1,
          "arrowsize": 2,
          "arrowwidth": 1,
          "ax": 705.7471894777528,
          "axref": "x",
          "ay": 561.7443546395739,
          "ayref": "y",
          "showarrow": true,
          "text": "",
          "x": 734.1831368665171,
          "xref": "x",
          "y": 657.616127837442,
          "yref": "y"
         },
         {
          "arrowcolor": "#6d010e",
          "arrowhead": 1,
          "arrowsize": 2,
          "arrowwidth": 1,
          "ax": 53.367012832020535,
          "axref": "x",
          "ay": 744.9776041095042,
          "ayref": "y",
          "showarrow": true,
          "text": "",
          "x": 60.634544912071874,
          "xref": "x",
          "y": 794.4466143832647,
          "yref": "y"
         },
         {
          "arrowcolor": "#6d010e",
          "arrowhead": 1,
          "arrowsize": 2,
          "arrowwidth": 1,
          "ax": 287.0088209444718,
          "axref": "x",
          "ay": 880.4400787099461,
          "ayref": "y",
          "showarrow": true,
          "text": "",
          "x": 238.83087330565132,
          "xref": "x",
          "y": 867.0652754848113,
          "yref": "y"
         },
         {
          "arrowcolor": "#8c0912",
          "arrowhead": 1,
          "arrowsize": 2,
          "arrowwidth": 1,
          "ax": 801.4702371204006,
          "axref": "x",
          "ay": 0.09738973146853169,
          "ayref": "y",
          "showarrow": true,
          "text": "",
          "x": 753.4549333816797,
          "xref": "x",
          "y": 0.3312023804306814,
          "yref": "y"
         },
         {
          "arrowcolor": "#fcc4ad",
          "arrowhead": 1,
          "arrowsize": 2,
          "arrowwidth": 1,
          "ax": 544.4757406347858,
          "axref": "x",
          "ay": 180.06149790038455,
          "ayref": "y",
          "showarrow": true,
          "text": "",
          "x": 550.5207104444839,
          "xref": "x",
          "y": 170.26910581925665,
          "yref": "y"
         },
         {
          "arrowcolor": "#c2161b",
          "arrowhead": 1,
          "arrowsize": 2,
          "arrowwidth": 1,
          "ax": 626.3833801689204,
          "axref": "x",
          "ay": 183.22381454015522,
          "ayref": "y",
          "showarrow": true,
          "text": "",
          "x": 632.6842686060213,
          "xref": "x",
          "y": 143.2410582523753,
          "yref": "y"
         },
         {
          "arrowcolor": "#67000d",
          "arrowhead": 1,
          "arrowsize": 2,
          "arrowwidth": 1,
          "ax": 675.1297628795994,
          "axref": "x",
          "ay": 0.7126102685314688,
          "ayref": "y",
          "showarrow": true,
          "text": "",
          "x": 727.1132735388758,
          "xref": "x",
          "y": 0.45947426015096005,
          "yref": "y"
         },
         {
          "arrowcolor": "#8c0912",
          "arrowhead": 1,
          "arrowsize": 2,
          "arrowwidth": 1,
          "ax": 894.4515421314044,
          "axref": "x",
          "ay": 41.96115459348795,
          "ayref": "y",
          "showarrow": true,
          "text": "",
          "x": 852.8254825659269,
          "xref": "x",
          "y": 18.02801383579032,
          "yref": "y"
         },
         {
          "arrowcolor": "#fa6648",
          "arrowhead": 1,
          "arrowsize": 2,
          "arrowwidth": 1,
          "ax": 925.8467874169878,
          "axref": "x",
          "ay": 260.8140152180081,
          "ayref": "y",
          "showarrow": true,
          "text": "",
          "x": 959.9566026450027,
          "xref": "x",
          "y": 263.05990857531776,
          "yref": "y"
         },
         {
          "arrowcolor": "#fcab8f",
          "arrowhead": 1,
          "arrowsize": 2,
          "arrowwidth": 1,
          "ax": 917.4763835084697,
          "axref": "x",
          "ay": 71.10459367482372,
          "ayref": "y",
          "showarrow": true,
          "text": "",
          "x": 923.1337548561819,
          "xref": "x",
          "y": 90.18135779008253,
          "yref": "y"
         },
         {
          "arrowcolor": "#dd2a25",
          "arrowhead": 1,
          "arrowsize": 2,
          "arrowwidth": 1,
          "ax": 960.7959885472172,
          "axref": "x",
          "ay": 392.1665467439816,
          "ayref": "y",
          "showarrow": true,
          "text": "",
          "x": 965.7459622525629,
          "xref": "x",
          "y": 346.5157612072053,
          "yref": "y"
         },
         {
          "arrowcolor": "#f96346",
          "arrowhead": 1,
          "arrowsize": 2,
          "arrowwidth": 1,
          "ax": 879.1148038622247,
          "axref": "x",
          "ay": 426.2856233931034,
          "ayref": "y",
          "showarrow": true,
          "text": "",
          "x": 875.947460274186,
          "xref": "x",
          "y": 460.6577652898304,
          "yref": "y"
         },
         {
          "arrowcolor": "#d42121",
          "arrowhead": 1,
          "arrowsize": 2,
          "arrowwidth": 1,
          "ax": 720.034314027994,
          "axref": "x",
          "ay": 541.5566989040373,
          "ayref": "y",
          "showarrow": true,
          "text": "",
          "x": 767.6887688155941,
          "xref": "x",
          "y": 539.1391785228061,
          "yref": "y"
         },
         {
          "arrowcolor": "#ffeee6",
          "arrowhead": 1,
          "arrowsize": 2,
          "arrowwidth": 1,
          "ax": 842.3194909840199,
          "axref": "x",
          "ay": 589.5359791491098,
          "ayref": "y",
          "showarrow": true,
          "text": "",
          "x": 843.6458094079824,
          "xref": "x",
          "y": 586.7942500855227,
          "yref": "y"
         },
         {
          "arrowcolor": "#fcc4ad",
          "arrowhead": 1,
          "arrowsize": 2,
          "arrowwidth": 1,
          "ax": 931.7135271997714,
          "axref": "x",
          "ay": 535.1643997474508,
          "ayref": "y",
          "showarrow": true,
          "text": "",
          "x": 916.9953111792986,
          "xref": "x",
          "y": 534.8879427087726,
          "yref": "y"
         },
         {
          "arrowcolor": "#ce1a1e",
          "arrowhead": 1,
          "arrowsize": 2,
          "arrowwidth": 1,
          "ax": 832.6071012157636,
          "axref": "x",
          "ay": 727.5706980825926,
          "ayref": "y",
          "showarrow": true,
          "text": "",
          "x": 833.0083095803443,
          "xref": "x",
          "y": 679.5525721917948,
          "yref": "y"
         },
         {
          "arrowcolor": "#c7171c",
          "arrowhead": 1,
          "arrowsize": 2,
          "arrowwidth": 1,
          "ax": 934.6332927330661,
          "axref": "x",
          "ay": 545.9508630247183,
          "ayref": "y",
          "showarrow": true,
          "text": "",
          "x": 892.3642153396654,
          "xref": "x",
          "y": 571.7203259571895,
          "yref": "y"
         },
         {
          "arrowcolor": "#ffefe8",
          "arrowhead": 1,
          "arrowsize": 2,
          "arrowwidth": 1,
          "ax": 860.4805090159801,
          "axref": "x",
          "ay": 551.9940208508899,
          "ayref": "y",
          "showarrow": true,
          "text": "",
          "x": 859.4026017159777,
          "xref": "x",
          "y": 554.2222412532278,
          "yref": "y"
         },
         {
          "arrowcolor": "#ffefe8",
          "arrowhead": 1,
          "arrowsize": 2,
          "arrowwidth": 1,
          "ax": 889.1864728002287,
          "axref": "x",
          "ay": 534.3656002525491,
          "ayref": "y",
          "showarrow": true,
          "text": "",
          "x": 891.6985924987499,
          "xref": "x",
          "y": 534.4127862139246,
          "yref": "y"
         },
         {
          "arrowcolor": "#c2161b",
          "arrowhead": 1,
          "arrowsize": 2,
          "arrowwidth": 1,
          "ax": 957.519405026901,
          "axref": "x",
          "ay": 432.0185819953804,
          "ayref": "y",
          "showarrow": true,
          "text": "",
          "x": 954.6475284626775,
          "xref": "x",
          "y": 483.1943448981183,
          "yref": "y"
         },
         {
          "arrowcolor": "#d92523",
          "arrowhead": 1,
          "arrowsize": 2,
          "arrowwidth": 1,
          "ax": 850.6867072669339,
          "axref": "x",
          "ay": 597.1291369752815,
          "ayref": "y",
          "showarrow": true,
          "text": "",
          "x": 890.1605029593438,
          "xref": "x",
          "y": 573.0638254608572,
          "yref": "y"
         },
         {
          "arrowcolor": "#fcbfa7",
          "arrowhead": 1,
          "arrowsize": 2,
          "arrowwidth": 1,
          "ax": 697.252930331595,
          "axref": "x",
          "ay": 929.3999167073409,
          "ayref": "y",
          "showarrow": true,
          "text": "",
          "x": 706.4549412838201,
          "xref": "x",
          "y": 917.0229868050416,
          "yref": "y"
         },
         {
          "arrowcolor": "#bd151a",
          "arrowhead": 1,
          "arrowsize": 2,
          "arrowwidth": 1,
          "ax": 833.4428987842365,
          "axref": "x",
          "ay": 627.5393019173935,
          "ayref": "y",
          "showarrow": true,
          "text": "",
          "x": 833.0105971315149,
          "xref": "x",
          "y": 679.2787894649227,
          "yref": "y"
         },
         {
          "arrowcolor": "#fb694a",
          "arrowhead": 1,
          "arrowsize": 2,
          "arrowwidth": 1,
          "ax": 493.7201407574657,
          "axref": "x",
          "ay": 681.5085211037791,
          "ayref": "y",
          "showarrow": true,
          "text": "",
          "x": 525.9487300607676,
          "xref": "x",
          "y": 687.7941527667002,
          "yref": "y"
         },
         {
          "arrowcolor": "#fcbda4",
          "arrowhead": 1,
          "arrowsize": 2,
          "arrowwidth": 1,
          "ax": 900.8967610322405,
          "axref": "x",
          "ay": 407.8283292915836,
          "ayref": "y",
          "showarrow": true,
          "text": "",
          "x": 916.9343578420821,
          "xref": "x",
          "y": 409.00085535516837,
          "yref": "y"
         },
         {
          "arrowcolor": "#cb181d",
          "arrowhead": 1,
          "arrowsize": 2,
          "arrowwidth": 1,
          "ax": 972.5340114527828,
          "axref": "x",
          "ay": 283.91345325602015,
          "ayref": "y",
          "showarrow": true,
          "text": "",
          "x": 967.2252959345092,
          "xref": "x",
          "y": 332.87271001707086,
          "yref": "y"
         },
         {
          "arrowcolor": "#f96044",
          "arrowhead": 1,
          "arrowsize": 2,
          "arrowwidth": 1,
          "ax": 952.830594973099,
          "axref": "x",
          "ay": 515.5714180046198,
          "ayref": "y",
          "showarrow": true,
          "text": "",
          "x": 954.7733350018384,
          "xref": "x",
          "y": 480.95251957041546,
          "yref": "y"
         },
         {
          "arrowcolor": "#d92523",
          "arrowhead": 1,
          "arrowsize": 2,
          "arrowwidth": 1,
          "ax": 520.7410158469578,
          "axref": "x",
          "ay": 212.07979927460906,
          "ayref": "y",
          "showarrow": true,
          "text": "",
          "x": 499.3889712490651,
          "xref": "x",
          "y": 236.29000161257432,
          "yref": "y"
         },
         {
          "arrowcolor": "#c4161c",
          "arrowhead": 1,
          "arrowsize": 2,
          "arrowwidth": 1,
          "ax": 64.11482999226496,
          "axref": "x",
          "ay": 710.5767998753751,
          "ayref": "y",
          "showarrow": true,
          "text": "",
          "x": 88.3102305048748,
          "xref": "x",
          "y": 684.6832347422675,
          "yref": "y"
         },
         {
          "arrowcolor": "#d92523",
          "arrowhead": 1,
          "arrowsize": 2,
          "arrowwidth": 1,
          "ax": 421.61944844057444,
          "axref": "x",
          "ay": 528.7405391149822,
          "ayref": "y",
          "showarrow": true,
          "text": "",
          "x": 409.91680381834374,
          "xref": "x",
          "y": 498.6557952303921,
          "yref": "y"
         },
         {
          "arrowcolor": "#6d010e",
          "arrowhead": 1,
          "arrowsize": 2,
          "arrowwidth": 1,
          "ax": 83.45117905552819,
          "axref": "x",
          "ay": 823.9299212900539,
          "ayref": "y",
          "showarrow": true,
          "text": "",
          "x": 179.8070743331691,
          "xref": "x",
          "y": 850.6795277403234,
          "yref": "y"
         },
         {
          "arrowcolor": "#d92523",
          "arrowhead": 1,
          "arrowsize": 2,
          "arrowwidth": 1,
          "ax": 70.33539849190245,
          "axref": "x",
          "ay": 722.9609789619473,
          "ayref": "y",
          "showarrow": true,
          "text": "",
          "x": 115.59620693880903,
          "xref": "x",
          "y": 717.8849904594509,
          "yref": "y"
         },
         {
          "arrowcolor": "#ffeee6",
          "arrowhead": 1,
          "arrowsize": 2,
          "arrowwidth": 1,
          "ax": 435.4272501676562,
          "axref": "x",
          "ay": 566.274508997028,
          "ayref": "y",
          "showarrow": true,
          "text": "",
          "x": 436.40109920245663,
          "xref": "x",
          "y": 569.0806241946065,
          "yref": "y"
         },
         {
          "arrowcolor": "#ffefe8",
          "arrowhead": 1,
          "arrowsize": 2,
          "arrowwidth": 1,
          "ax": 812.8098592425343,
          "axref": "x",
          "ay": 743.7414788962208,
          "ayref": "y",
          "showarrow": true,
          "text": "",
          "x": 810.3803863765114,
          "xref": "x",
          "y": 743.2676520269412,
          "yref": "y"
         },
         {
          "arrowcolor": "#c9181d",
          "arrowhead": 1,
          "arrowsize": 2,
          "arrowwidth": 1,
          "ax": 672.9331614239231,
          "axref": "x",
          "ay": 929.7475724777914,
          "ayref": "y",
          "showarrow": true,
          "text": "",
          "x": 642.5792748142297,
          "xref": "x",
          "y": 891.2688515694091,
          "yref": "y"
         }
        ],
        "height": 1000,
        "hovermode": "closest",
        "margin": {
         "b": 20,
         "l": 5,
         "r": 0,
         "t": 40
        },
        "plot_bgcolor": "rgba(0, 0, 0, 0)",
        "showlegend": false,
        "template": {
         "data": {
          "bar": [
           {
            "error_x": {
             "color": "#2a3f5f"
            },
            "error_y": {
             "color": "#2a3f5f"
            },
            "marker": {
             "line": {
              "color": "#E5ECF6",
              "width": 0.5
             }
            },
            "type": "bar"
           }
          ],
          "barpolar": [
           {
            "marker": {
             "line": {
              "color": "#E5ECF6",
              "width": 0.5
             }
            },
            "type": "barpolar"
           }
          ],
          "carpet": [
           {
            "aaxis": {
             "endlinecolor": "#2a3f5f",
             "gridcolor": "white",
             "linecolor": "white",
             "minorgridcolor": "white",
             "startlinecolor": "#2a3f5f"
            },
            "baxis": {
             "endlinecolor": "#2a3f5f",
             "gridcolor": "white",
             "linecolor": "white",
             "minorgridcolor": "white",
             "startlinecolor": "#2a3f5f"
            },
            "type": "carpet"
           }
          ],
          "choropleth": [
           {
            "colorbar": {
             "outlinewidth": 0,
             "ticks": ""
            },
            "type": "choropleth"
           }
          ],
          "contour": [
           {
            "colorbar": {
             "outlinewidth": 0,
             "ticks": ""
            },
            "colorscale": [
             [
              0,
              "#0d0887"
             ],
             [
              0.1111111111111111,
              "#46039f"
             ],
             [
              0.2222222222222222,
              "#7201a8"
             ],
             [
              0.3333333333333333,
              "#9c179e"
             ],
             [
              0.4444444444444444,
              "#bd3786"
             ],
             [
              0.5555555555555556,
              "#d8576b"
             ],
             [
              0.6666666666666666,
              "#ed7953"
             ],
             [
              0.7777777777777778,
              "#fb9f3a"
             ],
             [
              0.8888888888888888,
              "#fdca26"
             ],
             [
              1,
              "#f0f921"
             ]
            ],
            "type": "contour"
           }
          ],
          "contourcarpet": [
           {
            "colorbar": {
             "outlinewidth": 0,
             "ticks": ""
            },
            "type": "contourcarpet"
           }
          ],
          "heatmap": [
           {
            "colorbar": {
             "outlinewidth": 0,
             "ticks": ""
            },
            "colorscale": [
             [
              0,
              "#0d0887"
             ],
             [
              0.1111111111111111,
              "#46039f"
             ],
             [
              0.2222222222222222,
              "#7201a8"
             ],
             [
              0.3333333333333333,
              "#9c179e"
             ],
             [
              0.4444444444444444,
              "#bd3786"
             ],
             [
              0.5555555555555556,
              "#d8576b"
             ],
             [
              0.6666666666666666,
              "#ed7953"
             ],
             [
              0.7777777777777778,
              "#fb9f3a"
             ],
             [
              0.8888888888888888,
              "#fdca26"
             ],
             [
              1,
              "#f0f921"
             ]
            ],
            "type": "heatmap"
           }
          ],
          "heatmapgl": [
           {
            "colorbar": {
             "outlinewidth": 0,
             "ticks": ""
            },
            "colorscale": [
             [
              0,
              "#0d0887"
             ],
             [
              0.1111111111111111,
              "#46039f"
             ],
             [
              0.2222222222222222,
              "#7201a8"
             ],
             [
              0.3333333333333333,
              "#9c179e"
             ],
             [
              0.4444444444444444,
              "#bd3786"
             ],
             [
              0.5555555555555556,
              "#d8576b"
             ],
             [
              0.6666666666666666,
              "#ed7953"
             ],
             [
              0.7777777777777778,
              "#fb9f3a"
             ],
             [
              0.8888888888888888,
              "#fdca26"
             ],
             [
              1,
              "#f0f921"
             ]
            ],
            "type": "heatmapgl"
           }
          ],
          "histogram": [
           {
            "marker": {
             "colorbar": {
              "outlinewidth": 0,
              "ticks": ""
             }
            },
            "type": "histogram"
           }
          ],
          "histogram2d": [
           {
            "colorbar": {
             "outlinewidth": 0,
             "ticks": ""
            },
            "colorscale": [
             [
              0,
              "#0d0887"
             ],
             [
              0.1111111111111111,
              "#46039f"
             ],
             [
              0.2222222222222222,
              "#7201a8"
             ],
             [
              0.3333333333333333,
              "#9c179e"
             ],
             [
              0.4444444444444444,
              "#bd3786"
             ],
             [
              0.5555555555555556,
              "#d8576b"
             ],
             [
              0.6666666666666666,
              "#ed7953"
             ],
             [
              0.7777777777777778,
              "#fb9f3a"
             ],
             [
              0.8888888888888888,
              "#fdca26"
             ],
             [
              1,
              "#f0f921"
             ]
            ],
            "type": "histogram2d"
           }
          ],
          "histogram2dcontour": [
           {
            "colorbar": {
             "outlinewidth": 0,
             "ticks": ""
            },
            "colorscale": [
             [
              0,
              "#0d0887"
             ],
             [
              0.1111111111111111,
              "#46039f"
             ],
             [
              0.2222222222222222,
              "#7201a8"
             ],
             [
              0.3333333333333333,
              "#9c179e"
             ],
             [
              0.4444444444444444,
              "#bd3786"
             ],
             [
              0.5555555555555556,
              "#d8576b"
             ],
             [
              0.6666666666666666,
              "#ed7953"
             ],
             [
              0.7777777777777778,
              "#fb9f3a"
             ],
             [
              0.8888888888888888,
              "#fdca26"
             ],
             [
              1,
              "#f0f921"
             ]
            ],
            "type": "histogram2dcontour"
           }
          ],
          "mesh3d": [
           {
            "colorbar": {
             "outlinewidth": 0,
             "ticks": ""
            },
            "type": "mesh3d"
           }
          ],
          "parcoords": [
           {
            "line": {
             "colorbar": {
              "outlinewidth": 0,
              "ticks": ""
             }
            },
            "type": "parcoords"
           }
          ],
          "pie": [
           {
            "automargin": true,
            "type": "pie"
           }
          ],
          "scatter": [
           {
            "marker": {
             "colorbar": {
              "outlinewidth": 0,
              "ticks": ""
             }
            },
            "type": "scatter"
           }
          ],
          "scatter3d": [
           {
            "line": {
             "colorbar": {
              "outlinewidth": 0,
              "ticks": ""
             }
            },
            "marker": {
             "colorbar": {
              "outlinewidth": 0,
              "ticks": ""
             }
            },
            "type": "scatter3d"
           }
          ],
          "scattercarpet": [
           {
            "marker": {
             "colorbar": {
              "outlinewidth": 0,
              "ticks": ""
             }
            },
            "type": "scattercarpet"
           }
          ],
          "scattergeo": [
           {
            "marker": {
             "colorbar": {
              "outlinewidth": 0,
              "ticks": ""
             }
            },
            "type": "scattergeo"
           }
          ],
          "scattergl": [
           {
            "marker": {
             "colorbar": {
              "outlinewidth": 0,
              "ticks": ""
             }
            },
            "type": "scattergl"
           }
          ],
          "scattermapbox": [
           {
            "marker": {
             "colorbar": {
              "outlinewidth": 0,
              "ticks": ""
             }
            },
            "type": "scattermapbox"
           }
          ],
          "scatterpolar": [
           {
            "marker": {
             "colorbar": {
              "outlinewidth": 0,
              "ticks": ""
             }
            },
            "type": "scatterpolar"
           }
          ],
          "scatterpolargl": [
           {
            "marker": {
             "colorbar": {
              "outlinewidth": 0,
              "ticks": ""
             }
            },
            "type": "scatterpolargl"
           }
          ],
          "scatterternary": [
           {
            "marker": {
             "colorbar": {
              "outlinewidth": 0,
              "ticks": ""
             }
            },
            "type": "scatterternary"
           }
          ],
          "surface": [
           {
            "colorbar": {
             "outlinewidth": 0,
             "ticks": ""
            },
            "colorscale": [
             [
              0,
              "#0d0887"
             ],
             [
              0.1111111111111111,
              "#46039f"
             ],
             [
              0.2222222222222222,
              "#7201a8"
             ],
             [
              0.3333333333333333,
              "#9c179e"
             ],
             [
              0.4444444444444444,
              "#bd3786"
             ],
             [
              0.5555555555555556,
              "#d8576b"
             ],
             [
              0.6666666666666666,
              "#ed7953"
             ],
             [
              0.7777777777777778,
              "#fb9f3a"
             ],
             [
              0.8888888888888888,
              "#fdca26"
             ],
             [
              1,
              "#f0f921"
             ]
            ],
            "type": "surface"
           }
          ],
          "table": [
           {
            "cells": {
             "fill": {
              "color": "#EBF0F8"
             },
             "line": {
              "color": "white"
             }
            },
            "header": {
             "fill": {
              "color": "#C8D4E3"
             },
             "line": {
              "color": "white"
             }
            },
            "type": "table"
           }
          ]
         },
         "layout": {
          "annotationdefaults": {
           "arrowcolor": "#2a3f5f",
           "arrowhead": 0,
           "arrowwidth": 1
          },
          "coloraxis": {
           "colorbar": {
            "outlinewidth": 0,
            "ticks": ""
           }
          },
          "colorscale": {
           "diverging": [
            [
             0,
             "#8e0152"
            ],
            [
             0.1,
             "#c51b7d"
            ],
            [
             0.2,
             "#de77ae"
            ],
            [
             0.3,
             "#f1b6da"
            ],
            [
             0.4,
             "#fde0ef"
            ],
            [
             0.5,
             "#f7f7f7"
            ],
            [
             0.6,
             "#e6f5d0"
            ],
            [
             0.7,
             "#b8e186"
            ],
            [
             0.8,
             "#7fbc41"
            ],
            [
             0.9,
             "#4d9221"
            ],
            [
             1,
             "#276419"
            ]
           ],
           "sequential": [
            [
             0,
             "#0d0887"
            ],
            [
             0.1111111111111111,
             "#46039f"
            ],
            [
             0.2222222222222222,
             "#7201a8"
            ],
            [
             0.3333333333333333,
             "#9c179e"
            ],
            [
             0.4444444444444444,
             "#bd3786"
            ],
            [
             0.5555555555555556,
             "#d8576b"
            ],
            [
             0.6666666666666666,
             "#ed7953"
            ],
            [
             0.7777777777777778,
             "#fb9f3a"
            ],
            [
             0.8888888888888888,
             "#fdca26"
            ],
            [
             1,
             "#f0f921"
            ]
           ],
           "sequentialminus": [
            [
             0,
             "#0d0887"
            ],
            [
             0.1111111111111111,
             "#46039f"
            ],
            [
             0.2222222222222222,
             "#7201a8"
            ],
            [
             0.3333333333333333,
             "#9c179e"
            ],
            [
             0.4444444444444444,
             "#bd3786"
            ],
            [
             0.5555555555555556,
             "#d8576b"
            ],
            [
             0.6666666666666666,
             "#ed7953"
            ],
            [
             0.7777777777777778,
             "#fb9f3a"
            ],
            [
             0.8888888888888888,
             "#fdca26"
            ],
            [
             1,
             "#f0f921"
            ]
           ]
          },
          "colorway": [
           "#636efa",
           "#EF553B",
           "#00cc96",
           "#ab63fa",
           "#FFA15A",
           "#19d3f3",
           "#FF6692",
           "#B6E880",
           "#FF97FF",
           "#FECB52"
          ],
          "font": {
           "color": "#2a3f5f"
          },
          "geo": {
           "bgcolor": "white",
           "lakecolor": "white",
           "landcolor": "#E5ECF6",
           "showlakes": true,
           "showland": true,
           "subunitcolor": "white"
          },
          "hoverlabel": {
           "align": "left"
          },
          "hovermode": "closest",
          "mapbox": {
           "style": "light"
          },
          "paper_bgcolor": "white",
          "plot_bgcolor": "#E5ECF6",
          "polar": {
           "angularaxis": {
            "gridcolor": "white",
            "linecolor": "white",
            "ticks": ""
           },
           "bgcolor": "#E5ECF6",
           "radialaxis": {
            "gridcolor": "white",
            "linecolor": "white",
            "ticks": ""
           }
          },
          "scene": {
           "xaxis": {
            "backgroundcolor": "#E5ECF6",
            "gridcolor": "white",
            "gridwidth": 2,
            "linecolor": "white",
            "showbackground": true,
            "ticks": "",
            "zerolinecolor": "white"
           },
           "yaxis": {
            "backgroundcolor": "#E5ECF6",
            "gridcolor": "white",
            "gridwidth": 2,
            "linecolor": "white",
            "showbackground": true,
            "ticks": "",
            "zerolinecolor": "white"
           },
           "zaxis": {
            "backgroundcolor": "#E5ECF6",
            "gridcolor": "white",
            "gridwidth": 2,
            "linecolor": "white",
            "showbackground": true,
            "ticks": "",
            "zerolinecolor": "white"
           }
          },
          "shapedefaults": {
           "line": {
            "color": "#2a3f5f"
           }
          },
          "ternary": {
           "aaxis": {
            "gridcolor": "white",
            "linecolor": "white",
            "ticks": ""
           },
           "baxis": {
            "gridcolor": "white",
            "linecolor": "white",
            "ticks": ""
           },
           "bgcolor": "#E5ECF6",
           "caxis": {
            "gridcolor": "white",
            "linecolor": "white",
            "ticks": ""
           }
          },
          "title": {
           "x": 0.05
          },
          "xaxis": {
           "automargin": true,
           "gridcolor": "white",
           "linecolor": "white",
           "ticks": "",
           "title": {
            "standoff": 15
           },
           "zerolinecolor": "white",
           "zerolinewidth": 2
          },
          "yaxis": {
           "automargin": true,
           "gridcolor": "white",
           "linecolor": "white",
           "ticks": "",
           "title": {
            "standoff": 15
           },
           "zerolinecolor": "white",
           "zerolinewidth": 2
          }
         }
        },
        "title": {
         "font": {
          "size": 20
         },
         "text": "Distribution over Neighbours",
         "x": 0.5
        },
        "width": 1200,
        "xaxis": {
         "showgrid": false,
         "showticklabels": false,
         "zeroline": false
        },
        "yaxis": {
         "scaleanchor": "x",
         "scaleratio": 1,
         "showgrid": false,
         "showticklabels": false,
         "zeroline": false
        }
       }
      }
     },
     "metadata": {}
    }
   ],
   "source": [
    "#color map of probability of next node\n",
    "next_edge_count = dict(df2.iloc[-1])\n",
    "next_edge_count.pop('time')\n",
    "prob_next_visit = {}\n",
    "for n in nodes:\n",
    "    succ = list(graph.successors(n))\n",
    "    total_visits = 0\n",
    "    for s in succ:\n",
    "        total_visits += next_edge_count[graph[n][s]['name']]\n",
    "    for s in succ:\n",
    "        prob_next_visit[graph[n][s]['name']] = next_edge_count[graph[n][s]['name']]/total_visits\n",
    "\n",
    "# print(prob_next_visit)\n",
    "# print(edges)\n",
    "max_count = max(list(next_edge_count.values()))\n",
    "# print(max_count)\n",
    "l = 100\n",
    "edge_trace = go.Scatter(x=edge_x, y=edge_y, line=dict(width=0.5, color='#888', shape = 'linear'), opacity= 0.5, hoverinfo='none', mode='lines')\n",
    "\n",
    "node_trace = go.Scatter(\n",
    "    x=node_x, y=node_y,\n",
    "    mode='markers',\n",
    "    hoverinfo='text',\n",
    "    marker=dict(\n",
    "        showscale=False,\n",
    "        # colorscale options\n",
    "        #'Greys' | 'YlGnBu' | 'Greens' | 'YlOrRd' | 'Bluered' | 'RdBu' |\n",
    "        #'Reds' | 'Blues' | 'Picnic' | 'Rainbow' | 'Portland' | 'Jet' |\n",
    "        #'Hot' | 'Blackbody' | 'Earth' | 'Electric' | 'Viridis' |\n",
    "        colorscale='Blues',\n",
    "        reversescale=False,\n",
    "        color=[],\n",
    "        size=2 * d,\n",
    "        # cmin = 0.,\n",
    "        # cmax = 300.,\n",
    "        # opacity = 0.5,\n",
    "        # showscale = False,\n",
    "        colorbar=dict(\n",
    "            thickness=15,\n",
    "            title='Max. Node<br>Idleness',\n",
    "            xanchor='right',\n",
    "            titleside='top'\n",
    "        ),\n",
    "        line_width=0))\n",
    "\n",
    "fig = go.Figure(data=[node_trace, edge_trace],\n",
    "            layout=go.Layout(\n",
    "            # title='Graph \\'{}\\''.format(config['graph']),\n",
    "            # titlefont_size=16,\n",
    "            showlegend=False,\n",
    "            hovermode='closest',\n",
    "            margin=dict(b=20,l=5,r=0,t=40),\n",
    "            xaxis=dict(showgrid=False, zeroline=False, showticklabels=False),\n",
    "            yaxis=dict(showgrid=False, zeroline=False, showticklabels=False),\n",
    "            width=1200,\n",
    "            height= 1000)\n",
    "            )\n",
    "\n",
    "# fig.add_trace(go.Heatmap(x = node_x, y = node_y, z = node_z))\n",
    "for i in range(0, len(edge_x), 3):\n",
    "    # print (edge_x[i])\n",
    "    e = edges[i//3]\n",
    "    len_e  = prob_next_visit[e] * l\n",
    "    x0 = edge_x[i + 1]  # arrows' head\n",
    "    y0 = edge_y[i + 1]  # arrows' head\n",
    "    x1 = edge_x[i]  # arrows' tail\n",
    "    y1 = edge_y[i]  # arrows' tail\n",
    "    # print (x0, y0, x1, y1)\n",
    "\n",
    "    vert = True\n",
    "    if x0 != x1:\n",
    "        m = (y1 - y0)/(x1 - x0)\n",
    "        c = y0 - m * x0\n",
    "        vert = False\n",
    "    \n",
    "    if vert:\n",
    "        yt = y0 + d * np.sign(y1 - y0)\n",
    "        yh = yt + len_e * np.sign(y1 - y0)\n",
    "        xt = x0\n",
    "        xh = x1\n",
    "    else:\n",
    "        if y1 == y0:\n",
    "            xt = x0 + d * np.sign(x1 - x0)\n",
    "            xh = xt + len_e * np.sign(x1 - x0)\n",
    "            yt = y0\n",
    "            yh = y1\n",
    "        else:\n",
    "            xt = x0 + math.sqrt(d ** 2 / (m ** 2 + 1)) * np.sign(x1 - x0)\n",
    "            xh = xt + math.sqrt(len_e ** 2 / (m ** 2 + 1)) * np.sign(x1 - x0)\n",
    "            yt = m * xt + c\n",
    "            yh = m * xh + c\n",
    "    \n",
    "    cval = color_map_color(value = next_edge_count[e], vmin = 0, vmax = max_count)\n",
    "    # print(cval)\n",
    "    fig.add_annotation(\n",
    "        x=xh,  # arrows' head\n",
    "        y=yh,  # arrows' head\n",
    "        ax=xt,  # arrows' tail\n",
    "        ay=yt,  # arrows' tail\n",
    "        xref='x',\n",
    "        yref='y',\n",
    "        axref='x',\n",
    "        ayref='y',\n",
    "        text='',  # if you want only the arrow\n",
    "        showarrow=True,\n",
    "        arrowhead=1,\n",
    "        arrowsize=2,\n",
    "        arrowwidth=1,\n",
    "        arrowcolor=cval,\n",
    "        )\n",
    "fig.update_yaxes(\n",
    "    scaleanchor = \"x\",\n",
    "    scaleratio = 1,\n",
    ")\n",
    "fig.update_layout(title_text = 'Distribution over Neighbours', title_x=0.5, titlefont_size = 20, plot_bgcolor = 'rgba(0, 0, 0, 0)')\n",
    "fig.to_image(format=\"png\", engine=\"kaleido\")\n",
    "fig.write_image('{}/{}_dist_neigh.png'.format(sim_dir, name))\n",
    "fig.show()\n"
   ]
  },
  {
   "cell_type": "code",
   "execution_count": 15,
   "metadata": {},
   "outputs": [
    {
     "output_type": "display_data",
     "data": {
      "application/vnd.plotly.v1+json": {
       "config": {
        "plotlyServerURL": "https://plot.ly"
       },
       "data": [
        {
         "hoverinfo": "text",
         "marker": {
          "cmax": 300,
          "cmin": 0,
          "color": [],
          "colorbar": {
           "thickness": 15,
           "title": {
            "side": "top",
            "text": "Max. Node<br>Idleness"
           },
           "xanchor": "right"
          },
          "colorscale": [
           [
            0,
            "rgb(247,251,255)"
           ],
           [
            0.125,
            "rgb(222,235,247)"
           ],
           [
            0.25,
            "rgb(198,219,239)"
           ],
           [
            0.375,
            "rgb(158,202,225)"
           ],
           [
            0.5,
            "rgb(107,174,214)"
           ],
           [
            0.625,
            "rgb(66,146,198)"
           ],
           [
            0.75,
            "rgb(33,113,181)"
           ],
           [
            0.875,
            "rgb(8,81,156)"
           ],
           [
            1,
            "rgb(8,48,107)"
           ]
          ],
          "line": {
           "width": 0
          },
          "reversescale": false,
          "showscale": false,
          "size": 4
         },
         "mode": "markers",
         "type": "scatter3d",
         "x": [
          911.79,
          50.46,
          905.89,
          880.95,
          636.48,
          685.32,
          602.91,
          533.97,
          623.27,
          700.06,
          428.87,
          724.34,
          64.18,
          655.13,
          821.47,
          974.69,
          869.19,
          833.61,
          951.71,
          832.44,
          958.64,
          366.48,
          306.28,
          474.09
         ],
         "y": [
          51.93,
          725.19,
          259.5,
          406.37,
          868.59,
          945.45,
          456.74,
          197.08,
          202.98,
          542.57,
          547.38,
          624.43,
          818.58,
          0.81,
          0,
          264.03,
          533.99,
          607.54,
          535.54,
          747.57,
          412.05,
          386.99,
          885.79,
          677.68
         ],
         "z": [
          0,
          0,
          0,
          0,
          0,
          0,
          0,
          0,
          0,
          0,
          0,
          0,
          0,
          0,
          0,
          0,
          0,
          0,
          0,
          0,
          0,
          0,
          0,
          0
         ]
        },
        {
         "hoverinfo": "none",
         "mode": "lines",
         "opacity": 1,
         "type": "scatter3d",
         "x": [
          911.79,
          821.47,
          null,
          911.79,
          974.69,
          null,
          911.79,
          905.89,
          null,
          50.46,
          474.09,
          null,
          50.46,
          366.48,
          null,
          50.46,
          64.18,
          null,
          905.89,
          974.69,
          null,
          905.89,
          880.95,
          null,
          905.89,
          911.79,
          null,
          880.95,
          905.89,
          null,
          880.95,
          958.64,
          null,
          880.95,
          869.19,
          null,
          636.48,
          685.32,
          null,
          685.32,
          474.09,
          null,
          685.32,
          636.48,
          null,
          685.32,
          832.44,
          null,
          602.91,
          623.27,
          null,
          533.97,
          655.13,
          null,
          533.97,
          623.27,
          null,
          533.97,
          366.48,
          null,
          623.27,
          533.97,
          null,
          623.27,
          655.13,
          null,
          623.27,
          602.91,
          null,
          700.06,
          724.34,
          null,
          700.06,
          428.87,
          null,
          700.06,
          869.19,
          null,
          428.87,
          366.48,
          null,
          428.87,
          474.09,
          null,
          428.87,
          700.06,
          null,
          724.34,
          700.06,
          null,
          64.18,
          50.46,
          null,
          64.18,
          306.28,
          null,
          655.13,
          821.47,
          null,
          655.13,
          533.97,
          null,
          655.13,
          623.27,
          null,
          821.47,
          655.13,
          null,
          821.47,
          911.79,
          null,
          974.69,
          905.89,
          null,
          974.69,
          911.79,
          null,
          974.69,
          958.64,
          null,
          869.19,
          880.95,
          null,
          869.19,
          700.06,
          null,
          869.19,
          833.61,
          null,
          869.19,
          951.71,
          null,
          833.61,
          832.44,
          null,
          833.61,
          951.71,
          null,
          833.61,
          869.19,
          null,
          951.71,
          869.19,
          null,
          951.71,
          958.64,
          null,
          951.71,
          833.61,
          null,
          832.44,
          685.32,
          null,
          832.44,
          833.61,
          null,
          832.44,
          474.09,
          null,
          958.64,
          880.95,
          null,
          958.64,
          974.69,
          null,
          958.64,
          951.71,
          null,
          366.48,
          533.97,
          null,
          366.48,
          50.46,
          null,
          366.48,
          428.87,
          null,
          306.28,
          64.18,
          null,
          474.09,
          50.46,
          null,
          474.09,
          428.87,
          null,
          474.09,
          832.44,
          null,
          474.09,
          685.32,
          null
         ],
         "y": [
          51.93,
          0,
          null,
          51.93,
          264.03,
          null,
          51.93,
          259.5,
          null,
          725.19,
          677.68,
          null,
          725.19,
          386.99,
          null,
          725.19,
          818.58,
          null,
          259.5,
          264.03,
          null,
          259.5,
          406.37,
          null,
          259.5,
          51.93,
          null,
          406.37,
          259.5,
          null,
          406.37,
          412.05,
          null,
          406.37,
          533.99,
          null,
          868.59,
          945.45,
          null,
          945.45,
          677.68,
          null,
          945.45,
          868.59,
          null,
          945.45,
          747.57,
          null,
          456.74,
          202.98,
          null,
          197.08,
          0.81,
          null,
          197.08,
          202.98,
          null,
          197.08,
          386.99,
          null,
          202.98,
          197.08,
          null,
          202.98,
          0.81,
          null,
          202.98,
          456.74,
          null,
          542.57,
          624.43,
          null,
          542.57,
          547.38,
          null,
          542.57,
          533.99,
          null,
          547.38,
          386.99,
          null,
          547.38,
          677.68,
          null,
          547.38,
          542.57,
          null,
          624.43,
          542.57,
          null,
          818.58,
          725.19,
          null,
          818.58,
          885.79,
          null,
          0.81,
          0,
          null,
          0.81,
          197.08,
          null,
          0.81,
          202.98,
          null,
          0,
          0.81,
          null,
          0,
          51.93,
          null,
          264.03,
          259.5,
          null,
          264.03,
          51.93,
          null,
          264.03,
          412.05,
          null,
          533.99,
          406.37,
          null,
          533.99,
          542.57,
          null,
          533.99,
          607.54,
          null,
          533.99,
          535.54,
          null,
          607.54,
          747.57,
          null,
          607.54,
          535.54,
          null,
          607.54,
          533.99,
          null,
          535.54,
          533.99,
          null,
          535.54,
          412.05,
          null,
          535.54,
          607.54,
          null,
          747.57,
          945.45,
          null,
          747.57,
          607.54,
          null,
          747.57,
          677.68,
          null,
          412.05,
          406.37,
          null,
          412.05,
          264.03,
          null,
          412.05,
          535.54,
          null,
          386.99,
          197.08,
          null,
          386.99,
          725.19,
          null,
          386.99,
          547.38,
          null,
          885.79,
          818.58,
          null,
          677.68,
          725.19,
          null,
          677.68,
          547.38,
          null,
          677.68,
          747.57,
          null,
          677.68,
          945.45,
          null
         ],
         "z": [
          0,
          0,
          0,
          0,
          0,
          0,
          0,
          0,
          0,
          0,
          0,
          0,
          0,
          0,
          0,
          0,
          0,
          0,
          0,
          0,
          0,
          0,
          0,
          0,
          0,
          0,
          0,
          0,
          0,
          0,
          0,
          0,
          0,
          0,
          0,
          0,
          0,
          0,
          0,
          0,
          0,
          0,
          0,
          0,
          0,
          0,
          0,
          0,
          0,
          0,
          0,
          0,
          0,
          0,
          0,
          0,
          0,
          0,
          0,
          0,
          0,
          0,
          0,
          0,
          0,
          0,
          0,
          0,
          0,
          0,
          0,
          0,
          0,
          0,
          0,
          0,
          0,
          0,
          0,
          0,
          0,
          0,
          0,
          0,
          0,
          0,
          0,
          0,
          0,
          0,
          0,
          0,
          0,
          0,
          0,
          0,
          0,
          0,
          0,
          0,
          0,
          0,
          0,
          0,
          0,
          0,
          0,
          0,
          0,
          0,
          0,
          0,
          0,
          0,
          0,
          0,
          0,
          0,
          0,
          0,
          0,
          0,
          0,
          0,
          0,
          0,
          0,
          0,
          0,
          0,
          0,
          0,
          0,
          0,
          0,
          0,
          0,
          0,
          0,
          0,
          0,
          0,
          0,
          0,
          0,
          0,
          0,
          0,
          0,
          0,
          0,
          0,
          0,
          0,
          0,
          0,
          0,
          0,
          0,
          0,
          0,
          0,
          0,
          0,
          0,
          0,
          0,
          0,
          0,
          0,
          0,
          0,
          0,
          0,
          0,
          0,
          0,
          0,
          0,
          0,
          0,
          0,
          0,
          0,
          0,
          0,
          0,
          0,
          0,
          0,
          0,
          0
         ]
        },
        {
         "alphahull": -1,
         "name": "bot_0",
         "opacity": 0.3,
         "type": "mesh3d",
         "x": [
          911.79,
          50.46,
          905.89,
          880.95,
          636.48,
          685.32,
          602.91,
          533.97,
          623.27,
          700.06,
          428.87,
          724.34,
          64.18,
          655.13,
          821.47,
          974.69,
          869.19,
          833.61,
          951.71,
          832.44,
          958.64,
          366.48,
          306.28,
          474.09
         ],
         "y": [
          51.93,
          725.19,
          259.5,
          406.37,
          868.59,
          945.45,
          456.74,
          197.08,
          202.98,
          542.57,
          547.38,
          624.43,
          818.58,
          0.81,
          0,
          264.03,
          533.99,
          607.54,
          535.54,
          747.57,
          412.05,
          386.99,
          885.79,
          677.68
         ],
         "z": [
          35,
          52,
          35,
          35,
          19,
          38,
          18,
          35,
          37,
          51,
          34,
          17,
          36,
          35,
          36,
          34,
          36,
          37,
          35,
          37,
          35,
          50,
          18,
          37
         ]
        },
        {
         "alphahull": -1,
         "name": "bot_1",
         "opacity": 0.3,
         "type": "mesh3d",
         "x": [
          911.79,
          50.46,
          905.89,
          880.95,
          636.48,
          685.32,
          602.91,
          533.97,
          623.27,
          700.06,
          428.87,
          724.34,
          64.18,
          655.13,
          821.47,
          974.69,
          869.19,
          833.61,
          951.71,
          832.44,
          958.64,
          366.48,
          306.28,
          474.09
         ],
         "y": [
          51.93,
          725.19,
          259.5,
          406.37,
          868.59,
          945.45,
          456.74,
          197.08,
          202.98,
          542.57,
          547.38,
          624.43,
          818.58,
          0.81,
          0,
          264.03,
          533.99,
          607.54,
          535.54,
          747.57,
          412.05,
          386.99,
          885.79,
          677.68
         ],
         "z": [
          34,
          53,
          35,
          35,
          19,
          38,
          17,
          34,
          35,
          50,
          34,
          17,
          38,
          34,
          34,
          34,
          36,
          37,
          36,
          37,
          36,
          50,
          19,
          37
         ]
        },
        {
         "alphahull": -1,
         "name": "bot_2",
         "opacity": 0.3,
         "type": "mesh3d",
         "x": [
          911.79,
          50.46,
          905.89,
          880.95,
          636.48,
          685.32,
          602.91,
          533.97,
          623.27,
          700.06,
          428.87,
          724.34,
          64.18,
          655.13,
          821.47,
          974.69,
          869.19,
          833.61,
          951.71,
          832.44,
          958.64,
          366.48,
          306.28,
          474.09
         ],
         "y": [
          51.93,
          725.19,
          259.5,
          406.37,
          868.59,
          945.45,
          456.74,
          197.08,
          202.98,
          542.57,
          547.38,
          624.43,
          818.58,
          0.81,
          0,
          264.03,
          533.99,
          607.54,
          535.54,
          747.57,
          412.05,
          386.99,
          885.79,
          677.68
         ],
         "z": [
          36,
          55,
          37,
          36,
          18,
          36,
          18,
          36,
          37,
          53,
          35,
          18,
          38,
          36,
          36,
          36,
          36,
          35,
          35,
          35,
          35,
          53,
          19,
          36
         ]
        },
        {
         "alphahull": -1,
         "name": "bot_3",
         "opacity": 0.3,
         "type": "mesh3d",
         "x": [
          911.79,
          50.46,
          905.89,
          880.95,
          636.48,
          685.32,
          602.91,
          533.97,
          623.27,
          700.06,
          428.87,
          724.34,
          64.18,
          655.13,
          821.47,
          974.69,
          869.19,
          833.61,
          951.71,
          832.44,
          958.64,
          366.48,
          306.28,
          474.09
         ],
         "y": [
          51.93,
          725.19,
          259.5,
          406.37,
          868.59,
          945.45,
          456.74,
          197.08,
          202.98,
          542.57,
          547.38,
          624.43,
          818.58,
          0.81,
          0,
          264.03,
          533.99,
          607.54,
          535.54,
          747.57,
          412.05,
          386.99,
          885.79,
          677.68
         ],
         "z": [
          58,
          56,
          30,
          29,
          29,
          58,
          29,
          29,
          58,
          58,
          29,
          29,
          56,
          58,
          58,
          30,
          30,
          30,
          31,
          29,
          30,
          28,
          28,
          29
         ]
        },
        {
         "alphahull": -1,
         "name": "bot_4",
         "opacity": 0.3,
         "type": "mesh3d",
         "x": [
          911.79,
          50.46,
          905.89,
          880.95,
          636.48,
          685.32,
          602.91,
          533.97,
          623.27,
          700.06,
          428.87,
          724.34,
          64.18,
          655.13,
          821.47,
          974.69,
          869.19,
          833.61,
          951.71,
          832.44,
          958.64,
          366.48,
          306.28,
          474.09
         ],
         "y": [
          51.93,
          725.19,
          259.5,
          406.37,
          868.59,
          945.45,
          456.74,
          197.08,
          202.98,
          542.57,
          547.38,
          624.43,
          818.58,
          0.81,
          0,
          264.03,
          533.99,
          607.54,
          535.54,
          747.57,
          412.05,
          386.99,
          885.79,
          677.68
         ],
         "z": [
          54,
          54,
          27,
          27,
          26,
          53,
          26,
          54,
          53,
          53,
          27,
          26,
          54,
          54,
          54,
          27,
          27,
          27,
          27,
          27,
          28,
          54,
          27,
          27
         ]
        },
        {
         "alphahull": -1,
         "name": "bot_5",
         "opacity": 0.3,
         "type": "mesh3d",
         "x": [
          911.79,
          50.46,
          905.89,
          880.95,
          636.48,
          685.32,
          602.91,
          533.97,
          623.27,
          700.06,
          428.87,
          724.34,
          64.18,
          655.13,
          821.47,
          974.69,
          869.19,
          833.61,
          951.71,
          832.44,
          958.64,
          366.48,
          306.28,
          474.09
         ],
         "y": [
          51.93,
          725.19,
          259.5,
          406.37,
          868.59,
          945.45,
          456.74,
          197.08,
          202.98,
          542.57,
          547.38,
          624.43,
          818.58,
          0.81,
          0,
          264.03,
          533.99,
          607.54,
          535.54,
          747.57,
          412.05,
          386.99,
          885.79,
          677.68
         ],
         "z": [
          35,
          52,
          35,
          35,
          18,
          36,
          19,
          35,
          38,
          50,
          33,
          17,
          36,
          35,
          35,
          35,
          36,
          36,
          35,
          36,
          35,
          50,
          18,
          36
         ]
        }
       ],
       "layout": {
        "hovermode": "closest",
        "margin": {
         "b": 20,
         "l": 5,
         "r": 0,
         "t": 40
        },
        "showlegend": false,
        "template": {
         "data": {
          "bar": [
           {
            "error_x": {
             "color": "#2a3f5f"
            },
            "error_y": {
             "color": "#2a3f5f"
            },
            "marker": {
             "line": {
              "color": "#E5ECF6",
              "width": 0.5
             }
            },
            "type": "bar"
           }
          ],
          "barpolar": [
           {
            "marker": {
             "line": {
              "color": "#E5ECF6",
              "width": 0.5
             }
            },
            "type": "barpolar"
           }
          ],
          "carpet": [
           {
            "aaxis": {
             "endlinecolor": "#2a3f5f",
             "gridcolor": "white",
             "linecolor": "white",
             "minorgridcolor": "white",
             "startlinecolor": "#2a3f5f"
            },
            "baxis": {
             "endlinecolor": "#2a3f5f",
             "gridcolor": "white",
             "linecolor": "white",
             "minorgridcolor": "white",
             "startlinecolor": "#2a3f5f"
            },
            "type": "carpet"
           }
          ],
          "choropleth": [
           {
            "colorbar": {
             "outlinewidth": 0,
             "ticks": ""
            },
            "type": "choropleth"
           }
          ],
          "contour": [
           {
            "colorbar": {
             "outlinewidth": 0,
             "ticks": ""
            },
            "colorscale": [
             [
              0,
              "#0d0887"
             ],
             [
              0.1111111111111111,
              "#46039f"
             ],
             [
              0.2222222222222222,
              "#7201a8"
             ],
             [
              0.3333333333333333,
              "#9c179e"
             ],
             [
              0.4444444444444444,
              "#bd3786"
             ],
             [
              0.5555555555555556,
              "#d8576b"
             ],
             [
              0.6666666666666666,
              "#ed7953"
             ],
             [
              0.7777777777777778,
              "#fb9f3a"
             ],
             [
              0.8888888888888888,
              "#fdca26"
             ],
             [
              1,
              "#f0f921"
             ]
            ],
            "type": "contour"
           }
          ],
          "contourcarpet": [
           {
            "colorbar": {
             "outlinewidth": 0,
             "ticks": ""
            },
            "type": "contourcarpet"
           }
          ],
          "heatmap": [
           {
            "colorbar": {
             "outlinewidth": 0,
             "ticks": ""
            },
            "colorscale": [
             [
              0,
              "#0d0887"
             ],
             [
              0.1111111111111111,
              "#46039f"
             ],
             [
              0.2222222222222222,
              "#7201a8"
             ],
             [
              0.3333333333333333,
              "#9c179e"
             ],
             [
              0.4444444444444444,
              "#bd3786"
             ],
             [
              0.5555555555555556,
              "#d8576b"
             ],
             [
              0.6666666666666666,
              "#ed7953"
             ],
             [
              0.7777777777777778,
              "#fb9f3a"
             ],
             [
              0.8888888888888888,
              "#fdca26"
             ],
             [
              1,
              "#f0f921"
             ]
            ],
            "type": "heatmap"
           }
          ],
          "heatmapgl": [
           {
            "colorbar": {
             "outlinewidth": 0,
             "ticks": ""
            },
            "colorscale": [
             [
              0,
              "#0d0887"
             ],
             [
              0.1111111111111111,
              "#46039f"
             ],
             [
              0.2222222222222222,
              "#7201a8"
             ],
             [
              0.3333333333333333,
              "#9c179e"
             ],
             [
              0.4444444444444444,
              "#bd3786"
             ],
             [
              0.5555555555555556,
              "#d8576b"
             ],
             [
              0.6666666666666666,
              "#ed7953"
             ],
             [
              0.7777777777777778,
              "#fb9f3a"
             ],
             [
              0.8888888888888888,
              "#fdca26"
             ],
             [
              1,
              "#f0f921"
             ]
            ],
            "type": "heatmapgl"
           }
          ],
          "histogram": [
           {
            "marker": {
             "colorbar": {
              "outlinewidth": 0,
              "ticks": ""
             }
            },
            "type": "histogram"
           }
          ],
          "histogram2d": [
           {
            "colorbar": {
             "outlinewidth": 0,
             "ticks": ""
            },
            "colorscale": [
             [
              0,
              "#0d0887"
             ],
             [
              0.1111111111111111,
              "#46039f"
             ],
             [
              0.2222222222222222,
              "#7201a8"
             ],
             [
              0.3333333333333333,
              "#9c179e"
             ],
             [
              0.4444444444444444,
              "#bd3786"
             ],
             [
              0.5555555555555556,
              "#d8576b"
             ],
             [
              0.6666666666666666,
              "#ed7953"
             ],
             [
              0.7777777777777778,
              "#fb9f3a"
             ],
             [
              0.8888888888888888,
              "#fdca26"
             ],
             [
              1,
              "#f0f921"
             ]
            ],
            "type": "histogram2d"
           }
          ],
          "histogram2dcontour": [
           {
            "colorbar": {
             "outlinewidth": 0,
             "ticks": ""
            },
            "colorscale": [
             [
              0,
              "#0d0887"
             ],
             [
              0.1111111111111111,
              "#46039f"
             ],
             [
              0.2222222222222222,
              "#7201a8"
             ],
             [
              0.3333333333333333,
              "#9c179e"
             ],
             [
              0.4444444444444444,
              "#bd3786"
             ],
             [
              0.5555555555555556,
              "#d8576b"
             ],
             [
              0.6666666666666666,
              "#ed7953"
             ],
             [
              0.7777777777777778,
              "#fb9f3a"
             ],
             [
              0.8888888888888888,
              "#fdca26"
             ],
             [
              1,
              "#f0f921"
             ]
            ],
            "type": "histogram2dcontour"
           }
          ],
          "mesh3d": [
           {
            "colorbar": {
             "outlinewidth": 0,
             "ticks": ""
            },
            "type": "mesh3d"
           }
          ],
          "parcoords": [
           {
            "line": {
             "colorbar": {
              "outlinewidth": 0,
              "ticks": ""
             }
            },
            "type": "parcoords"
           }
          ],
          "pie": [
           {
            "automargin": true,
            "type": "pie"
           }
          ],
          "scatter": [
           {
            "marker": {
             "colorbar": {
              "outlinewidth": 0,
              "ticks": ""
             }
            },
            "type": "scatter"
           }
          ],
          "scatter3d": [
           {
            "line": {
             "colorbar": {
              "outlinewidth": 0,
              "ticks": ""
             }
            },
            "marker": {
             "colorbar": {
              "outlinewidth": 0,
              "ticks": ""
             }
            },
            "type": "scatter3d"
           }
          ],
          "scattercarpet": [
           {
            "marker": {
             "colorbar": {
              "outlinewidth": 0,
              "ticks": ""
             }
            },
            "type": "scattercarpet"
           }
          ],
          "scattergeo": [
           {
            "marker": {
             "colorbar": {
              "outlinewidth": 0,
              "ticks": ""
             }
            },
            "type": "scattergeo"
           }
          ],
          "scattergl": [
           {
            "marker": {
             "colorbar": {
              "outlinewidth": 0,
              "ticks": ""
             }
            },
            "type": "scattergl"
           }
          ],
          "scattermapbox": [
           {
            "marker": {
             "colorbar": {
              "outlinewidth": 0,
              "ticks": ""
             }
            },
            "type": "scattermapbox"
           }
          ],
          "scatterpolar": [
           {
            "marker": {
             "colorbar": {
              "outlinewidth": 0,
              "ticks": ""
             }
            },
            "type": "scatterpolar"
           }
          ],
          "scatterpolargl": [
           {
            "marker": {
             "colorbar": {
              "outlinewidth": 0,
              "ticks": ""
             }
            },
            "type": "scatterpolargl"
           }
          ],
          "scatterternary": [
           {
            "marker": {
             "colorbar": {
              "outlinewidth": 0,
              "ticks": ""
             }
            },
            "type": "scatterternary"
           }
          ],
          "surface": [
           {
            "colorbar": {
             "outlinewidth": 0,
             "ticks": ""
            },
            "colorscale": [
             [
              0,
              "#0d0887"
             ],
             [
              0.1111111111111111,
              "#46039f"
             ],
             [
              0.2222222222222222,
              "#7201a8"
             ],
             [
              0.3333333333333333,
              "#9c179e"
             ],
             [
              0.4444444444444444,
              "#bd3786"
             ],
             [
              0.5555555555555556,
              "#d8576b"
             ],
             [
              0.6666666666666666,
              "#ed7953"
             ],
             [
              0.7777777777777778,
              "#fb9f3a"
             ],
             [
              0.8888888888888888,
              "#fdca26"
             ],
             [
              1,
              "#f0f921"
             ]
            ],
            "type": "surface"
           }
          ],
          "table": [
           {
            "cells": {
             "fill": {
              "color": "#EBF0F8"
             },
             "line": {
              "color": "white"
             }
            },
            "header": {
             "fill": {
              "color": "#C8D4E3"
             },
             "line": {
              "color": "white"
             }
            },
            "type": "table"
           }
          ]
         },
         "layout": {
          "annotationdefaults": {
           "arrowcolor": "#2a3f5f",
           "arrowhead": 0,
           "arrowwidth": 1
          },
          "coloraxis": {
           "colorbar": {
            "outlinewidth": 0,
            "ticks": ""
           }
          },
          "colorscale": {
           "diverging": [
            [
             0,
             "#8e0152"
            ],
            [
             0.1,
             "#c51b7d"
            ],
            [
             0.2,
             "#de77ae"
            ],
            [
             0.3,
             "#f1b6da"
            ],
            [
             0.4,
             "#fde0ef"
            ],
            [
             0.5,
             "#f7f7f7"
            ],
            [
             0.6,
             "#e6f5d0"
            ],
            [
             0.7,
             "#b8e186"
            ],
            [
             0.8,
             "#7fbc41"
            ],
            [
             0.9,
             "#4d9221"
            ],
            [
             1,
             "#276419"
            ]
           ],
           "sequential": [
            [
             0,
             "#0d0887"
            ],
            [
             0.1111111111111111,
             "#46039f"
            ],
            [
             0.2222222222222222,
             "#7201a8"
            ],
            [
             0.3333333333333333,
             "#9c179e"
            ],
            [
             0.4444444444444444,
             "#bd3786"
            ],
            [
             0.5555555555555556,
             "#d8576b"
            ],
            [
             0.6666666666666666,
             "#ed7953"
            ],
            [
             0.7777777777777778,
             "#fb9f3a"
            ],
            [
             0.8888888888888888,
             "#fdca26"
            ],
            [
             1,
             "#f0f921"
            ]
           ],
           "sequentialminus": [
            [
             0,
             "#0d0887"
            ],
            [
             0.1111111111111111,
             "#46039f"
            ],
            [
             0.2222222222222222,
             "#7201a8"
            ],
            [
             0.3333333333333333,
             "#9c179e"
            ],
            [
             0.4444444444444444,
             "#bd3786"
            ],
            [
             0.5555555555555556,
             "#d8576b"
            ],
            [
             0.6666666666666666,
             "#ed7953"
            ],
            [
             0.7777777777777778,
             "#fb9f3a"
            ],
            [
             0.8888888888888888,
             "#fdca26"
            ],
            [
             1,
             "#f0f921"
            ]
           ]
          },
          "colorway": [
           "#636efa",
           "#EF553B",
           "#00cc96",
           "#ab63fa",
           "#FFA15A",
           "#19d3f3",
           "#FF6692",
           "#B6E880",
           "#FF97FF",
           "#FECB52"
          ],
          "font": {
           "color": "#2a3f5f"
          },
          "geo": {
           "bgcolor": "white",
           "lakecolor": "white",
           "landcolor": "#E5ECF6",
           "showlakes": true,
           "showland": true,
           "subunitcolor": "white"
          },
          "hoverlabel": {
           "align": "left"
          },
          "hovermode": "closest",
          "mapbox": {
           "style": "light"
          },
          "paper_bgcolor": "white",
          "plot_bgcolor": "#E5ECF6",
          "polar": {
           "angularaxis": {
            "gridcolor": "white",
            "linecolor": "white",
            "ticks": ""
           },
           "bgcolor": "#E5ECF6",
           "radialaxis": {
            "gridcolor": "white",
            "linecolor": "white",
            "ticks": ""
           }
          },
          "scene": {
           "xaxis": {
            "backgroundcolor": "#E5ECF6",
            "gridcolor": "white",
            "gridwidth": 2,
            "linecolor": "white",
            "showbackground": true,
            "ticks": "",
            "zerolinecolor": "white"
           },
           "yaxis": {
            "backgroundcolor": "#E5ECF6",
            "gridcolor": "white",
            "gridwidth": 2,
            "linecolor": "white",
            "showbackground": true,
            "ticks": "",
            "zerolinecolor": "white"
           },
           "zaxis": {
            "backgroundcolor": "#E5ECF6",
            "gridcolor": "white",
            "gridwidth": 2,
            "linecolor": "white",
            "showbackground": true,
            "ticks": "",
            "zerolinecolor": "white"
           }
          },
          "shapedefaults": {
           "line": {
            "color": "#2a3f5f"
           }
          },
          "ternary": {
           "aaxis": {
            "gridcolor": "white",
            "linecolor": "white",
            "ticks": ""
           },
           "baxis": {
            "gridcolor": "white",
            "linecolor": "white",
            "ticks": ""
           },
           "bgcolor": "#E5ECF6",
           "caxis": {
            "gridcolor": "white",
            "linecolor": "white",
            "ticks": ""
           }
          },
          "title": {
           "x": 0.05
          },
          "xaxis": {
           "automargin": true,
           "gridcolor": "white",
           "linecolor": "white",
           "ticks": "",
           "title": {
            "standoff": 15
           },
           "zerolinecolor": "white",
           "zerolinewidth": 2
          },
          "yaxis": {
           "automargin": true,
           "gridcolor": "white",
           "linecolor": "white",
           "ticks": "",
           "title": {
            "standoff": 15
           },
           "zerolinecolor": "white",
           "zerolinewidth": 2
          }
         }
        },
        "title": {
         "text": "Bot Visit Count",
         "x": 0.5
        },
        "xaxis": {
         "showgrid": false,
         "showticklabels": false,
         "zeroline": false
        },
        "yaxis": {
         "showgrid": false,
         "showticklabels": false,
         "zeroline": false
        }
       }
      }
     },
     "metadata": {}
    }
   ],
   "source": [
    "#Bot Histogram\n",
    "edge_trace = go.Scatter3d(x=edge_x, y=edge_y, z=[0] * len(edge_x), opacity=1, hoverinfo='none', mode='lines')\n",
    "\n",
    "node_trace = go.Scatter3d(\n",
    "    x=node_x, y=node_y,z=[0] * len(nodes),\n",
    "    mode='markers',\n",
    "    hoverinfo='text',\n",
    "    marker=dict(\n",
    "        showscale=False,\n",
    "        # colorscale options\n",
    "        #'Greys' | 'YlGnBu' | 'Greens' | 'YlOrRd' | 'Bluered' | 'RdBu' |\n",
    "        #'Reds' | 'Blues' | 'Picnic' | 'Rainbow' | 'Portland' | 'Jet' |\n",
    "        #'Hot' | 'Blackbody' | 'Earth' | 'Electric' | 'Viridis' |\n",
    "        colorscale='Blues',\n",
    "        reversescale=False,\n",
    "        color=[],\n",
    "        size=2 * d/10,\n",
    "        cmin = 0.,\n",
    "        cmax = 300.,\n",
    "        # opacity = 0.5,\n",
    "        # showscale = False,\n",
    "        colorbar=dict(\n",
    "            thickness=15,\n",
    "            title='Max. Node<br>Idleness',\n",
    "            xanchor='right',\n",
    "            titleside='top'\n",
    "        ),\n",
    "        line_width=0))\n",
    "\n",
    "fig = go.Figure(data=[node_trace, edge_trace],\n",
    "            layout=go.Layout(\n",
    "            title='Bot Visit Count',\n",
    "            # titlefont_size=16,\n",
    "            showlegend=False,\n",
    "            hovermode='closest',\n",
    "            margin=dict(b=20,l=5,r=0,t=40),\n",
    "            xaxis=dict(showgrid=False, zeroline=False, showticklabels=False),\n",
    "            yaxis=dict(showgrid=False, zeroline=False, showticklabels=False))\n",
    "            )\n",
    "\n",
    "for bot in df3.index:\n",
    "    # print(bot)\n",
    "    h = [df3[n][bot] for n in nodes]\n",
    "    fig.add_trace(go.Mesh3d(x = node_x, y = node_y, z = h, opacity= 0.3, name = bot))\n",
    "fig.update_layout(title_x=0.5)\n",
    "fig.update_traces(alphahull = -1, selector= dict(type = 'mesh3d'))\n",
    "fig.write_html('{}/{}_visit_count.html'.format(sim_dir, name))\n",
    "fig.show()"
   ]
  },
  {
   "cell_type": "code",
   "execution_count": 20,
   "metadata": {},
   "outputs": [
    {
     "output_type": "execute_result",
     "data": {
      "text/plain": [
       "Index(['use_sim_time', 'sim_length', 'graph', 'algo_name', 'init_bots',\n",
       "       'init_locations', 'random_string'],\n",
       "      dtype='object')"
      ]
     },
     "metadata": {},
     "execution_count": 20
    }
   ],
   "source": [
    "df_temp = pd.DataFrame(columns=['use_sim_time', 'sim_length', 'graph', 'algo_name', 'init_bots', 'init_locations', 'random_string'])\n",
    "df_temp.set_index('random_string')\n",
    "df_temp.to_csv(dirname + '/results_compiled.csv', index = False)\n",
    "df = pd.read_csv(dirname + '/results_compiled.csv')\n",
    "df.columns"
   ]
  },
  {
   "cell_type": "code",
   "execution_count": 14,
   "metadata": {},
   "outputs": [],
   "source": [
    "import glob\n",
    "\n",
    "config_files = glob.glob('/home/sdeepakmallya/sim_copy/config/*.yaml')\n"
   ]
  },
  {
   "cell_type": "code",
   "execution_count": 18,
   "metadata": {},
   "outputs": [],
   "source": [
    "count = []\n",
    "for c in config_files:\n",
    "    d = c.split('/')\n",
    "    d = d[-1].split('.')[0]\n",
    "    if os.path.exists('{}/outputs/{}_visits.in'.format(dirname, d)):\n",
    "        shutil.copy('{}/outputs/{}_visits.in'.format(dirname, d), '/home/sdeepakmallya/sim_copy/outputs')\n",
    "    else:\n",
    "        count.append(d)"
   ]
  },
  {
   "cell_type": "code",
   "execution_count": 11,
   "metadata": {},
   "outputs": [
    {
     "output_type": "stream",
     "name": "stdout",
     "text": [
      "{'fad': 123} {'fad': 123, 'afsdf': None}\n189.04425221261064\nIndex(['use_sim_time', 'sim_length', 'graph', 'algo_name', 'init_bots',\n       'init_locations', 'random_string'],\n      dtype='object')\nFalse\nFalse\n"
     ]
    }
   ],
   "source": [
    "a = {'fad': 123}\n",
    "b = a.copy()\n",
    "b['afsdf'] = None\n",
    "print(a, b)\n",
    "print(np.max(avg_idle))\n",
    "df = pd.read_csv(dirname + '/results_compiled.csv')\n",
    "print(df.columns)\n",
    "for i in b.keys():\n",
    "    print(i in df.columns)"
   ]
  }
 ]
}