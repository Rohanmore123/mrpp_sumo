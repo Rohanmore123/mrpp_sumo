{
 "cells": [
  {
   "cell_type": "code",
   "execution_count": 1,
   "metadata": {},
   "outputs": [],
   "source": [
    "import networkx as nx\n",
    "g = nx.read_graphml('/home/sdeepakmallya/mrpp_offline_problems/graphs/grid5/grid_5_5.graphml')\n",
    "priority_nodes = ['0', '4', '20', '24']\n",
    "nw = {n : 0.025 for n in g.nodes()}\n",
    "for pn in priority_nodes:\n",
    "    nw[pn] = 1"
   ]
  },
  {
   "cell_type": "code",
   "execution_count": 2,
   "metadata": {},
   "outputs": [
    {
     "name": "stdout",
     "output_type": "stream",
     "text": [
      "512\n",
      "3072\n"
     ]
    }
   ],
   "source": [
    "import persistent_monitoring_one_agent as pm1\n",
    "walk = pm1.minmax_latency_wrapper(g, nw)\n",
    "# sw, w = lw.minmax_latency_one_robot(gc, nw)\n",
    "# print(walk)\n",
    "# print(len(walk))"
   ]
  },
  {
   "cell_type": "code",
   "execution_count": 3,
   "metadata": {},
   "outputs": [
    {
     "name": "stdout",
     "output_type": "stream",
     "text": [
      "True\n",
      "True\n"
     ]
    }
   ],
   "source": [
    "import persistent_monitoring_multi_agent as pm2\n",
    "walks = pm2.latency_walks(g, nw, 3)"
   ]
  },
  {
   "cell_type": "code",
   "execution_count": 7,
   "metadata": {},
   "outputs": [
    {
     "data": {
      "text/plain": [
       "3"
      ]
     },
     "execution_count": 7,
     "metadata": {},
     "output_type": "execute_result"
    }
   ],
   "source": [
    "len(walks)\n"
   ]
  }
 ],
 "metadata": {
  "interpreter": {
   "hash": "916dbcbb3f70747c44a77c7bcd40155683ae19c65e1c03b4aa3499c5328201f1"
  },
  "kernelspec": {
   "display_name": "Python 3.8.10 64-bit",
   "language": "python",
   "name": "python3"
  },
  "language_info": {
   "codemirror_mode": {
    "name": "ipython",
    "version": 3
   },
   "file_extension": ".py",
   "mimetype": "text/x-python",
   "name": "python",
   "nbconvert_exporter": "python",
   "pygments_lexer": "ipython3",
   "version": "3.8.10"
  },
  "orig_nbformat": 4
 },
 "nbformat": 4,
 "nbformat_minor": 2
}
